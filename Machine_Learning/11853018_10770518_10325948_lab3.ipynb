{
 "cells": [
  {
   "cell_type": "markdown",
   "metadata": {
    "deletable": false,
    "editable": false,
    "nbgrader": {
     "checksum": "9a10081f57b90a368eb8daf62e3ba00e",
     "grade": false,
     "grade_id": "cell-02487845739eb4fd",
     "locked": true,
     "schema_version": 1,
     "solution": false
    }
   },
   "source": [
    "### Lab 3: Expectation Maximization and Variational Autoencoder\n",
    "\n",
    "### Machine Learning 2 (2017/2018)\n",
    "\n",
    "* The lab exercises should be made in groups of two or three people.\n",
    "* The deadline is Friday, 01.06.\n",
    "* Assignment should be submitted through BlackBoard! Make sure to include your and your teammates' names with the submission.\n",
    "* Attach the .IPYNB (IPython Notebook) file containing your code and answers. Naming of the file should be \"studentid1\\_studentid2\\_lab#\", for example, the attached file should be \"12345\\_12346\\_lab1.ipynb\". Only use underscores (\"\\_\") to connect ids, otherwise the files cannot be parsed.\n",
    "\n",
    "Notes on implementation:\n",
    "\n",
    "* You should write your code and answers in an IPython Notebook: http://ipython.org/notebook.html. If you have problems, please ask.\n",
    "* Use __one cell__ for code and markdown answers only!\n",
    "    * Put all code in the cell with the ```# YOUR CODE HERE``` comment and overwrite the ```raise NotImplementedError()``` line.\n",
    "    * For theoretical questions, put your solution using LaTeX style formatting in the YOUR ANSWER HERE cell.\n",
    "* Among the first lines of your notebook should be \"%pylab inline\". This imports all required modules, and your plots will appear inline.\n",
    "* Large parts of you notebook will be graded automatically. Therefore it is important that your notebook can be run completely without errors and within a reasonable time limit. To test your notebook before submission, select Kernel -> Restart \\& Run All.\n",
    "$\\newcommand{\\bx}{\\mathbf{x}} \\newcommand{\\bpi}{\\mathbf{\\pi}} \\newcommand{\\bmu}{\\mathbf{\\mu}} \\newcommand{\\bX}{\\mathbf{X}} \\newcommand{\\bZ}{\\mathbf{Z}} \\newcommand{\\bz}{\\mathbf{z}}$"
   ]
  },
  {
   "cell_type": "markdown",
   "metadata": {
    "deletable": false,
    "editable": false,
    "nbgrader": {
     "checksum": "e4e05229ee79b55d6589e1ea8de68f32",
     "grade": false,
     "grade_id": "cell-a0a6fdb7ca694bee",
     "locked": true,
     "schema_version": 1,
     "solution": false
    }
   },
   "source": [
    "### Installing PyTorch\n",
    "\n",
    "In this lab we will use PyTorch. PyTorch is an open source deep learning framework primarily developed by Facebook's artificial-intelligence research group. In order to install PyTorch in your conda environment go to https://pytorch.org and select your operating system, conda, Python 3.6, no cuda. Copy the text from the \"Run this command:\" box. Now open a terminal and activate your 'ml2labs' conda environment. Paste the text and run. After the installation is done you should restart Jupyter."
   ]
  },
  {
   "cell_type": "markdown",
   "metadata": {
    "deletable": false,
    "editable": false,
    "nbgrader": {
     "checksum": "d9c3d77f550b5fd93b34fd18825c47f0",
     "grade": false,
     "grade_id": "cell-746cac8d9a21943b",
     "locked": true,
     "schema_version": 1,
     "solution": false
    }
   },
   "source": [
    "### MNIST data\n",
    "\n",
    "In this Lab we will use several methods for unsupervised learning on the MNIST dataset of written digits. The dataset contains digital images of handwritten numbers $0$ through $9$. Each image has 28x28 pixels that each take 256 values in a range from white ($= 0$) to  black ($=1$). The labels belonging to the images are also included. \n",
    "Fortunately, PyTorch comes with a MNIST data loader. The first time you run the box below it will download the MNIST data set. That can take a couple of minutes.\n",
    "The main data types in PyTorch are tensors. For Part 1, we will convert those tensors to numpy arrays. In Part 2, we will use the torch module to directly work with PyTorch tensors."
   ]
  },
  {
   "cell_type": "code",
   "execution_count": 1,
   "metadata": {
    "deletable": false,
    "editable": false,
    "nbgrader": {
     "checksum": "4fbc152afa1255331d7b88bf00b7156c",
     "grade": false,
     "grade_id": "cell-7c995be0fda080c0",
     "locked": true,
     "schema_version": 1,
     "solution": false
    }
   },
   "outputs": [
    {
     "name": "stdout",
     "output_type": "stream",
     "text": [
      "Populating the interactive namespace from numpy and matplotlib\n"
     ]
    }
   ],
   "source": [
    "%pylab inline\n",
    "import torch\n",
    "from torchvision import datasets, transforms\n",
    "\n",
    "train_dataset = datasets.MNIST('../data', train=True, download=True,\n",
    "                   transform=transforms.Compose([\n",
    "                       transforms.ToTensor(),\n",
    "                       transforms.Normalize((0.1307,), (0.3081,))\n",
    "                   ]))\n",
    "\n",
    "train_labels = train_dataset.train_labels.numpy()\n",
    "train_data = train_dataset.train_data.numpy()\n",
    "# For EM we will use flattened data\n",
    "train_data = train_data.reshape(train_data.shape[0], -1)\n"
   ]
  },
  {
   "cell_type": "markdown",
   "metadata": {
    "deletable": false,
    "editable": false,
    "nbgrader": {
     "checksum": "4fc852f9bfb0bab10d4c23eada309e89",
     "grade": false,
     "grade_id": "cell-8b4a44df532b1867",
     "locked": true,
     "schema_version": 1,
     "solution": false
    }
   },
   "source": [
    "## Part 1: Expectation Maximization\n",
    "We will use the Expectation Maximization (EM) algorithm for the recognition of handwritten digits in the MNIST dataset. The images are modelled as a Bernoulli mixture model (see Bishop $\\S9.3.3$):\n",
    "$$\n",
    "p(\\bx|\\bmu, \\bpi) = \\sum_{k=1}^K  \\pi_k \\prod_{i=1}^D \\mu_{ki}^{x_i}(1-\\mu_{ki})^{(1-x_i)}\n",
    "$$\n",
    "where $x_i$ is the value of pixel $i$ in an image, $\\mu_{ki}$ represents the probability that pixel $i$ in class $k$ is black, and $\\{\\pi_1, \\ldots, \\pi_K\\}$ are the mixing coefficients of classes in the data. We want to use this data set to classify new images of handwritten numbers."
   ]
  },
  {
   "cell_type": "markdown",
   "metadata": {
    "deletable": false,
    "editable": false,
    "nbgrader": {
     "checksum": "54064637b7e7cf938c0f778d748a226a",
     "grade": false,
     "grade_id": "cell-af03fef663aa85b2",
     "locked": true,
     "schema_version": 1,
     "solution": false
    }
   },
   "source": [
    "### 1.1 Binary data (5 points)\n",
    "As we like to apply our Bernoulli mixture model, write a function `binarize` to convert the (flattened) MNIST data to binary images, where each pixel $x_i \\in \\{0,1\\}$, by thresholding at an appropriate level."
   ]
  },
  {
   "cell_type": "code",
   "execution_count": 2,
   "metadata": {
    "deletable": false,
    "nbgrader": {
     "checksum": "fe8607a4d734f7f26ef1ee1e54b33471",
     "grade": false,
     "grade_id": "cell-ec4365531ca57ef3",
     "locked": false,
     "schema_version": 1,
     "solution": true
    }
   },
   "outputs": [],
   "source": [
    "def binarize(X):\n",
    "    M=np.zeros(X.shape)\n",
    "    for i in range(X.shape[0]):\n",
    "        for j in range(X.shape[1]):\n",
    "            if X[i][j]>=100:\n",
    "                M[i][j]=1\n",
    "            else:\n",
    "                M[i][j]=0\n",
    "    # YOUR CODE HERE\n",
    "    #raise NotImplementedError()\n",
    "    return M"
   ]
  },
  {
   "cell_type": "code",
   "execution_count": 3,
   "metadata": {
    "deletable": false,
    "editable": false,
    "nbgrader": {
     "checksum": "231b2c9f29bc5c536c60cef4d74793a1",
     "grade": true,
     "grade_id": "cell-2f16f57cb68a83b3",
     "locked": true,
     "points": 5,
     "schema_version": 1,
     "solution": false
    }
   },
   "outputs": [],
   "source": [
    "# Test test test!\n",
    "bin_train_data = binarize(train_data)\n",
    "assert bin_train_data.dtype == np.float\n",
    "assert bin_train_data.shape == train_data.shape\n"
   ]
  },
  {
   "cell_type": "markdown",
   "metadata": {
    "deletable": false,
    "editable": false,
    "nbgrader": {
     "checksum": "a0a39404cc2f67078b399ee34653a3ac",
     "grade": false,
     "grade_id": "cell-462e747685e8670f",
     "locked": true,
     "schema_version": 1,
     "solution": false
    }
   },
   "source": [
    "Sample a few images of digits $2$, $3$ and $4$; and show both the original and the binarized image together with their label."
   ]
  },
  {
   "cell_type": "code",
   "execution_count": 4,
   "metadata": {
    "deletable": false,
    "nbgrader": {
     "checksum": "3f3c981f0fda5ba3bdfcefb9144305c7",
     "grade": true,
     "grade_id": "cell-784c6bd177a9aa42",
     "locked": false,
     "points": 5,
     "schema_version": 1,
     "solution": true
    }
   },
   "outputs": [
    {
     "data": {
      "text/plain": [
       "Text(0.5,0.98,'Binarized image')"
      ]
     },
     "execution_count": 4,
     "metadata": {},
     "output_type": "execute_result"
    },
    {
     "data": {
      "image/png": "[encoded data removed]",
      "text/plain": [
       "<Figure size 432x288 with 15 Axes>"
      ]
     },
     "metadata": {},
     "output_type": "display_data"
    },
    {
     "data": {
      "image/png": "[encoded data removed]",
      "text/plain": [
       "<Figure size 432x288 with 15 Axes>"
      ]
     },
     "metadata": {},
     "output_type": "display_data"
    }
   ],
   "source": [
    "digit_2_i=np.where(train_labels ==2)\n",
    "digit_3_i=np.where(train_labels ==3)\n",
    "digit_4_i=np.where(train_labels ==4)\n",
    "\n",
    "plt.figure()\n",
    "for i in range(5):\n",
    "    ax = plt.subplot(3,5,i+1)\n",
    "    plt.imshow(train_data[digit_2_i[0][i],:].reshape((28, 28)), cmap='gray')\n",
    "    ax.set_title(train_labels[digit_2_i[0][i]])\n",
    "    ay = plt.subplot(3,5,i+6)\n",
    "    plt.imshow(train_data[digit_3_i[0][i],:].reshape((28, 28)), cmap='gray')\n",
    "    ay.set_title(train_labels[digit_3_i[0][i]])\n",
    "    az = plt.subplot(3,5,i+11)\n",
    "    plt.imshow(train_data[digit_4_i[0][i],:].reshape((28, 28)), cmap='gray')\n",
    "    az.set_title(train_labels[digit_4_i[0][i]])\n",
    "plt.suptitle('Original image')\n",
    "\n",
    "plt.figure()\n",
    "for i in range(5):\n",
    "    ax = plt.subplot(3,5,i+1)\n",
    "    plt.imshow(bin_train_data[digit_2_i[0][i],:].reshape((28, 28)), cmap='gray')\n",
    "    ax.set_title(train_labels[digit_2_i[0][i]])\n",
    "    ay = plt.subplot(3,5,i+6)\n",
    "    plt.imshow(bin_train_data[digit_3_i[0][i],:].reshape((28, 28)), cmap='gray')\n",
    "    ay.set_title(train_labels[digit_3_i[0][i]])\n",
    "    az = plt.subplot(3,5,i+11)\n",
    "    plt.imshow(bin_train_data[digit_4_i[0][i],:].reshape((28, 28)), cmap='gray')\n",
    "    az.set_title(train_labels[digit_4_i[0][i]])\n",
    "plt.suptitle('Binarized image')\n",
    "\n",
    "# YOUR CODE HERE\n",
    "#raise NotImplementedError()"
   ]
  },
  {
   "cell_type": "markdown",
   "metadata": {
    "deletable": false,
    "editable": false,
    "nbgrader": {
     "checksum": "4b9da574d24193df76e96ed8ca62c7b0",
     "grade": false,
     "grade_id": "cell-56b33654497d4052",
     "locked": true,
     "schema_version": 1,
     "solution": false
    }
   },
   "source": [
    "### 1.2 Implementation (40 points)\n",
    "You are going to write a function ```EM(X, K, max_iter)``` that implements the EM algorithm on the Bernoulli mixture model. \n",
    "\n",
    "The only parameters the function has are:\n",
    "* ```X``` :: (NxD) array of input training images\n",
    "* ```K``` :: size of the latent space\n",
    "* ```max_iter``` :: maximum number of iterations, i.e. one E-step and one M-step\n",
    "\n",
    "You are free to specify your return statement.\n",
    "\n",
    "Make sure you use a sensible way of terminating the iteration process early to prevent unnecessarily running through all epochs. Vectorize computations using ```numpy``` as  much as possible.\n",
    "\n",
    "You should implement the `E_step(X, mu, pi)` and `M_step(X, gamma)` separately in the functions defined below. These you can then use in your function `EM(X, K, max_iter)`."
   ]
  },
  {
   "cell_type": "code",
   "execution_count": 6,
   "metadata": {
    "deletable": false,
    "nbgrader": {
     "checksum": "316c9131692747c363b5db8e9091d362",
     "grade": false,
     "grade_id": "cell-882b13c117a73cc4",
     "locked": false,
     "schema_version": 1,
     "solution": true
    }
   },
   "outputs": [],
   "source": [
    "def E_step(X, mu, pi):\n",
    "    gamma=np.zeros((X.shape[0], mu.shape[0]))\n",
    "           \n",
    "    for n in range(gamma.shape[0]):\n",
    "        for k in range(mu.shape[0]):\n",
    "            gamma[n][k]=pi[k]*np.prod(mu[k,:]**X[n,:]*(1-mu[k,:])**(1-X[n,:]))\n",
    "            \n",
    "        gamma[n,:]= gamma[n,:]/sum(gamma[n,:])\n",
    "        \n",
    "    # YOUR CODE HERE\n",
    "    #raise NotImplementedError()\n",
    "    return gamma"
   ]
  },
  {
   "cell_type": "code",
   "execution_count": 7,
   "metadata": {
    "deletable": false,
    "editable": false,
    "nbgrader": {
     "checksum": "1418f4014e98024fc97446ce27766c1d",
     "grade": true,
     "grade_id": "cell-f7c7dd52d82e2498",
     "locked": true,
     "points": 15,
     "schema_version": 1,
     "solution": false
    }
   },
   "outputs": [],
   "source": [
    "# Let's test on 5 datapoints\n",
    "n_test = 5\n",
    "X_test = bin_train_data[:n_test]\n",
    "D_test, K_test = X_test.shape[1], 10\n",
    "\n",
    "np.random.seed(2018)\n",
    "mu_test = np.random.uniform(low=.25, high=.75, size=(K_test,D_test))\n",
    "pi_test = np.ones(K_test) / K_test\n",
    "\n",
    "gamma_test = E_step(X_test, mu_test, pi_test)\n",
    "assert gamma_test.shape == (n_test, K_test)\n"
   ]
  },
  {
   "cell_type": "code",
   "execution_count": 8,
   "metadata": {
    "deletable": false,
    "nbgrader": {
     "checksum": "2c426a613653174795cd9c8327ab6e20",
     "grade": false,
     "grade_id": "cell-f1b11b8765bd1ef6",
     "locked": false,
     "schema_version": 1,
     "solution": true
    }
   },
   "outputs": [],
   "source": [
    "def M_step(X, gamma):\n",
    "    \n",
    "    #NK=np.zeros((gamma.shape[1],1))\n",
    "    NK = np.sum(gamma, axis = 0)[:,None]\n",
    "    \n",
    "    #for k in range(gamma.shape[1]):\n",
    "     #   NK[k]=sum(gamma[:,k])\n",
    "        \n",
    "    mu=gamma.T.dot(X)/NK\n",
    "    pi=NK/X.shape[0]\n",
    "    pi=pi.reshape(-1)\n",
    "    \n",
    "    # YOUR CODE HERE\n",
    "    #raise NotImplementedError()\n",
    "    return mu, pi"
   ]
  },
  {
   "cell_type": "code",
   "execution_count": 9,
   "metadata": {
    "deletable": false,
    "editable": false,
    "nbgrader": {
     "checksum": "0f60d48b8b22063cef560b42944a0aa4",
     "grade": true,
     "grade_id": "cell-6e7c751b30acfd45",
     "locked": true,
     "points": 15,
     "schema_version": 1,
     "solution": false
    }
   },
   "outputs": [],
   "source": [
    "# Oh, let's test again\n",
    "mu_test, pi_test = M_step(X_test, gamma_test)\n",
    "\n",
    "assert mu_test.shape == (K_test,D_test)\n",
    "assert pi_test.shape == (K_test, )\n"
   ]
  },
  {
   "cell_type": "code",
   "execution_count": 10,
   "metadata": {
    "deletable": false,
    "nbgrader": {
     "checksum": "acfec6384b058cb0ce1932006fbfebc4",
     "grade": true,
     "grade_id": "cell-d6c4368246dee7e6",
     "locked": false,
     "points": 10,
     "schema_version": 1,
     "solution": true
    }
   },
   "outputs": [],
   "source": [
    "def EM(X, K, max_iter, mu=None, pi=None, gamma=None):\n",
    "    \n",
    "    if type(mu)==type(None):\n",
    "        mu=np.random.uniform(low=.25, high=.75, size=(K,X.shape[1]))\n",
    "        \n",
    "    if type(pi)==type(None):\n",
    "        pi=np.ones(K) / K\n",
    "    \n",
    "\n",
    "    threshold_mu = 0.001\n",
    "    threshold_pi = 0.0001\n",
    "    num_iterations = 0\n",
    "    \n",
    "    for i in range(max_iter):\n",
    "\n",
    "        # skip first time if gamma was already given as parameter\n",
    "        if (i == 0) and type(gamma) != type(None):\n",
    "            pass\n",
    "        else:\n",
    "            gamma=E_step(X,mu,pi)\n",
    "            \n",
    "       # print(gamma)\n",
    "        mu_new,pi_new=M_step(X,gamma)\n",
    "      #  print(mu,pi)\n",
    "\n",
    "    #Early stop if already converged:\n",
    "        if sum((mu-mu_new)**2) < threshold_mu and sum((pi-pi_new)**2) < threshold_pi:\n",
    "            mu=mu_new\n",
    "            pi=pi_new\n",
    "            num_iterations = 1+i\n",
    "            break;\n",
    "        else:\n",
    "            mu=mu_new\n",
    "            pi=pi_new\n",
    "    \n",
    "    return gamma, mu, pi, num_iterations\n",
    "    # YOUR CODE HERE\n",
    "   # raise NotImplementedError()"
   ]
  },
  {
   "cell_type": "markdown",
   "metadata": {
    "deletable": false,
    "editable": false,
    "nbgrader": {
     "checksum": "b4fc12faa0da660f7a4d9cc7deb41b25",
     "grade": false,
     "grade_id": "cell-e1077ed3b83489be",
     "locked": true,
     "schema_version": 1,
     "solution": false
    }
   },
   "source": [
    "### 1.3 Three digits experiment (10 points)\n",
    "In analogue with Bishop $\\S9.3.3$, sample a training set consisting of only __binary__ images of written digits $2$, $3$, and $4$. Run your EM algorithm and show the reconstructed digits."
   ]
  },
  {
   "cell_type": "code",
   "execution_count": 11,
   "metadata": {
    "deletable": false,
    "nbgrader": {
     "checksum": "bdbce0fad0ed151063d4c489ce999e3e",
     "grade": true,
     "grade_id": "cell-477155d0264d7259",
     "locked": false,
     "points": 5,
     "schema_version": 1,
     "solution": true
    }
   },
   "outputs": [
    {
     "name": "stdout",
     "output_type": "stream",
     "text": [
      "number of iterations was: 9\n",
      "ratio num digits 2 in trainingset: 0.33227371591099214\n",
      "ratio num digits 3 in trainingset: 0.34192181138809885\n",
      "ratio num digits 4 in trainingset: 0.32580447270090906\n",
      "mixing coefficients are: [0.34829781 0.31697961 0.33472258]\n"
     ]
    },
    {
     "data": {
      "image/png": "[encoded data removed]",
      "text/plain": [
       "<Figure size 432x288 with 1 Axes>"
      ]
     },
     "metadata": {},
     "output_type": "display_data"
    },
    {
     "data": {
      "image/png": "[encoded data removed]",
      "text/plain": [
       "<Figure size 432x288 with 1 Axes>"
      ]
     },
     "metadata": {},
     "output_type": "display_data"
    },
    {
     "data": {
      "image/png": "[encoded data removed]",
      "text/plain": [
       "<Figure size 432x288 with 1 Axes>"
      ]
     },
     "metadata": {},
     "output_type": "display_data"
    }
   ],
   "source": [
    "digit_2=bin_train_data[digit_2_i[0]]\n",
    "digit_3=bin_train_data[digit_3_i[0]]    \n",
    "digit_4=bin_train_data[digit_4_i[0]]\n",
    "\n",
    "train_234=np.concatenate((digit_2, digit_3, digit_4),axis=0 ) \n",
    "train_234_label=np.concatenate((train_labels[digit_2_i[0]], train_labels[digit_3_i[0]], train_labels[digit_4_i[0]]),axis=0)\n",
    "pi=[]\n",
    "K=3\n",
    "max_iter=100\n",
    "\n",
    "gamma, mu, pi, num_iters=EM(train_234, K, max_iter, )\n",
    "plt.figure()\n",
    "plt.imshow(mu[0].reshape((28, 28)), cmap='gray')\n",
    "plt.figure()\n",
    "plt.imshow(mu[1].reshape((28, 28)), cmap='gray')\n",
    "plt.figure()\n",
    "plt.imshow(mu[2].reshape((28, 28)), cmap='gray')\n",
    "\n",
    "\n",
    "print(\"number of iterations was: \" + str(num_iters))\n",
    "print(\"ratio num digits 2 in trainingset: \" + str(len(digit_2)/len(train_234)))\n",
    "print(\"ratio num digits 3 in trainingset: \" + str(len(digit_3)/len(train_234)))\n",
    "print(\"ratio num digits 4 in trainingset: \" + str(len(digit_4)/len(train_234)))\n",
    "print(\"mixing coefficients are: \" + str(pi))\n",
    "# YOUR CODE HERE\n",
    "#raise NotImplementedError()"
   ]
  },
  {
   "cell_type": "markdown",
   "metadata": {
    "deletable": false,
    "editable": false,
    "nbgrader": {
     "checksum": "485543f4893938d2a9dc1c17d8221cbc",
     "grade": false,
     "grade_id": "cell-88c9664f995b1909",
     "locked": true,
     "schema_version": 1,
     "solution": false
    }
   },
   "source": [
    "Can you identify which element in the latent space corresponds to which digit? What are the identified mixing coefficients for digits $2$, $3$ and $4$, and how do these compare to the true ones?"
   ]
  },
  {
   "cell_type": "markdown",
   "metadata": {
    "deletable": false,
    "nbgrader": {
     "checksum": "ae7b5acea6089e2590059f90b0d0a0be",
     "grade": true,
     "grade_id": "cell-3680ae2159c48193",
     "locked": false,
     "points": 5,
     "schema_version": 1,
     "solution": true
    }
   },
   "source": [
    "Yes, we can identify the corresponding digit.\n",
    "\n",
    "The mixing coefficients are all roughly 0.33.\n",
    "\n",
    "This agrees with the ratio seen in \"train_234\", which as can be seen is also roughly 33% divided for each of the three digits."
   ]
  },
  {
   "cell_type": "markdown",
   "metadata": {
    "deletable": false,
    "editable": false,
    "nbgrader": {
     "checksum": "98e04feb59a36867367b3027df9e226d",
     "grade": false,
     "grade_id": "cell-0891dda1c3e80e9a",
     "locked": true,
     "schema_version": 1,
     "solution": false
    }
   },
   "source": [
    "### 1.4 Experiments (20 points)\n",
    "Perform the follow-up experiments listed below using your implementation of the EM algorithm. For each of these, describe/comment on the obtained results and give an explanation. You may still use your dataset with only digits 2, 3 and 4 as otherwise computations can take very long."
   ]
  },
  {
   "cell_type": "markdown",
   "metadata": {
    "deletable": false,
    "editable": false,
    "nbgrader": {
     "checksum": "439067186fa3ef1d7261a9bcf5a84ea6",
     "grade": false,
     "grade_id": "cell-06fe1b1355689928",
     "locked": true,
     "schema_version": 1,
     "solution": false
    }
   },
   "source": [
    "#### 1.4.1 Size of the latent space (5 points)\n",
    "Run EM with $K$ larger or smaller than the true number of classes. Describe your results."
   ]
  },
  {
   "cell_type": "code",
   "execution_count": 12,
   "metadata": {
    "deletable": false,
    "nbgrader": {
     "checksum": "791512aeadd30c4b586b966ca10e6fad",
     "grade": true,
     "grade_id": "cell-6c9057f2546b7215",
     "locked": false,
     "points": 2,
     "schema_version": 1,
     "solution": true
    }
   },
   "outputs": [
    {
     "data": {
      "image/png": "[encoded data removed]",
      "text/plain": [
       "<Figure size 432x288 with 6 Axes>"
      ]
     },
     "metadata": {},
     "output_type": "display_data"
    },
    {
     "data": {
      "image/png": "[encoded data removed]",
      "text/plain": [
       "<Figure size 432x288 with 2 Axes>"
      ]
     },
     "metadata": {},
     "output_type": "display_data"
    }
   ],
   "source": [
    "#Experiment with a larger than true value K\n",
    "K=6\n",
    "max_iter=100\n",
    "\n",
    "gamma_6, mu_6, pi_6, num_iter_6=EM(train_234, K, max_iter, )\n",
    "plt.figure()\n",
    "for i in range(K):\n",
    "    ax = plt.subplot(1,K,i+1)\n",
    "    plt.imshow(mu_6[i].reshape((28, 28)), cmap='gray')\n",
    "#plt.subtitle('K=6')    \n",
    "#Experiment with a smaller than true value K\n",
    "\n",
    "K=2\n",
    "max_iter=100\n",
    "\n",
    "gamma_2, mu_2, pi_2, num_iter_2=EM(train_234, K , max_iter, )\n",
    "plt.figure()\n",
    "for i in range(K):\n",
    "    ax = plt.subplot(1,K,i+1)\n",
    "    plt.imshow(mu_2[i].reshape((28, 28)), cmap='gray')\n",
    "#plt.subtitle('K=2')   \n",
    "#raise NotImplementedError()"
   ]
  },
  {
   "cell_type": "markdown",
   "metadata": {
    "deletable": false,
    "nbgrader": {
     "checksum": "e12e40c2d2165e3bb500b5504128910d",
     "grade": true,
     "grade_id": "cell-f01c37653160244b",
     "locked": false,
     "points": 3,
     "schema_version": 1,
     "solution": true
    }
   },
   "source": [
    "When the number of class is larger than the real number, repeated numbers could be observed within those latent variables. The third image could not be classified into any class.\n",
    "When the number of class is smaller than the real number, images of latent variables become vague and unclarrifiable."
   ]
  },
  {
   "cell_type": "markdown",
   "metadata": {
    "deletable": false,
    "editable": false,
    "nbgrader": {
     "checksum": "b306681523a2e35eea310ac10bb68999",
     "grade": false,
     "grade_id": "cell-cf478d67239b7f2e",
     "locked": true,
     "schema_version": 1,
     "solution": false
    }
   },
   "source": [
    "#### 1.4.2 Identify misclassifications (10 points)\n",
    "How can you use the data labels to assign a label to each of the clusters/latent variables? Use this to identify images that are 'misclassified' and try to understand why they are. Report your findings."
   ]
  },
  {
   "cell_type": "code",
   "execution_count": 13,
   "metadata": {
    "deletable": false,
    "nbgrader": {
     "checksum": "000c11bd8756a4e24296c7c55d3ee17e",
     "grade": true,
     "grade_id": "cell-daa1a492fbba5c7e",
     "locked": false,
     "points": 5,
     "schema_version": 1,
     "solution": true
    }
   },
   "outputs": [
    {
     "name": "stdout",
     "output_type": "stream",
     "text": [
      "7872\n",
      "This image was labeled as being digit: 3\n",
      "EM algorithm says it should be: 4\n"
     ]
    },
    {
     "data": {
      "image/png": "[encoded data removed]",
      "text/plain": [
       "<Figure size 432x288 with 1 Axes>"
      ]
     },
     "metadata": {},
     "output_type": "display_data"
    },
    {
     "name": "stdout",
     "output_type": "stream",
     "text": [
      "3005\n",
      "This image was labeled as being digit: 2\n",
      "EM algorithm says it should be: 3\n"
     ]
    },
    {
     "data": {
      "image/png": "[encoded data removed]",
      "text/plain": [
       "<Figure size 432x288 with 1 Axes>"
      ]
     },
     "metadata": {},
     "output_type": "display_data"
    },
    {
     "name": "stdout",
     "output_type": "stream",
     "text": [
      "16852\n",
      "This image was labeled as being digit: 4\n",
      "EM algorithm says it should be: 3\n"
     ]
    },
    {
     "data": {
      "image/png": "[encoded data removed]",
      "text/plain": [
       "<Figure size 432x288 with 1 Axes>"
      ]
     },
     "metadata": {},
     "output_type": "display_data"
    }
   ],
   "source": [
    "# In the algorithm, the gamma_nk's say for x_n to which cluster it belongs to.\n",
    "# So to find a \"misclassified\" image, we need to find an image where the data_label is not same cluster\n",
    "# as what the gamma_nk's say.\n",
    "\n",
    "# NOTE: We do not know beforehand, which cluster number is going to be identified with which digit\n",
    "# (because mu's are initialized with some randomness)\n",
    "# Therefore, the value for list \"q\" used here in the code, could change when you rerun the whole notebook\n",
    "# It needs to be changed if the clusters in the new run were identified with some other digit then in this run.\n",
    "\n",
    "\n",
    "max_num_plots = 3\n",
    "count = 0\n",
    "for i in np.random.permutation(np.arange(0, len(train_234_label))):\n",
    "\n",
    "    # We had digits 2,3,4.\n",
    "    # In this run, we can check that:\n",
    "    # - \"cluster 0\" corresponds with \"digit 3\"\n",
    "    # - \"cluster 1\" corresponds with \"digit 2\"\n",
    "    # - \"cluster 2\" corresponds with \"digit 4\"\n",
    "\n",
    "    # Get position k where gamma[i][k] = 1\n",
    "    cluster_img_i = np.argmax(gamma[i])\n",
    "    \n",
    "    # Convert from \"cluster\" to \"digit\"\n",
    "    q = [3,2,4]\n",
    "    \n",
    "    digit_class = q[cluster_img_i]\n",
    "    \n",
    "    if digit_class != train_234_label[i]:\n",
    "        count = count+1\n",
    "        print(i)\n",
    "        print(\"This image was labeled as being digit: \" + str(train_234_label[i]))\n",
    "        print(\"EM algorithm says it should be: \" + str(digit_class))\n",
    "        plt.imshow(train_234[i].reshape((28, 28)), cmap='gray')\n",
    "        plt.show()\n",
    "        if count == max_num_plots:\n",
    "            break\n"
   ]
  },
  {
   "cell_type": "markdown",
   "metadata": {
    "deletable": false,
    "nbgrader": {
     "checksum": "baf43434481c13d76ad51e3ba07e2bf5",
     "grade": true,
     "grade_id": "cell-329245c02df7850d",
     "locked": false,
     "points": 5,
     "schema_version": 1,
     "solution": true
    }
   },
   "source": [
    "There are many images, which are \"misclassified\".\n",
    "From the plot, we see that the reason is because the number is just not written very clearly.\n",
    "And therefore it can look like both numbers at the same time.\n"
   ]
  },
  {
   "cell_type": "markdown",
   "metadata": {
    "deletable": false,
    "editable": false,
    "nbgrader": {
     "checksum": "640bc57a2d08c3becf534bb5e4b35971",
     "grade": false,
     "grade_id": "cell-67ce1222e8a7837b",
     "locked": true,
     "schema_version": 1,
     "solution": false
    }
   },
   "source": [
    "#### 1.4.3 Initialize with true values (5 points)\n",
    "Initialize the three classes with the true values of the parameters and see what happens. Report your results."
   ]
  },
  {
   "cell_type": "code",
   "execution_count": 14,
   "metadata": {
    "deletable": false,
    "nbgrader": {
     "checksum": "a48f788e286458ef0f776865a3bcd58b",
     "grade": true,
     "grade_id": "cell-aa5d6b9f941d985d",
     "locked": false,
     "points": 2,
     "schema_version": 1,
     "solution": true
    }
   },
   "outputs": [
    {
     "name": "stdout",
     "output_type": "stream",
     "text": [
      "num iters: 6\n",
      "mixing coefficients: [0.32275407 0.32917967 0.34806625]\n"
     ]
    },
    {
     "data": {
      "text/plain": [
       "<matplotlib.image.AxesImage at 0x7f073b8df0f0>"
      ]
     },
     "execution_count": 14,
     "metadata": {},
     "output_type": "execute_result"
    },
    {
     "data": {
      "image/png": "[encoded data removed]",
      "text/plain": [
       "<Figure size 432x288 with 1 Axes>"
      ]
     },
     "metadata": {},
     "output_type": "display_data"
    },
    {
     "data": {
      "image/png": "[encoded data removed]",
      "text/plain": [
       "<Figure size 432x288 with 1 Axes>"
      ]
     },
     "metadata": {},
     "output_type": "display_data"
    },
    {
     "data": {
      "image/png": "[encoded data removed]",
      "text/plain": [
       "<Figure size 432x288 with 1 Axes>"
      ]
     },
     "metadata": {},
     "output_type": "display_data"
    }
   ],
   "source": [
    "# YOUR CODE HERE\n",
    "#raise NotImplementedError()\n",
    "\n",
    "\n",
    "# If we consider as \"true\" parameter, the labels given to the data, then we can\n",
    "# initialize the gammas according to the labels and give this to the EM algorithm\n",
    "\n",
    "gamma_true = np.zeros((len(train_234_label),3)) # 3 since only 3 digits \"2\",\"3\",\"4\"\n",
    "for i in range(0, len(train_234_label)):\n",
    "    if train_234_label[i] == 2:\n",
    "        gamma_true[i][0] = 1\n",
    "    if train_234_label[i] == 3:\n",
    "        gamma_true[i][1] = 1\n",
    "    if train_234_label[i] == 4:\n",
    "        gamma_true[i][2] = 1\n",
    "\n",
    "K=3\n",
    "max_iter=100\n",
    "gamma_new, mu_new, pi_new, num_iters_new=EM(train_234, K, max_iter, gamma=gamma_true)\n",
    "\n",
    "print(\"num iters: \" + str(num_iters_new))\n",
    "print(\"mixing coefficients: \" + str(pi_new))\n",
    "plt.figure()\n",
    "plt.imshow(mu_new[0].reshape((28, 28)), cmap='gray')\n",
    "plt.figure()\n",
    "plt.imshow(mu_new[1].reshape((28, 28)), cmap='gray')\n",
    "plt.figure()\n",
    "plt.imshow(mu_new[2].reshape((28, 28)), cmap='gray')"
   ]
  },
  {
   "cell_type": "markdown",
   "metadata": {
    "deletable": false,
    "nbgrader": {
     "checksum": "1dc4adf3081f3bec93f94c3b12b87db9",
     "grade": true,
     "grade_id": "cell-981e44f35a3764b0",
     "locked": false,
     "points": 3,
     "schema_version": 1,
     "solution": true
    }
   },
   "source": [
    "Earlier we had that 12 iterations were used.\n",
    "\n",
    "Now with the gamma initialized according to the labels given to the images, we have 6 iterations.\n",
    "So the EM-algorithm converged quicker (half number of iterations) in this case."
   ]
  },
  {
   "cell_type": "markdown",
   "metadata": {
    "deletable": false,
    "editable": false,
    "nbgrader": {
     "checksum": "bd613f41e5d2b7d22b0d5b1e7644a48a",
     "grade": false,
     "grade_id": "cell-19bfd7cf4017ed84",
     "locked": true,
     "schema_version": 1,
     "solution": false
    }
   },
   "source": [
    "## Part 2: Variational Auto-Encoder\n",
    "\n",
    "A Variational Auto-Encoder (VAE) is a probabilistic model $p(\\bx, \\bz)$ over observed variables $\\bx$ and latent variables and/or parameters $\\bz$. Here we distinguish the decoder part, $p(\\bx | \\bz) p(\\bz)$ and an encoder part $p(\\bz | \\bx)$ that are both specified with a neural network. A lower bound on the log marginal likelihood $\\log p(\\bx)$ can be obtained by approximately inferring the latent variables z from the observed data x using an encoder distribution $q(\\bz| \\bx)$ that is also specified as a neural network. This lower bound is then optimized to fit the model to the data. \n",
    "\n",
    "The model was introduced by Diederik Kingma (during his PhD at the UVA) and Max Welling in 2013, https://arxiv.org/abs/1312.6114. \n",
    "\n",
    "Since it is such an important model there are plenty of well written tutorials that should help you with the assignment. E.g: https://jaan.io/what-is-variational-autoencoder-vae-tutorial/.\n",
    "\n",
    "In the following, we will make heavily use of the torch module, https://pytorch.org/docs/stable/index.html. Most of the time replacing `np.` with `torch.` will do the trick, e.g. `np.sum` becomes `torch.sum` and `np.log` becomes `torch.log`. In addition, we will use `torch.FloatTensor()` as an equivalent to `np.array()`. In order to train our VAE efficiently we will make use of batching. The number of data points in a batch will become the first dimension of our data tensor, e.g. A batch of 128 MNIST images has the dimensions [128, 1, 28, 28]. To check check the dimensions of a tensor you can call `.size()`."
   ]
  },
  {
   "cell_type": "markdown",
   "metadata": {
    "deletable": false,
    "editable": false,
    "nbgrader": {
     "checksum": "92bd337f41c3f94777f47376c7149ca7",
     "grade": false,
     "grade_id": "cell-bcbe35b20c1007d3",
     "locked": true,
     "schema_version": 1,
     "solution": false
    }
   },
   "source": [
    "### 2.1 Loss function\n",
    "The objective function (variational lower bound), that we will use to train the VAE, consists of two terms: a log Bernoulli loss (reconstruction loss) and a Kullback–Leibler divergence. We implement the two terms separately and combine them in the end.\n",
    "As seen in Part 1: Expectation Maximization, we can use a multivariate Bernoulli distribution to model the likelihood $p(\\bx | \\bz)$ of black and white images. Formally, the variational lower bound is maximized but in PyTorch we are always minimizing therefore we need to calculate the negative log Bernoulli loss and Kullback–Leibler divergence."
   ]
  },
  {
   "cell_type": "markdown",
   "metadata": {
    "deletable": false,
    "editable": false,
    "nbgrader": {
     "checksum": "3fb5f70b132e1233983ef89d19998374",
     "grade": false,
     "grade_id": "cell-389d81024af846e5",
     "locked": true,
     "schema_version": 1,
     "solution": false
    }
   },
   "source": [
    "### 2.1.1 Negative Log Bernoulli loss (5 points)\n",
    "The negative log Bernoulli loss is defined as,\n",
    "\n",
    "\\begin{align}\n",
    "loss = - (\\sum_i^D \\bx_i \\log \\hat{\\bx_i} + (1 − \\bx_i) \\log(1 − \\hat{\\bx_i})).\n",
    "\\end{align}\n",
    "\n",
    "Write a function `log_bernoulli_loss` that takes a D dimensional vector `x`, its reconstruction `x_hat` and returns the negative log Bernoulli loss. Make sure that your function works for batches of arbitrary size."
   ]
  },
  {
   "cell_type": "code",
   "execution_count": 38,
   "metadata": {
    "deletable": false,
    "nbgrader": {
     "checksum": "952435ca03f47ab67a7e88b8306fc9a0",
     "grade": false,
     "grade_id": "cell-1d504606d6f99145",
     "locked": false,
     "schema_version": 1,
     "solution": true
    }
   },
   "outputs": [],
   "source": [
    "def log_bernoulli_loss(x_hat, x):\n",
    "    \n",
    "    # YOUR CODE HERE\n",
    "    #raise NotImplementedError()\n",
    "\n",
    "    loss = 0\n",
    "\n",
    "    batchsize = x.size()[0]\n",
    "    D = len(x[0])\n",
    "    \n",
    "    for k in range(0,batchsize):\n",
    "        loss_k = (x[k]*torch.log(x_hat[k])) + (1-x[k])*torch.log(1-x_hat[k])\n",
    "        loss_k = -1 * loss_k\n",
    "        \n",
    "        loss += loss_k\n",
    "    \n",
    "    return torch.sum(loss)"
   ]
  },
  {
   "cell_type": "code",
   "execution_count": 40,
   "metadata": {},
   "outputs": [
    {
     "name": "stdout",
     "output_type": "stream",
     "text": [
      "tensor(6.5239)\n"
     ]
    }
   ],
   "source": [
    "### Test test test\n",
    "x_test = torch.FloatTensor([[0.1, 0.2, 0.3, 0.4], [0.5, 0.6, 0.7, 0.8], [0.9, 0.9, 0.9, 0.9]])\n",
    "x_hat_test = torch.FloatTensor([[0.11, 0.22, 0.33, 0.44], [0.55, 0.66, 0.77, 0.88], [0.99, 0.99, 0.99, 0.99]])\n",
    "\n",
    "assert log_bernoulli_loss(x_hat_test, x_test) > 0.0\n",
    "assert log_bernoulli_loss(x_hat_test, x_test) < 10.0\n",
    "print(log_bernoulli_loss(x_hat_test, x_test))"
   ]
  },
  {
   "cell_type": "markdown",
   "metadata": {
    "collapsed": true,
    "deletable": false,
    "editable": false,
    "nbgrader": {
     "checksum": "bd2a490aa694507bd032e86d77fc0087",
     "grade": true,
     "grade_id": "cell-9666dad0b2a9f483",
     "locked": true,
     "points": 5,
     "schema_version": 1,
     "solution": false
    }
   },
   "source": [
    "### Test test test\n",
    "x_test = torch.FloatTensor([[0.1, 0.2, 0.3, 0.4], [0.5, 0.6, 0.7, 0.8], [0.9, 0.9, 0.9, 0.9]])\n",
    "x_hat_test = torch.FloatTensor([[0.11, 0.22, 0.33, 0.44], [0.55, 0.66, 0.77, 0.88], [0.99, 0.99, 0.99, 0.99]])\n",
    "\n",
    "assert log_bernoulli_loss(x_hat_test, x_test) > 0.0\n",
    "assert log_bernoulli_loss(x_hat_test, x_test) < 10.0TypeError: torch.log received an invalid combination of arguments - got (float), but expected (torch.FloatTensor source)\n"
   ]
  },
  {
   "cell_type": "markdown",
   "metadata": {
    "deletable": false,
    "editable": false,
    "nbgrader": {
     "checksum": "6b75b7a531ecc87bce57925c4da464ee",
     "grade": false,
     "grade_id": "cell-b3a7c02dee7aa505",
     "locked": true,
     "schema_version": 1,
     "solution": false
    }
   },
   "source": [
    "### 2.1.2 Negative Kullback–Leibler divergence (10 Points)\n",
    "The variational lower bound (the objective to be maximized) contains a KL term $D_{KL}(q(\\bz)||p(\\bz))$ that can often be calculated analytically. In the VAE we assume $q = N(\\bz, \\mu, \\sigma^2I)$ and $p = N(\\bz, 0, I)$. Solve analytically!"
   ]
  },
  {
   "cell_type": "markdown",
   "metadata": {
    "deletable": false,
    "nbgrader": {
     "checksum": "d01a7e7fe2dcf5f1c5fb955b85c8a04a",
     "grade": true,
     "grade_id": "cell-4cab10fd1a636858",
     "locked": false,
     "points": 5,
     "schema_version": 1,
     "solution": true
    }
   },
   "source": [
    "(We actually have $q = N(z|\\mu, A)$ where A = diag($\\sigma_1^2,\\ldots,\\sigma_J^2$)) \n",
    "\n",
    "First consider (like in HW2 Q3a) the case $f=N(z|\\mu,\\Sigma)$ and $g=N(z|m,L)$ (both D-dimensional).\n",
    "Then using properties of trace wit expectation we could show:\n",
    "\n",
    "\\begin{align*}\n",
    "KL(f||g)\n",
    "&=-\\int f(x) \\log\\left(\\frac{g(x)}{f(x)}\\right) dx \\\\\n",
    "&=-\\int \\frac{1}{2}\\log\\left(\\frac{|\\Sigma|}{|L|}\\right) f(x) dx\n",
    "-\\int \\frac{1}{2} (x-\\mu)^T\\Sigma^{-1}(x-\\mu) f(x) dx\n",
    "+\\int \\frac{1}{2} (x-m)^TL^{-1}(x-m) f(x) dx \\\\\n",
    "&=-\\frac{1}{2}\\log\\left(\\frac{|\\Sigma|}{|L|}\\right)\n",
    "-\\frac{1}{2}\\mathbb{E}[(x-\\mu)^T\\Sigma^{-1}(x-\\mu)]\n",
    "+\\frac{1}{2}\\mathbb{E}[(x-m)^TL^{-1}(x-m)] \\\\\n",
    "&=\\frac{1}{2}\\log\\left(\\frac{|L|}{|\\Sigma|}\\right)\n",
    "-\\frac{1}{2}\\left(Tr(\\Sigma^{-1}\\Sigma) + 0^T\\Sigma^{-1}0\\right)\n",
    "+\\frac{1}{2}\\left(Tr(L^{-1}\\Sigma)+(\\mu-m)^TL^{-1}(\\mu-m)\\right) \\\\\n",
    "&=\\frac{1}{2}\\left(\n",
    "\\log\\left(\\frac{|L|}{|\\Sigma|}\\right)\n",
    "-Tr(I) - 0 + Tr(L^{-1}\\Sigma) + (\\mu-m)^TL^{-1}(\\mu-m)\n",
    "\\right) \\\\\n",
    "&=\\frac{1}{2}\\left(\n",
    "\\log\\left(\\frac{|L|}{|\\Sigma|}\\right)\n",
    "-D + Tr(L^{-1}\\Sigma) + (\\mu-m)^TL^{-1}(\\mu-m)\n",
    "\\right)\n",
    "\\end{align*}\n",
    "\n",
    "So in this specific case with the q and p (both J-dimensional), we get:\n",
    "\\begin{align*}\n",
    "KL(q||p)\n",
    "&=\\frac{1}{2}\\left(\n",
    "\\log\\left(\\frac{|I|}{|diag(\\sigma_1^2,\\ldots,\\sigma_J^2)|}\\right)\n",
    "-J + Tr(I^{-1}diag(\\sigma_1^2,\\ldots,\\sigma_J^2)) + (\\mu-0)^TI^{-1}(\\mu-0)\n",
    "\\right) \\\\\n",
    "&=\\frac{1}{2} \\left( \\mu^T\\mu  - J - \\left(\\sum_{i=1}^J \\log(\\sigma_i^2) \\right)\n",
    "+ \\left(\\sum_{i=1}^J \\sigma_j^2\\right) \\right)\n",
    "\\end{align*}\n",
    "\n"
   ]
  },
  {
   "cell_type": "markdown",
   "metadata": {
    "deletable": false,
    "editable": false,
    "nbgrader": {
     "checksum": "328115c94a66e8aba0a62896e647c3ba",
     "grade": false,
     "grade_id": "cell-c49899cbf2a49362",
     "locked": true,
     "schema_version": 1,
     "solution": false
    }
   },
   "source": [
    "Write a function `KL_loss` that takes two J dimensional vectors `mu` and `logvar` and returns the negative Kullback–Leibler divergence. Where `logvar` is $\\log(\\sigma^2)$. Make sure that your function works for batches of arbitrary size."
   ]
  },
  {
   "cell_type": "code",
   "execution_count": 41,
   "metadata": {
    "deletable": false,
    "nbgrader": {
     "checksum": "33b14b79372dd0235d67bb66921cd3e0",
     "grade": false,
     "grade_id": "cell-125b41878005206b",
     "locked": false,
     "schema_version": 1,
     "solution": true
    }
   },
   "outputs": [],
   "source": [
    "def KL_loss(mu, logvar):\n",
    "    \n",
    "    # YOUR CODE HERE\n",
    "    #raise NotImplementedError()\n",
    "    \n",
    "    loss = 0\n",
    "    \n",
    "    batchsize = mu.size()[0]\n",
    "    J = len(mu[0])\n",
    "\n",
    "    for k in range(0, batchsize):\n",
    "        KL_k = 0.5*(torch.dot(mu[k],mu[k]) - J - torch.sum(logvar[k]) + torch.sum(torch.exp(logvar[k])))\n",
    "\n",
    "        # since we want loss, we do minus KL\n",
    "        loss = loss + KL_k\n",
    "\n",
    "    return loss\n"
   ]
  },
  {
   "cell_type": "code",
   "execution_count": 42,
   "metadata": {
    "deletable": false,
    "editable": false,
    "nbgrader": {
     "checksum": "cf72e196d2b60827e8e940681ac50a07",
     "grade": true,
     "grade_id": "cell-ba714bbe270a3f39",
     "locked": true,
     "points": 5,
     "schema_version": 1,
     "solution": false
    }
   },
   "outputs": [],
   "source": [
    "### Test test test\n",
    "mu_test = torch.FloatTensor([[0.1, 0.2], [0.3, 0.4], [0.5, 0.6]])\n",
    "logvar_test = torch.FloatTensor([[0.01, 0.02], [0.03, 0.04], [0.05, 0.06]])\n",
    "\n",
    "assert KL_loss(mu_test, logvar_test) > 0.0\n",
    "assert KL_loss(mu_test, logvar_test) < 10.0\n"
   ]
  },
  {
   "cell_type": "markdown",
   "metadata": {
    "deletable": false,
    "editable": false,
    "nbgrader": {
     "checksum": "65335a588baac26bc48dd6c4d275fdca",
     "grade": false,
     "grade_id": "cell-18cb3f8031edec23",
     "locked": true,
     "schema_version": 1,
     "solution": false
    }
   },
   "source": [
    "### 2.1.3 Putting the losses together (5 points)\n",
    "Write a function `loss_function` that takes a D dimensional vector `x`, its reconstruction `x_hat`, two J dimensional vectors `mu` and `logvar` and returns the final loss. Make sure that your function works for batches of arbitrary size."
   ]
  },
  {
   "cell_type": "code",
   "execution_count": 43,
   "metadata": {
    "deletable": false,
    "nbgrader": {
     "checksum": "f6ecb5b60b2c8d7b90070ed59320ee70",
     "grade": false,
     "grade_id": "cell-d2d18781683f1302",
     "locked": false,
     "schema_version": 1,
     "solution": true
    }
   },
   "outputs": [],
   "source": [
    "def loss_function(x_hat, x, mu, logvar):\n",
    "    \n",
    "    # YOUR CODE HERE\n",
    "    #raise NotImplementedError()\n",
    "    \n",
    "    loss = log_bernoulli_loss(x_hat,x) + KL_loss(mu, logvar)\n",
    "\n",
    "    return loss\n"
   ]
  },
  {
   "cell_type": "code",
   "execution_count": 44,
   "metadata": {
    "deletable": false,
    "editable": false,
    "nbgrader": {
     "checksum": "816e9508408bfcb2c7332b508d505081",
     "grade": true,
     "grade_id": "cell-57747988d29bbb5d",
     "locked": true,
     "points": 5,
     "schema_version": 1,
     "solution": false
    }
   },
   "outputs": [],
   "source": [
    "x_test = torch.FloatTensor([[0.1, 0.2, 0.3], [0.4, 0.5, 0.6], [0.7, 0.8, 0.9]])\n",
    "x_hat_test = torch.FloatTensor([[0.11, 0.22, 0.33], [0.44, 0.55, 0.66], [0.77, 0.88, 0.99]])\n",
    "mu_test = torch.FloatTensor([[0.1, 0.2], [0.3, 0.4], [0.5, 0.6]])\n",
    "logvar_test = torch.FloatTensor([[0.01, 0.02], [0.03, 0.04], [0.05, 0.06]])\n",
    "\n",
    "assert loss_function(x_hat_test, x_test, mu_test, logvar_test) > 0.0\n",
    "assert loss_function(x_hat_test, x_test, mu_test, logvar_test) < 10.0\n"
   ]
  },
  {
   "cell_type": "markdown",
   "metadata": {
    "deletable": false,
    "editable": false,
    "nbgrader": {
     "checksum": "4506e06ed44a0535140582277a528ba4",
     "grade": false,
     "grade_id": "cell-9e3ba708967fe918",
     "locked": true,
     "schema_version": 1,
     "solution": false
    }
   },
   "source": [
    "### 2.2 The model\n",
    "Below you see a data structure for the VAE. The modell itself consists of two main parts the encoder (images $\\bx$ to latent variables $\\bz$) and the decoder (latent variables $\\bz$ to images $\\bx$). The encoder is using 3 fully-connected layers, whereas the decoder is using fully-connected layers. Right now the data structure is quite empty, step by step will update its functionality. For test purposes we will initialize a VAE for you. After the data structure is completed you will do the hyperparameter search.\n"
   ]
  },
  {
   "cell_type": "code",
   "execution_count": 45,
   "metadata": {
    "deletable": false,
    "editable": false,
    "nbgrader": {
     "checksum": "31eccf2f6600764e28eb4bc6c5634e49",
     "grade": false,
     "grade_id": "cell-e7d9dafee18f28a1",
     "locked": true,
     "schema_version": 1,
     "solution": false
    }
   },
   "outputs": [],
   "source": [
    "from torch import nn\n",
    "from torch.nn import functional as F \n",
    "\n",
    "class VAE(nn.Module):\n",
    "    def __init__(self, fc1_dims, fc21_dims, fc22_dims, fc3_dims, fc4_dims):\n",
    "        super(VAE, self).__init__()\n",
    "\n",
    "        self.fc1 = nn.Linear(*fc1_dims)\n",
    "        self.fc21 = nn.Linear(*fc21_dims)\n",
    "        self.fc22 = nn.Linear(*fc22_dims)\n",
    "        self.fc3 = nn.Linear(*fc3_dims)\n",
    "        self.fc4 = nn.Linear(*fc4_dims)\n",
    "\n",
    "    def encode(self, x):\n",
    "        # To be implemented\n",
    "        raise Exception('Method not implemented')\n",
    "\n",
    "    def reparameterize(self, mu, logvar):\n",
    "        # To be implemented\n",
    "        raise Exception('Method not implemented')\n",
    "\n",
    "    def decode(self, z):\n",
    "        # To be implemented\n",
    "        raise Exception('Method not implemented')\n",
    "\n",
    "    def forward(self, x):\n",
    "        # To be implemented\n",
    "        raise Exception('Method not implemented')\n",
    "\n",
    "VAE_test = VAE(fc1_dims=(784, 4), fc21_dims=(4, 2), fc22_dims=(4, 2), fc3_dims=(2, 4), fc4_dims=(4, 784))\n"
   ]
  },
  {
   "cell_type": "markdown",
   "metadata": {
    "deletable": false,
    "editable": false,
    "nbgrader": {
     "checksum": "1a2243397998b4f55c25dfd734f3e7e0",
     "grade": false,
     "grade_id": "cell-c4f9e841b8972a43",
     "locked": true,
     "schema_version": 1,
     "solution": false
    }
   },
   "source": [
    "### 2.3 Encoding (10 points)\n",
    "Write a function `encode` that gets a vector `x` with 784 elements (flattened MNIST image) and returns `mu` and `logvar`. Your function should use three fully-connected layers (`self.fc1()`, `self.fc21()`, `self.fc22()`). First, you should use `self.fc1()` to embed `x`. Second, you should use `self.fc21()` and `self.fc22()` on the embedding of `x` to compute `mu` and `logvar` respectively. PyTorch comes with a variety of activation functions, the most common calls are `F.relu()`, `F.sigmoid()`, `F.tanh()`. Make sure that your function works for batches of arbitrary size.  "
   ]
  },
  {
   "cell_type": "code",
   "execution_count": 46,
   "metadata": {
    "deletable": false,
    "nbgrader": {
     "checksum": "628bcd88c611cf01e70f77854600199b",
     "grade": false,
     "grade_id": "cell-93cb75b98ae76569",
     "locked": false,
     "schema_version": 1,
     "solution": true
    }
   },
   "outputs": [],
   "source": [
    "def encode(self, x):\n",
    "    \n",
    "    # YOUR CODE HERE\n",
    "    #raise NotImplementedError()\n",
    "    x_embed = self.fc1(x)\n",
    "    y = F.relu(x_embed)\n",
    "    \n",
    "    mu = self.fc21(y)\n",
    "    logvar = self.fc22(y)\n",
    "    \n",
    "    return mu, logvar\n"
   ]
  },
  {
   "cell_type": "code",
   "execution_count": 47,
   "metadata": {},
   "outputs": [],
   "source": [
    "### Test, test, test\n",
    "from torch.autograd import Variable\n",
    "\n",
    "VAE.encode = encode\n",
    "\n",
    "x_test = Variable(torch.ones((5,784)))\n",
    "mu_test, logvar_test = VAE_test.encode(x_test)\n",
    "\n",
    "assert np.allclose(mu_test.size(), [5, 2])\n",
    "assert np.allclose(logvar_test.size(), [5, 2])\n"
   ]
  },
  {
   "cell_type": "markdown",
   "metadata": {
    "collapsed": true,
    "deletable": false,
    "editable": false,
    "nbgrader": {
     "checksum": "370d930fa9f10f1d3a451f3805c04d88",
     "grade": true,
     "grade_id": "cell-9648960b73337a70",
     "locked": true,
     "points": 10,
     "schema_version": 1,
     "solution": false
    }
   },
   "source": [
    "### Test, test, test\n",
    "VAE.encode = encode\n",
    "\n",
    "x_test = torch.ones((5,784))\n",
    "mu_test, logvar_test = VAE_test.encode(x_test)\n",
    "\n",
    "assert np.allclose(mu_test.size(), [5, 2])\n",
    "assert np.allclose(logvar_test.size(), [5, 2])\n"
   ]
  },
  {
   "cell_type": "markdown",
   "metadata": {
    "deletable": false,
    "editable": false,
    "nbgrader": {
     "checksum": "6f597cc2b5ef941af282d7162297f865",
     "grade": false,
     "grade_id": "cell-581b4ed1996be868",
     "locked": true,
     "schema_version": 1,
     "solution": false
    }
   },
   "source": [
    "### 2.4 Reparameterization (10 points)\n",
    "One of the major question that the VAE is answering, is 'how to take derivatives with respect to the parameters of a stochastic variable?', i.e. if we are given $\\bz$ that is drawn from a distribution $q(\\bz|\\bx)$, and we want to take derivatives. This step is necessary to be able to use gradient-based optimization algorithms like SGD.\n",
    "For some distributions, it is possible to reparameterize samples in a clever way, such that the stochasticity is independent of the parameters. We want our samples to deterministically depend on the parameters of the distribution. For example, in a normally-distributed variable with mean $\\mu$ and standard deviation $\\sigma$, we can sample from it like this:\n",
    "\n",
    "\\begin{align}\n",
    "\\bz = \\mu + \\sigma \\odot \\epsilon,\n",
    "\\end{align}\n",
    "\n",
    "where $\\odot$ is the element-wise multiplication and $\\epsilon$ is sampled from $N(0, I)$.\n",
    "\n",
    "\n",
    "Write a function `reparameterize` that takes two J dimensional vectors `mu` and `logvar`. It should return $\\bz = \\mu + \\sigma \\odot \\epsilon$.\n"
   ]
  },
  {
   "cell_type": "code",
   "execution_count": 48,
   "metadata": {
    "deletable": false,
    "nbgrader": {
     "checksum": "6331cb5dd23aaacbcf1a52cfecb1afaa",
     "grade": false,
     "grade_id": "cell-679aea8b2adf7ec4",
     "locked": false,
     "schema_version": 1,
     "solution": true
    }
   },
   "outputs": [],
   "source": [
    "def reparameterize(self, mu, logvar):\n",
    "    \n",
    "    # YOUR CODE HERE\n",
    "    #raise NotImplementedError()\n",
    "    \n",
    "    # sample from N(0,1)\n",
    "    eps = np.random.randn()\n",
    "    \n",
    "    # logvar = log(sigma^2), so sigma = e^(0.5*logvar)\n",
    "    z = mu + eps * torch.exp(0.5*logvar)\n",
    "    \n",
    "    return z\n"
   ]
  },
  {
   "cell_type": "code",
   "execution_count": 49,
   "metadata": {
    "deletable": false,
    "editable": false,
    "nbgrader": {
     "checksum": "38d4e047717ab334b262c8c177f0a420",
     "grade": true,
     "grade_id": "cell-fdd7b27a3d17f84e",
     "locked": true,
     "points": 10,
     "schema_version": 1,
     "solution": false
    }
   },
   "outputs": [],
   "source": [
    "### Test, test, test\n",
    "VAE.reparameterize = reparameterize\n",
    "VAE_test.train()\n",
    "\n",
    "mu_test = torch.FloatTensor([[0.1, 0.2], [0.3, 0.4], [0.5, 0.6]])\n",
    "logvar_test = torch.FloatTensor([[0.01, 0.02], [0.03, 0.04], [0.05, 0.06]])\n",
    "\n",
    "z_test = VAE_test.reparameterize(mu_test, logvar_test)\n",
    "\n",
    "assert np.allclose(z_test.size(), [3, 2])\n",
    "assert z_test[0][0] < 5.0\n",
    "assert z_test[0][0] > -5.0\n"
   ]
  },
  {
   "cell_type": "markdown",
   "metadata": {
    "deletable": false,
    "editable": false,
    "nbgrader": {
     "checksum": "9241ab0eaf8366c37ad57072ce66f095",
     "grade": false,
     "grade_id": "cell-0be851f9f7f0a93e",
     "locked": true,
     "schema_version": 1,
     "solution": false
    }
   },
   "source": [
    "### 2.5 Decoding (10 points)\n",
    "Write a function `decode` that gets a vector `z` with J elements and returns a vector `x_hat` with 784 elements (flattened MNIST image). Your function should use two fully-connected layers (`self.fc3()`, `self.fc4()`). PyTorch comes with a variety of activation functions, the most common calls are `F.relu()`, `F.sigmoid()`, `F.tanh()`. Make sure that your function works for batches of arbitrary size."
   ]
  },
  {
   "cell_type": "code",
   "execution_count": 50,
   "metadata": {
    "deletable": false,
    "nbgrader": {
     "checksum": "e8e833cfd7c54a9b67a38056d5d6cab8",
     "grade": false,
     "grade_id": "cell-bf92bb3878275a41",
     "locked": false,
     "schema_version": 1,
     "solution": true
    }
   },
   "outputs": [],
   "source": [
    "def decode(self, z):\n",
    "    \n",
    "    # (assert didnt work for two F.relu, so as choice we choose F.sigmoid)\n",
    "    y1 = self.fc3(z)\n",
    "    y2 = F.relu(y1)\n",
    "    y3 = self.fc4(y2)\n",
    "    \n",
    "    x_hat = F.sigmoid(y3)\n",
    "    \n",
    "    return x_hat\n"
   ]
  },
  {
   "cell_type": "code",
   "execution_count": 51,
   "metadata": {},
   "outputs": [],
   "source": [
    "# test test test\n",
    "VAE.decode = decode\n",
    "\n",
    "z_test = Variable(torch.ones((5,2)))\n",
    "x_hat_test = VAE_test.decode(z_test)\n",
    "\n",
    "assert np.allclose(x_hat_test.size(), [5, 784])\n",
    "\n",
    "assert (x_hat_test.data >= 0).all()\n",
    "assert (x_hat_test.data >= 0).all\n"
   ]
  },
  {
   "cell_type": "markdown",
   "metadata": {
    "collapsed": true,
    "deletable": false,
    "editable": false,
    "nbgrader": {
     "checksum": "7732293fd7d971fcf255496e8c68638d",
     "grade": true,
     "grade_id": "cell-4abb91cb9e80af5d",
     "locked": true,
     "points": 10,
     "schema_version": 1,
     "solution": false
    }
   },
   "source": [
    "# test test test\n",
    "VAE.decode = decode\n",
    "\n",
    "z_test = torch.ones((5,2))\n",
    "x_hat_test = VAE_test.decode(z_test)\n",
    "\n",
    "assert np.allclose(x_hat_test.size(), [5, 784])\n",
    "assert (x_hat_test <= 1).all()\n",
    "assert (x_hat_test >= 0).all()\n"
   ]
  },
  {
   "cell_type": "markdown",
   "metadata": {
    "deletable": false,
    "editable": false,
    "nbgrader": {
     "checksum": "e2e113d1f45398b2a1399c336526e755",
     "grade": false,
     "grade_id": "cell-97511fbc4f5b469b",
     "locked": true,
     "schema_version": 1,
     "solution": false
    }
   },
   "source": [
    "### 2.6 Forward pass (10)\n",
    "To complete the data structure you have to define a forward pass through the VAE. A single forward pass consists of the encoding of an MNIST image $\\bx$ into latent space $\\bz$, the reparameterization of $\\bz$ and the decoding of $\\bz$ into an image $\\bx$.\n",
    "\n",
    "Write a function `forward` that gets a a vector `x` with 784 elements (flattened MNIST image) and returns a vector `x_hat` with 784 elements (flattened MNIST image), `mu` and `logvar`."
   ]
  },
  {
   "cell_type": "code",
   "execution_count": 31,
   "metadata": {
    "deletable": false,
    "nbgrader": {
     "checksum": "8b7433c4631dd01c07a5fe287e55ae13",
     "grade": false,
     "grade_id": "cell-26bb463b9f98ebd5",
     "locked": false,
     "schema_version": 1,
     "solution": true
    }
   },
   "outputs": [],
   "source": [
    "def forward(self, x):\n",
    "    x = x.view(-1, 784)\n",
    "    \n",
    "    mu, logvar = self.encode(x)\n",
    "    \n",
    "    z = self.reparameterize(mu, logvar)\n",
    "    \n",
    "    x_hat = self.decode(z)\n",
    "    \n",
    "    return x_hat, mu, logvar\n"
   ]
  },
  {
   "cell_type": "code",
   "execution_count": 32,
   "metadata": {},
   "outputs": [],
   "source": [
    "# test test test \n",
    "VAE.forward = forward\n",
    "\n",
    "x_test = Variable(torch.ones((5,784)))\n",
    "x_hat_test, mu_test, logvar_test = VAE_test.forward(x_test)\n",
    "\n",
    "assert np.allclose(x_hat_test.size(), [5, 784])\n",
    "assert np.allclose(mu_test.size(), [5, 2])\n",
    "assert np.allclose(logvar_test.size(), [5, 2])"
   ]
  },
  {
   "cell_type": "markdown",
   "metadata": {
    "collapsed": true,
    "deletable": false,
    "editable": false,
    "nbgrader": {
     "checksum": "8e7e495f40465c162512e9873c360b25",
     "grade": true,
     "grade_id": "cell-347e5fba3d02754b",
     "locked": true,
     "points": 10,
     "schema_version": 1,
     "solution": false
    }
   },
   "source": [
    "# test test test \n",
    "VAE.forward = forward\n",
    "\n",
    "x_test = torch.ones((5,784))\n",
    "x_hat_test, mu_test, logvar_test = VAE_test.forward(x_test)\n",
    "\n",
    "assert np.allclose(x_hat_test.size(), [5, 784])\n",
    "assert np.allclose(mu_test.size(), [5, 2])\n",
    "assert np.allclose(logvar_test.size(), [5, 2])\n"
   ]
  },
  {
   "cell_type": "markdown",
   "metadata": {
    "deletable": false,
    "editable": false,
    "nbgrader": {
     "checksum": "a114a6fd781fb949b887e6a028e07946",
     "grade": false,
     "grade_id": "cell-62c89e4d3b253671",
     "locked": true,
     "schema_version": 1,
     "solution": false
    }
   },
   "source": [
    "### 2.7 Training (15)\n",
    "We will now train the VAE using an optimizer called Adam, https://arxiv.org/abs/1412.6980. The code to train a model in PyTorch is given below."
   ]
  },
  {
   "cell_type": "code",
   "execution_count": 33,
   "metadata": {
    "deletable": false,
    "editable": false,
    "nbgrader": {
     "checksum": "f3b6bb965fb48229c63cacda48baea65",
     "grade": false,
     "grade_id": "cell-be75f61b09f3b9b6",
     "locked": true,
     "schema_version": 1,
     "solution": false
    }
   },
   "outputs": [],
   "source": [
    "from torch.autograd import Variable\n",
    "\n",
    "def train(epoch, train_loader, model, optimizer):\n",
    "    model.train()\n",
    "    train_loss = 0\n",
    "    for batch_idx, (data, _) in enumerate(train_loader):\n",
    "        data = Variable(data)\n",
    "        optimizer.zero_grad()\n",
    "        recon_batch, mu, logvar = model(data)\n",
    "        loss = loss_function(recon_batch, data.view(-1, 784), mu, logvar)\n",
    "        loss.backward()\n",
    "        train_loss += loss.data\n",
    "        optimizer.step()\n",
    "        if batch_idx % 100 == 0:\n",
    "            print('Train Epoch: {} [{}/{} ({:.0f}%)]\\tLoss: {:.6f}'.format(\n",
    "                epoch, batch_idx * len(data), len(train_loader.dataset),\n",
    "                100. * batch_idx / len(train_loader),\n",
    "                loss.data / len(data)))\n",
    "\n",
    "    print('====> Epoch: {} Average loss: {:.4f}'.format(\n",
    "          epoch, train_loss / len(train_loader.dataset)))\n"
   ]
  },
  {
   "cell_type": "code",
   "execution_count": 34,
   "metadata": {},
   "outputs": [],
   "source": [
    "from torch.autograd import Variable\n",
    "\n",
    "def train(epoch, train_loader, model, optimizer):\n",
    "    model.train()\n",
    "    train_loss = 0\n",
    "    for batch_idx, (data, _) in enumerate(train_loader):\n",
    "        data = Variable(data)\n",
    "        optimizer.zero_grad()\n",
    "        recon_batch, mu, logvar = model(data)\n",
    "        loss = loss_function(recon_batch, data.view(-1, 784), mu, logvar)\n",
    "        loss.backward()\n",
    "        train_loss += loss.data\n",
    "        optimizer.step()\n",
    "        if batch_idx % 100 == 0:\n",
    "            print('Train Epoch: {} [{}/{} ({:.0f}%)]\\tLoss: {!s:.6s}'.format(\n",
    "                epoch, batch_idx * len(data), len(train_loader.dataset),\n",
    "                100. * batch_idx / len(train_loader),\n",
    "                loss.data / len(data)))\n",
    "\n",
    "    print('====> Epoch: {} Average loss: {!s:.4s}'.format(\n",
    "          epoch, train_loss / len(train_loader.dataset)))\n"
   ]
  },
  {
   "cell_type": "markdown",
   "metadata": {
    "deletable": false,
    "editable": false,
    "nbgrader": {
     "checksum": "48ca730dbef06a668f4dfdb24888f265",
     "grade": false,
     "grade_id": "cell-da1b063b7de850b9",
     "locked": true,
     "schema_version": 1,
     "solution": false
    }
   },
   "source": [
    "Let's train. You have to choose the hyperparameters. Make sure your loss is going down in a reasonable amount of epochs (around 10)."
   ]
  },
  {
   "cell_type": "code",
   "execution_count": 35,
   "metadata": {
    "deletable": false,
    "nbgrader": {
     "checksum": "846430258fb80f50b161135448726520",
     "grade": false,
     "grade_id": "cell-d4d4408d397f6967",
     "locked": false,
     "schema_version": 1,
     "solution": true
    }
   },
   "outputs": [],
   "source": [
    "# Hyperparameters\n",
    "fc1_dims = (784, 100)\n",
    "fc21_dims = (100,  2)\n",
    "fc22_dims = (100,  2)\n",
    "fc3_dims = (2, 50)\n",
    "fc4_dims = (50, 784)\n",
    "lr = 0.001\n",
    "batch_size = 20\n",
    "epochs = 10"
   ]
  },
  {
   "cell_type": "code",
   "execution_count": 36,
   "metadata": {
    "deletable": false,
    "editable": false,
    "nbgrader": {
     "checksum": "b93390f399b743276bc25e67493344f2",
     "grade": true,
     "grade_id": "cell-ca352d8389c1809a",
     "locked": true,
     "points": 15,
     "schema_version": 1,
     "solution": false
    }
   },
   "outputs": [],
   "source": [
    "# This cell contains a hidden test, please don't delete it, thx"
   ]
  },
  {
   "cell_type": "markdown",
   "metadata": {
    "deletable": false,
    "editable": false,
    "nbgrader": {
     "checksum": "20719070ed85964de9722acc3456a515",
     "grade": false,
     "grade_id": "cell-5c77370db7cec9f2",
     "locked": true,
     "schema_version": 1,
     "solution": false
    }
   },
   "source": [
    "Run the box below to train the model using the hyperparameters you entered above."
   ]
  },
  {
   "cell_type": "code",
   "execution_count": 37,
   "metadata": {
    "deletable": false,
    "editable": false,
    "nbgrader": {
     "checksum": "38306be3638e85812bd5b2a052fcc0a4",
     "grade": false,
     "grade_id": "cell-5712d42de1068398",
     "locked": true,
     "schema_version": 1,
     "solution": false
    }
   },
   "outputs": [
    {
     "name": "stdout",
     "output_type": "stream",
     "text": [
      "Train Epoch: 1 [0/60000 (0%)]\tLoss: tensor\n",
      "Train Epoch: 1 [2000/60000 (3%)]\tLoss: tensor\n",
      "Train Epoch: 1 [4000/60000 (7%)]\tLoss: tensor\n",
      "Train Epoch: 1 [6000/60000 (10%)]\tLoss: tensor\n",
      "Train Epoch: 1 [8000/60000 (13%)]\tLoss: tensor\n",
      "Train Epoch: 1 [10000/60000 (17%)]\tLoss: tensor\n",
      "Train Epoch: 1 [12000/60000 (20%)]\tLoss: tensor\n",
      "Train Epoch: 1 [14000/60000 (23%)]\tLoss: tensor\n",
      "Train Epoch: 1 [16000/60000 (27%)]\tLoss: tensor\n",
      "Train Epoch: 1 [18000/60000 (30%)]\tLoss: tensor\n",
      "Train Epoch: 1 [20000/60000 (33%)]\tLoss: tensor\n",
      "Train Epoch: 1 [22000/60000 (37%)]\tLoss: tensor\n",
      "Train Epoch: 1 [24000/60000 (40%)]\tLoss: tensor\n",
      "Train Epoch: 1 [26000/60000 (43%)]\tLoss: tensor\n",
      "Train Epoch: 1 [28000/60000 (47%)]\tLoss: tensor\n",
      "Train Epoch: 1 [30000/60000 (50%)]\tLoss: tensor\n",
      "Train Epoch: 1 [32000/60000 (53%)]\tLoss: tensor\n",
      "Train Epoch: 1 [34000/60000 (57%)]\tLoss: tensor\n",
      "Train Epoch: 1 [36000/60000 (60%)]\tLoss: tensor\n",
      "Train Epoch: 1 [38000/60000 (63%)]\tLoss: tensor\n",
      "Train Epoch: 1 [40000/60000 (67%)]\tLoss: tensor\n",
      "Train Epoch: 1 [42000/60000 (70%)]\tLoss: tensor\n",
      "Train Epoch: 1 [44000/60000 (73%)]\tLoss: tensor\n",
      "Train Epoch: 1 [46000/60000 (77%)]\tLoss: tensor\n",
      "Train Epoch: 1 [48000/60000 (80%)]\tLoss: tensor\n",
      "Train Epoch: 1 [50000/60000 (83%)]\tLoss: tensor\n",
      "Train Epoch: 1 [52000/60000 (87%)]\tLoss: tensor\n",
      "Train Epoch: 1 [54000/60000 (90%)]\tLoss: tensor\n",
      "Train Epoch: 1 [56000/60000 (93%)]\tLoss: tensor\n",
      "Train Epoch: 1 [58000/60000 (97%)]\tLoss: tensor\n",
      "====> Epoch: 1 Average loss: tens\n",
      "Train Epoch: 2 [0/60000 (0%)]\tLoss: tensor\n",
      "Train Epoch: 2 [2000/60000 (3%)]\tLoss: tensor\n",
      "Train Epoch: 2 [4000/60000 (7%)]\tLoss: tensor\n",
      "Train Epoch: 2 [6000/60000 (10%)]\tLoss: tensor\n",
      "Train Epoch: 2 [8000/60000 (13%)]\tLoss: tensor\n",
      "Train Epoch: 2 [10000/60000 (17%)]\tLoss: tensor\n",
      "Train Epoch: 2 [12000/60000 (20%)]\tLoss: tensor\n",
      "Train Epoch: 2 [14000/60000 (23%)]\tLoss: tensor\n",
      "Train Epoch: 2 [16000/60000 (27%)]\tLoss: tensor\n",
      "Train Epoch: 2 [18000/60000 (30%)]\tLoss: tensor\n",
      "Train Epoch: 2 [20000/60000 (33%)]\tLoss: tensor\n",
      "Train Epoch: 2 [22000/60000 (37%)]\tLoss: tensor\n",
      "Train Epoch: 2 [24000/60000 (40%)]\tLoss: tensor\n",
      "Train Epoch: 2 [26000/60000 (43%)]\tLoss: tensor\n",
      "Train Epoch: 2 [28000/60000 (47%)]\tLoss: tensor\n",
      "Train Epoch: 2 [30000/60000 (50%)]\tLoss: tensor\n",
      "Train Epoch: 2 [32000/60000 (53%)]\tLoss: tensor\n",
      "Train Epoch: 2 [34000/60000 (57%)]\tLoss: tensor\n",
      "Train Epoch: 2 [36000/60000 (60%)]\tLoss: tensor\n",
      "Train Epoch: 2 [38000/60000 (63%)]\tLoss: tensor\n",
      "Train Epoch: 2 [40000/60000 (67%)]\tLoss: tensor\n",
      "Train Epoch: 2 [42000/60000 (70%)]\tLoss: tensor\n",
      "Train Epoch: 2 [44000/60000 (73%)]\tLoss: tensor\n",
      "Train Epoch: 2 [46000/60000 (77%)]\tLoss: tensor\n",
      "Train Epoch: 2 [48000/60000 (80%)]\tLoss: tensor\n",
      "Train Epoch: 2 [50000/60000 (83%)]\tLoss: tensor\n",
      "Train Epoch: 2 [52000/60000 (87%)]\tLoss: tensor\n",
      "Train Epoch: 2 [54000/60000 (90%)]\tLoss: tensor\n",
      "Train Epoch: 2 [56000/60000 (93%)]\tLoss: tensor\n",
      "Train Epoch: 2 [58000/60000 (97%)]\tLoss: tensor\n",
      "====> Epoch: 2 Average loss: tens\n",
      "Train Epoch: 3 [0/60000 (0%)]\tLoss: tensor\n",
      "Train Epoch: 3 [2000/60000 (3%)]\tLoss: tensor\n",
      "Train Epoch: 3 [4000/60000 (7%)]\tLoss: tensor\n",
      "Train Epoch: 3 [6000/60000 (10%)]\tLoss: tensor\n",
      "Train Epoch: 3 [8000/60000 (13%)]\tLoss: tensor\n",
      "Train Epoch: 3 [10000/60000 (17%)]\tLoss: tensor\n",
      "Train Epoch: 3 [12000/60000 (20%)]\tLoss: tensor\n",
      "Train Epoch: 3 [14000/60000 (23%)]\tLoss: tensor\n",
      "Train Epoch: 3 [16000/60000 (27%)]\tLoss: tensor\n",
      "Train Epoch: 3 [18000/60000 (30%)]\tLoss: tensor\n",
      "Train Epoch: 3 [20000/60000 (33%)]\tLoss: tensor\n",
      "Train Epoch: 3 [22000/60000 (37%)]\tLoss: tensor\n",
      "Train Epoch: 3 [24000/60000 (40%)]\tLoss: tensor\n",
      "Train Epoch: 3 [26000/60000 (43%)]\tLoss: tensor\n",
      "Train Epoch: 3 [28000/60000 (47%)]\tLoss: tensor\n",
      "Train Epoch: 3 [30000/60000 (50%)]\tLoss: tensor\n",
      "Train Epoch: 3 [32000/60000 (53%)]\tLoss: tensor\n",
      "Train Epoch: 3 [34000/60000 (57%)]\tLoss: tensor\n",
      "Train Epoch: 3 [36000/60000 (60%)]\tLoss: tensor\n",
      "Train Epoch: 3 [38000/60000 (63%)]\tLoss: tensor\n",
      "Train Epoch: 3 [40000/60000 (67%)]\tLoss: tensor\n",
      "Train Epoch: 3 [42000/60000 (70%)]\tLoss: tensor\n",
      "Train Epoch: 3 [44000/60000 (73%)]\tLoss: tensor\n",
      "Train Epoch: 3 [46000/60000 (77%)]\tLoss: tensor\n",
      "Train Epoch: 3 [48000/60000 (80%)]\tLoss: tensor\n",
      "Train Epoch: 3 [50000/60000 (83%)]\tLoss: tensor\n",
      "Train Epoch: 3 [52000/60000 (87%)]\tLoss: tensor\n",
      "Train Epoch: 3 [54000/60000 (90%)]\tLoss: tensor\n",
      "Train Epoch: 3 [56000/60000 (93%)]\tLoss: tensor\n",
      "Train Epoch: 3 [58000/60000 (97%)]\tLoss: tensor\n",
      "====> Epoch: 3 Average loss: tens\n",
      "Train Epoch: 4 [0/60000 (0%)]\tLoss: tensor\n",
      "Train Epoch: 4 [2000/60000 (3%)]\tLoss: tensor\n",
      "Train Epoch: 4 [4000/60000 (7%)]\tLoss: tensor\n",
      "Train Epoch: 4 [6000/60000 (10%)]\tLoss: tensor\n",
      "Train Epoch: 4 [8000/60000 (13%)]\tLoss: tensor\n",
      "Train Epoch: 4 [10000/60000 (17%)]\tLoss: tensor\n",
      "Train Epoch: 4 [12000/60000 (20%)]\tLoss: tensor\n",
      "Train Epoch: 4 [14000/60000 (23%)]\tLoss: tensor\n",
      "Train Epoch: 4 [16000/60000 (27%)]\tLoss: tensor\n",
      "Train Epoch: 4 [18000/60000 (30%)]\tLoss: tensor\n",
      "Train Epoch: 4 [20000/60000 (33%)]\tLoss: tensor\n",
      "Train Epoch: 4 [22000/60000 (37%)]\tLoss: tensor\n",
      "Train Epoch: 4 [24000/60000 (40%)]\tLoss: tensor\n",
      "Train Epoch: 4 [26000/60000 (43%)]\tLoss: tensor\n",
      "Train Epoch: 4 [28000/60000 (47%)]\tLoss: tensor\n",
      "Train Epoch: 4 [30000/60000 (50%)]\tLoss: tensor\n",
      "Train Epoch: 4 [32000/60000 (53%)]\tLoss: tensor\n",
      "Train Epoch: 4 [34000/60000 (57%)]\tLoss: tensor\n",
      "Train Epoch: 4 [36000/60000 (60%)]\tLoss: tensor\n",
      "Train Epoch: 4 [38000/60000 (63%)]\tLoss: tensor\n",
      "Train Epoch: 4 [40000/60000 (67%)]\tLoss: tensor\n",
      "Train Epoch: 4 [42000/60000 (70%)]\tLoss: tensor\n",
      "Train Epoch: 4 [44000/60000 (73%)]\tLoss: tensor\n",
      "Train Epoch: 4 [46000/60000 (77%)]\tLoss: tensor\n",
      "Train Epoch: 4 [48000/60000 (80%)]\tLoss: tensor\n",
      "Train Epoch: 4 [50000/60000 (83%)]\tLoss: tensor\n",
      "Train Epoch: 4 [52000/60000 (87%)]\tLoss: tensor\n",
      "Train Epoch: 4 [54000/60000 (90%)]\tLoss: tensor\n",
      "Train Epoch: 4 [56000/60000 (93%)]\tLoss: tensor\n",
      "Train Epoch: 4 [58000/60000 (97%)]\tLoss: tensor\n",
      "====> Epoch: 4 Average loss: tens\n",
      "Train Epoch: 5 [0/60000 (0%)]\tLoss: tensor\n",
      "Train Epoch: 5 [2000/60000 (3%)]\tLoss: tensor\n",
      "Train Epoch: 5 [4000/60000 (7%)]\tLoss: tensor\n",
      "Train Epoch: 5 [6000/60000 (10%)]\tLoss: tensor\n",
      "Train Epoch: 5 [8000/60000 (13%)]\tLoss: tensor\n",
      "Train Epoch: 5 [10000/60000 (17%)]\tLoss: tensor\n",
      "Train Epoch: 5 [12000/60000 (20%)]\tLoss: tensor\n",
      "Train Epoch: 5 [14000/60000 (23%)]\tLoss: tensor\n",
      "Train Epoch: 5 [16000/60000 (27%)]\tLoss: tensor\n",
      "Train Epoch: 5 [18000/60000 (30%)]\tLoss: tensor\n",
      "Train Epoch: 5 [20000/60000 (33%)]\tLoss: tensor\n",
      "Train Epoch: 5 [22000/60000 (37%)]\tLoss: tensor\n",
      "Train Epoch: 5 [24000/60000 (40%)]\tLoss: tensor\n",
      "Train Epoch: 5 [26000/60000 (43%)]\tLoss: tensor\n",
      "Train Epoch: 5 [28000/60000 (47%)]\tLoss: tensor\n",
      "Train Epoch: 5 [30000/60000 (50%)]\tLoss: tensor\n",
      "Train Epoch: 5 [32000/60000 (53%)]\tLoss: tensor\n",
      "Train Epoch: 5 [34000/60000 (57%)]\tLoss: tensor\n",
      "Train Epoch: 5 [36000/60000 (60%)]\tLoss: tensor\n",
      "Train Epoch: 5 [38000/60000 (63%)]\tLoss: tensor\n",
      "Train Epoch: 5 [40000/60000 (67%)]\tLoss: tensor\n",
      "Train Epoch: 5 [42000/60000 (70%)]\tLoss: tensor\n",
      "Train Epoch: 5 [44000/60000 (73%)]\tLoss: tensor\n",
      "Train Epoch: 5 [46000/60000 (77%)]\tLoss: tensor\n",
      "Train Epoch: 5 [48000/60000 (80%)]\tLoss: tensor\n",
      "Train Epoch: 5 [50000/60000 (83%)]\tLoss: tensor\n",
      "Train Epoch: 5 [52000/60000 (87%)]\tLoss: tensor\n",
      "Train Epoch: 5 [54000/60000 (90%)]\tLoss: tensor\n",
      "Train Epoch: 5 [56000/60000 (93%)]\tLoss: tensor\n",
      "Train Epoch: 5 [58000/60000 (97%)]\tLoss: tensor\n",
      "====> Epoch: 5 Average loss: tens\n",
      "Train Epoch: 6 [0/60000 (0%)]\tLoss: tensor\n",
      "Train Epoch: 6 [2000/60000 (3%)]\tLoss: tensor\n",
      "Train Epoch: 6 [4000/60000 (7%)]\tLoss: tensor\n",
      "Train Epoch: 6 [6000/60000 (10%)]\tLoss: tensor\n",
      "Train Epoch: 6 [8000/60000 (13%)]\tLoss: tensor\n",
      "Train Epoch: 6 [10000/60000 (17%)]\tLoss: tensor\n",
      "Train Epoch: 6 [12000/60000 (20%)]\tLoss: tensor\n",
      "Train Epoch: 6 [14000/60000 (23%)]\tLoss: tensor\n",
      "Train Epoch: 6 [16000/60000 (27%)]\tLoss: tensor\n",
      "Train Epoch: 6 [18000/60000 (30%)]\tLoss: tensor\n",
      "Train Epoch: 6 [20000/60000 (33%)]\tLoss: tensor\n",
      "Train Epoch: 6 [22000/60000 (37%)]\tLoss: tensor\n",
      "Train Epoch: 6 [24000/60000 (40%)]\tLoss: tensor\n",
      "Train Epoch: 6 [26000/60000 (43%)]\tLoss: tensor\n",
      "Train Epoch: 6 [28000/60000 (47%)]\tLoss: tensor\n",
      "Train Epoch: 6 [30000/60000 (50%)]\tLoss: tensor\n",
      "Train Epoch: 6 [32000/60000 (53%)]\tLoss: tensor\n",
      "Train Epoch: 6 [34000/60000 (57%)]\tLoss: tensor\n",
      "Train Epoch: 6 [36000/60000 (60%)]\tLoss: tensor\n"
     ]
    },
    {
     "name": "stdout",
     "output_type": "stream",
     "text": [
      "Train Epoch: 6 [38000/60000 (63%)]\tLoss: tensor\n",
      "Train Epoch: 6 [40000/60000 (67%)]\tLoss: tensor\n",
      "Train Epoch: 6 [42000/60000 (70%)]\tLoss: tensor\n",
      "Train Epoch: 6 [44000/60000 (73%)]\tLoss: tensor\n",
      "Train Epoch: 6 [46000/60000 (77%)]\tLoss: tensor\n",
      "Train Epoch: 6 [48000/60000 (80%)]\tLoss: tensor\n",
      "Train Epoch: 6 [50000/60000 (83%)]\tLoss: tensor\n",
      "Train Epoch: 6 [52000/60000 (87%)]\tLoss: tensor\n",
      "Train Epoch: 6 [54000/60000 (90%)]\tLoss: tensor\n",
      "Train Epoch: 6 [56000/60000 (93%)]\tLoss: tensor\n",
      "Train Epoch: 6 [58000/60000 (97%)]\tLoss: tensor\n",
      "====> Epoch: 6 Average loss: tens\n",
      "Train Epoch: 7 [0/60000 (0%)]\tLoss: tensor\n",
      "Train Epoch: 7 [2000/60000 (3%)]\tLoss: tensor\n",
      "Train Epoch: 7 [4000/60000 (7%)]\tLoss: tensor\n",
      "Train Epoch: 7 [6000/60000 (10%)]\tLoss: tensor\n",
      "Train Epoch: 7 [8000/60000 (13%)]\tLoss: tensor\n",
      "Train Epoch: 7 [10000/60000 (17%)]\tLoss: tensor\n",
      "Train Epoch: 7 [12000/60000 (20%)]\tLoss: tensor\n",
      "Train Epoch: 7 [14000/60000 (23%)]\tLoss: tensor\n",
      "Train Epoch: 7 [16000/60000 (27%)]\tLoss: tensor\n",
      "Train Epoch: 7 [18000/60000 (30%)]\tLoss: tensor\n",
      "Train Epoch: 7 [20000/60000 (33%)]\tLoss: tensor\n",
      "Train Epoch: 7 [22000/60000 (37%)]\tLoss: tensor\n",
      "Train Epoch: 7 [24000/60000 (40%)]\tLoss: tensor\n",
      "Train Epoch: 7 [26000/60000 (43%)]\tLoss: tensor\n",
      "Train Epoch: 7 [28000/60000 (47%)]\tLoss: tensor\n",
      "Train Epoch: 7 [30000/60000 (50%)]\tLoss: tensor\n",
      "Train Epoch: 7 [32000/60000 (53%)]\tLoss: tensor\n",
      "Train Epoch: 7 [34000/60000 (57%)]\tLoss: tensor\n",
      "Train Epoch: 7 [36000/60000 (60%)]\tLoss: tensor\n",
      "Train Epoch: 7 [38000/60000 (63%)]\tLoss: tensor\n",
      "Train Epoch: 7 [40000/60000 (67%)]\tLoss: tensor\n",
      "Train Epoch: 7 [42000/60000 (70%)]\tLoss: tensor\n",
      "Train Epoch: 7 [44000/60000 (73%)]\tLoss: tensor\n",
      "Train Epoch: 7 [46000/60000 (77%)]\tLoss: tensor\n",
      "Train Epoch: 7 [48000/60000 (80%)]\tLoss: tensor\n",
      "Train Epoch: 7 [50000/60000 (83%)]\tLoss: tensor\n",
      "Train Epoch: 7 [52000/60000 (87%)]\tLoss: tensor\n",
      "Train Epoch: 7 [54000/60000 (90%)]\tLoss: tensor\n",
      "Train Epoch: 7 [56000/60000 (93%)]\tLoss: tensor\n",
      "Train Epoch: 7 [58000/60000 (97%)]\tLoss: tensor\n",
      "====> Epoch: 7 Average loss: tens\n",
      "Train Epoch: 8 [0/60000 (0%)]\tLoss: tensor\n",
      "Train Epoch: 8 [2000/60000 (3%)]\tLoss: tensor\n",
      "Train Epoch: 8 [4000/60000 (7%)]\tLoss: tensor\n",
      "Train Epoch: 8 [6000/60000 (10%)]\tLoss: tensor\n",
      "Train Epoch: 8 [8000/60000 (13%)]\tLoss: tensor\n",
      "Train Epoch: 8 [10000/60000 (17%)]\tLoss: tensor\n",
      "Train Epoch: 8 [12000/60000 (20%)]\tLoss: tensor\n",
      "Train Epoch: 8 [14000/60000 (23%)]\tLoss: tensor\n",
      "Train Epoch: 8 [16000/60000 (27%)]\tLoss: tensor\n",
      "Train Epoch: 8 [18000/60000 (30%)]\tLoss: tensor\n",
      "Train Epoch: 8 [20000/60000 (33%)]\tLoss: tensor\n",
      "Train Epoch: 8 [22000/60000 (37%)]\tLoss: tensor\n",
      "Train Epoch: 8 [24000/60000 (40%)]\tLoss: tensor\n",
      "Train Epoch: 8 [26000/60000 (43%)]\tLoss: tensor\n",
      "Train Epoch: 8 [28000/60000 (47%)]\tLoss: tensor\n",
      "Train Epoch: 8 [30000/60000 (50%)]\tLoss: tensor\n",
      "Train Epoch: 8 [32000/60000 (53%)]\tLoss: tensor\n",
      "Train Epoch: 8 [34000/60000 (57%)]\tLoss: tensor\n",
      "Train Epoch: 8 [36000/60000 (60%)]\tLoss: tensor\n",
      "Train Epoch: 8 [38000/60000 (63%)]\tLoss: tensor\n",
      "Train Epoch: 8 [40000/60000 (67%)]\tLoss: tensor\n",
      "Train Epoch: 8 [42000/60000 (70%)]\tLoss: tensor\n",
      "Train Epoch: 8 [44000/60000 (73%)]\tLoss: tensor\n",
      "Train Epoch: 8 [46000/60000 (77%)]\tLoss: tensor\n",
      "Train Epoch: 8 [48000/60000 (80%)]\tLoss: tensor\n",
      "Train Epoch: 8 [50000/60000 (83%)]\tLoss: tensor\n",
      "Train Epoch: 8 [52000/60000 (87%)]\tLoss: tensor\n",
      "Train Epoch: 8 [54000/60000 (90%)]\tLoss: tensor\n",
      "Train Epoch: 8 [56000/60000 (93%)]\tLoss: tensor\n",
      "Train Epoch: 8 [58000/60000 (97%)]\tLoss: tensor\n",
      "====> Epoch: 8 Average loss: tens\n",
      "Train Epoch: 9 [0/60000 (0%)]\tLoss: tensor\n",
      "Train Epoch: 9 [2000/60000 (3%)]\tLoss: tensor\n",
      "Train Epoch: 9 [4000/60000 (7%)]\tLoss: tensor\n",
      "Train Epoch: 9 [6000/60000 (10%)]\tLoss: tensor\n",
      "Train Epoch: 9 [8000/60000 (13%)]\tLoss: tensor\n",
      "Train Epoch: 9 [10000/60000 (17%)]\tLoss: tensor\n",
      "Train Epoch: 9 [12000/60000 (20%)]\tLoss: tensor\n",
      "Train Epoch: 9 [14000/60000 (23%)]\tLoss: tensor\n",
      "Train Epoch: 9 [16000/60000 (27%)]\tLoss: tensor\n",
      "Train Epoch: 9 [18000/60000 (30%)]\tLoss: tensor\n",
      "Train Epoch: 9 [20000/60000 (33%)]\tLoss: tensor\n",
      "Train Epoch: 9 [22000/60000 (37%)]\tLoss: tensor\n",
      "Train Epoch: 9 [24000/60000 (40%)]\tLoss: tensor\n",
      "Train Epoch: 9 [26000/60000 (43%)]\tLoss: tensor\n",
      "Train Epoch: 9 [28000/60000 (47%)]\tLoss: tensor\n",
      "Train Epoch: 9 [30000/60000 (50%)]\tLoss: tensor\n",
      "Train Epoch: 9 [32000/60000 (53%)]\tLoss: tensor\n",
      "Train Epoch: 9 [34000/60000 (57%)]\tLoss: tensor\n",
      "Train Epoch: 9 [36000/60000 (60%)]\tLoss: tensor\n",
      "Train Epoch: 9 [38000/60000 (63%)]\tLoss: tensor\n",
      "Train Epoch: 9 [40000/60000 (67%)]\tLoss: tensor\n",
      "Train Epoch: 9 [42000/60000 (70%)]\tLoss: tensor\n",
      "Train Epoch: 9 [44000/60000 (73%)]\tLoss: tensor\n",
      "Train Epoch: 9 [46000/60000 (77%)]\tLoss: tensor\n",
      "Train Epoch: 9 [48000/60000 (80%)]\tLoss: tensor\n",
      "Train Epoch: 9 [50000/60000 (83%)]\tLoss: tensor\n",
      "Train Epoch: 9 [52000/60000 (87%)]\tLoss: tensor\n",
      "Train Epoch: 9 [54000/60000 (90%)]\tLoss: tensor\n",
      "Train Epoch: 9 [56000/60000 (93%)]\tLoss: tensor\n",
      "Train Epoch: 9 [58000/60000 (97%)]\tLoss: tensor\n",
      "====> Epoch: 9 Average loss: tens\n",
      "Train Epoch: 10 [0/60000 (0%)]\tLoss: tensor\n",
      "Train Epoch: 10 [2000/60000 (3%)]\tLoss: tensor\n",
      "Train Epoch: 10 [4000/60000 (7%)]\tLoss: tensor\n",
      "Train Epoch: 10 [6000/60000 (10%)]\tLoss: tensor\n",
      "Train Epoch: 10 [8000/60000 (13%)]\tLoss: tensor\n",
      "Train Epoch: 10 [10000/60000 (17%)]\tLoss: tensor\n",
      "Train Epoch: 10 [12000/60000 (20%)]\tLoss: tensor\n",
      "Train Epoch: 10 [14000/60000 (23%)]\tLoss: tensor\n",
      "Train Epoch: 10 [16000/60000 (27%)]\tLoss: tensor\n",
      "Train Epoch: 10 [18000/60000 (30%)]\tLoss: tensor\n",
      "Train Epoch: 10 [20000/60000 (33%)]\tLoss: tensor\n",
      "Train Epoch: 10 [22000/60000 (37%)]\tLoss: tensor\n",
      "Train Epoch: 10 [24000/60000 (40%)]\tLoss: tensor\n",
      "Train Epoch: 10 [26000/60000 (43%)]\tLoss: tensor\n",
      "Train Epoch: 10 [28000/60000 (47%)]\tLoss: tensor\n",
      "Train Epoch: 10 [30000/60000 (50%)]\tLoss: tensor\n",
      "Train Epoch: 10 [32000/60000 (53%)]\tLoss: tensor\n",
      "Train Epoch: 10 [34000/60000 (57%)]\tLoss: tensor\n",
      "Train Epoch: 10 [36000/60000 (60%)]\tLoss: tensor\n",
      "Train Epoch: 10 [38000/60000 (63%)]\tLoss: tensor\n",
      "Train Epoch: 10 [40000/60000 (67%)]\tLoss: tensor\n",
      "Train Epoch: 10 [42000/60000 (70%)]\tLoss: tensor\n",
      "Train Epoch: 10 [44000/60000 (73%)]\tLoss: tensor\n",
      "Train Epoch: 10 [46000/60000 (77%)]\tLoss: tensor\n",
      "Train Epoch: 10 [48000/60000 (80%)]\tLoss: tensor\n",
      "Train Epoch: 10 [50000/60000 (83%)]\tLoss: tensor\n",
      "Train Epoch: 10 [52000/60000 (87%)]\tLoss: tensor\n",
      "Train Epoch: 10 [54000/60000 (90%)]\tLoss: tensor\n",
      "Train Epoch: 10 [56000/60000 (93%)]\tLoss: tensor\n",
      "Train Epoch: 10 [58000/60000 (97%)]\tLoss: tensor\n",
      "====> Epoch: 10 Average loss: tens\n"
     ]
    }
   ],
   "source": [
    "from torchvision import datasets, transforms\n",
    "from torch import nn, optim\n",
    "\n",
    "# Load data\n",
    "train_data = datasets.MNIST('../data', train=True, download=True,\n",
    "                   transform=transforms.ToTensor())\n",
    "\n",
    "train_loader = torch.utils.data.DataLoader(train_data,\n",
    "                                           batch_size=batch_size, shuffle=True, **{})\n",
    "\n",
    "# Init model\n",
    "VAE_MNIST = VAE(fc1_dims=fc1_dims, fc21_dims=fc21_dims, fc22_dims=fc22_dims, fc3_dims=fc3_dims, fc4_dims=fc4_dims)\n",
    "\n",
    "# Init optimizer\n",
    "optimizer = optim.Adam(VAE_MNIST.parameters(), lr=lr)\n",
    "\n",
    "# Train\n",
    "for epoch in range(1, epochs + 1):\n",
    "    train(epoch, train_loader, VAE_MNIST, optimizer)\n"
   ]
  },
  {
   "cell_type": "markdown",
   "metadata": {
    "deletable": false,
    "editable": false,
    "nbgrader": {
     "checksum": "e2f8fcc9384e30cb154cf931f223898b",
     "grade": false,
     "grade_id": "cell-bd07c058c661b9c6",
     "locked": true,
     "schema_version": 1,
     "solution": false
    }
   },
   "source": [
    "Run the box below to check if the model you trained above is able to correctly reconstruct images."
   ]
  },
  {
   "cell_type": "markdown",
   "metadata": {
    "collapsed": true,
    "deletable": false,
    "editable": false,
    "nbgrader": {
     "checksum": "80d198e03b1287741d761a12e38dcf73",
     "grade": false,
     "grade_id": "cell-df03d717307a6863",
     "locked": true,
     "schema_version": 1,
     "solution": false
    }
   },
   "source": [
    "### Let's check if the reconstructions make sense\n",
    "# Set model to test mode\n",
    "VAE_MNIST.eval()\n",
    "    \n",
    "# Reconstructed\n",
    "train_data_plot = datasets.MNIST('../data', train=True, download=True,\n",
    "                   transform=transforms.ToTensor())\n",
    "\n",
    "train_loader_plot = torch.utils.data.DataLoader(train_data_plot,\n",
    "                                           batch_size=1, shuffle=False, **{})\n",
    "\n",
    "for batch_idx, (data, _) in enumerate(train_loader_plot):\n",
    "    x_hat, mu, logvar = VAE_MNIST(data)\n",
    "    plt.imshow(x_hat.view(1,28,28).squeeze().data.numpy(), cmap='gray')\n",
    "    plt.title('%i' % train_data.train_labels[batch_idx])\n",
    "    plt.show()\n",
    "    if batch_idx == 3:\n",
    "        break\n"
   ]
  },
  {
   "cell_type": "code",
   "execution_count": 295,
   "metadata": {
    "scrolled": true
   },
   "outputs": [
    {
     "data": {
      "image/png": "[encoded data removed]",
      "text/plain": [
       "<matplotlib.figure.Figure at 0x7f9774423438>"
      ]
     },
     "metadata": {},
     "output_type": "display_data"
    },
    {
     "data": {
      "image/png": "[encoded data removed]",
      "text/plain": [
       "<matplotlib.figure.Figure at 0x7f977424b080>"
      ]
     },
     "metadata": {},
     "output_type": "display_data"
    },
    {
     "data": {
      "image/png": "[encoded data removed]",
      "text/plain": [
       "<matplotlib.figure.Figure at 0x7f9776e3c048>"
      ]
     },
     "metadata": {},
     "output_type": "display_data"
    },
    {
     "data": {
      "image/png": "[encoded data removed]",
      "text/plain": [
       "<matplotlib.figure.Figure at 0x7f9774c07be0>"
      ]
     },
     "metadata": {},
     "output_type": "display_data"
    }
   ],
   "source": [
    "### Let's check if the reconstructions make sense\n",
    "# Set model to test mode\n",
    "VAE_MNIST.eval()\n",
    "    \n",
    "# Reconstructed\n",
    "train_data_plot = datasets.MNIST('../data', train=True, download=True,\n",
    "                   transform=transforms.ToTensor())\n",
    "\n",
    "train_loader_plot = torch.utils.data.DataLoader(train_data_plot,\n",
    "                                           batch_size=1, shuffle=False, **{})\n",
    "\n",
    "for batch_idx, (data, _) in enumerate(train_loader_plot):\n",
    "    x_hat, mu, logvar = VAE_MNIST(Variable(data))\n",
    "    plt.imshow(x_hat.view(1,28,28).squeeze().data.numpy(), cmap='gray')\n",
    "    plt.title('%i' % train_data.train_labels[batch_idx])\n",
    "    plt.show()\n",
    "    if batch_idx == 3:\n",
    "        break\n"
   ]
  },
  {
   "cell_type": "markdown",
   "metadata": {
    "deletable": false,
    "editable": false,
    "nbgrader": {
     "checksum": "7f559122b150f5f1228d6b66b62f462c",
     "grade": false,
     "grade_id": "cell-76649d51fdf133dc",
     "locked": true,
     "schema_version": 1,
     "solution": false
    }
   },
   "source": [
    "### 2.8 Visualize latent space (20 points)\n",
    "Now, implement the auto-encoder now with a 2-dimensional latent space, and train again over the MNIST data. Make a visualization of the learned manifold by using a linearly spaced coordinate grid as input for the latent space, as seen in  https://arxiv.org/abs/1312.6114 Figure 4."
   ]
  },
  {
   "cell_type": "markdown",
   "metadata": {
    "collapsed": true,
    "deletable": false,
    "nbgrader": {
     "checksum": "c879ffdb0d355349d7144a33d16ca93a",
     "grade": true,
     "grade_id": "cell-4a0af6d08d055bee",
     "locked": false,
     "points": 20,
     "schema_version": 1,
     "solution": true
    }
   },
   "source": [
    "nx = 3\n",
    "ny = 3\n",
    "x = np.linspace(-1, 1, nx)\n",
    "y = np.linspace(-1, 1, ny)\n",
    "xx, yy = np.meshgrid(x, y)\n",
    "arr = []\n",
    "# print(xx, yy)\n",
    "# inp = Variable(torch.FloatTensor(xx))\n",
    "# outp = VAE_MNIST.decode(inp)\n",
    "# print(outp.data.numpy())\n",
    "# arr = np.array(outp.data.numpy())\n",
    "# print(arr.shape)\n",
    "for xi in x:\n",
    "    for yj in y:\n",
    "        print(xi, yj)\n",
    "        input_z = Variable(torch.FloatTensor(np.array([[xi, yj],[xi, yj]])))\n",
    "        output = VAE_MNIST.decode(input_z)\n",
    "        print(output.data.numpy().shape)\n",
    "        half = output.data.numpy()[0,:]\n",
    "        arr.append(half.reshape(28,28))\n",
    "\n",
    "plt.imshow(half.reshape(28, 28), cmap='gray')\n",
    "plt.show()  \n",
    "# inp2 = VAE_MNIST.decode(Variable(torch.FloatTensor(yy))).data.numpy()\n",
    "# print(inp2.shape)\n",
    "# arr2 = np.array([arr, inp2])\n",
    "arr = np.array(arr)\n",
    "print(arr.shape)\n",
    "plt.imshow(arr.reshape(nx*28, ny*28), cmap='gray')\n",
    "plt.show()"
   ]
  },
  {
   "cell_type": "code",
   "execution_count": 53,
   "metadata": {},
   "outputs": [
    {
     "data": {
      "image/png": "[encoded data removed]",
      "text/plain": [
       "<Figure size 432x288 with 1 Axes>"
      ]
     },
     "metadata": {},
     "output_type": "display_data"
    }
   ],
   "source": [
    "nx = 10\n",
    "ny = 10\n",
    "x = np.linspace(-1, 1, nx)\n",
    "y = np.linspace(-1, 1, ny)\n",
    "xx, yy = np.meshgrid(x, y)\n",
    "arr = np.zeros((nx*28, ny*28))\n",
    "for i,xi in enumerate(x):\n",
    "    for j,yj in enumerate(y):\n",
    "        input_z = Variable(torch.FloatTensor(np.array([[xi, yj],[xi, yj]])))\n",
    "        output = VAE_MNIST.decode(input_z)\n",
    "        half = output.data.numpy()[0,:]\n",
    "        arr[28*i:28*(i+1), 28*j:28*(j+1)] = half.reshape((28,28))\n",
    "\n",
    "arr = np.array(arr)\n",
    "plt.imshow(arr.reshape(nx*28, ny*28), cmap='gray')\n",
    "plt.show()"
   ]
  },
  {
   "cell_type": "markdown",
   "metadata": {
    "deletable": false,
    "editable": false,
    "nbgrader": {
     "checksum": "b9eb1684d646eea84a25638d184bfbda",
     "grade": false,
     "grade_id": "cell-dc5e1247a1e21009",
     "locked": true,
     "schema_version": 1,
     "solution": false
    }
   },
   "source": [
    "### 2.8 Amortized inference (10 points)\n",
    "What is amortized inference? Where in the code of Part 2 is it used? What is the benefit of using it?\n"
   ]
  },
  {
   "cell_type": "markdown",
   "metadata": {
    "deletable": false,
    "nbgrader": {
     "checksum": "364ed922da59070f319d0bdfb0e41d92",
     "grade": true,
     "grade_id": "cell-6f7808a9b0098dbf",
     "locked": false,
     "points": 10,
     "schema_version": 1,
     "solution": true
    }
   },
   "source": [
    "Amortized inference is is sharing (amortizing) the variational parameters across datapoints. In Part 2 this is done by sharing the biases."
   ]
  },
  {
   "cell_type": "code",
   "execution_count": null,
   "metadata": {
    "collapsed": true
   },
   "outputs": [],
   "source": []
  }
 ],
 "metadata": {
  "kernelspec": {
   "display_name": "Python 3",
   "language": "python",
   "name": "python3"
  },
  "language_info": {
   "codemirror_mode": {
    "name": "ipython",
    "version": 3
   },
   "file_extension": ".py",
   "mimetype": "text/x-python",
   "name": "python",
   "nbconvert_exporter": "python",
   "pygments_lexer": "ipython3",
   "version": "3.6.4"
  }
 },
 "nbformat": 4,
 "nbformat_minor": 2
}
