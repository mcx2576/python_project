{
 "cells": [
  {
   "cell_type": "markdown",
   "metadata": {},
   "source": [
    "# **Save this file as studentid1_studentid2_lab#.ipynb**\n",
    "(Your student-id is the number shown on your student card.)\n",
    "\n",
    "E.g. if you work with 3 people, the notebook should be named:\n",
    "12301230_3434343_1238938934_lab1.ipynb.\n",
    "\n",
    "**This will be parsed by a regexp, so please double check your filename.**\n",
    "\n",
    "Before you turn this problem in, please make sure everything runs correctly. First, **restart the kernel** (in the menubar, select Kernel$\\rightarrow$Restart) and then **run all cells** (in the menubar, select Cell$\\rightarrow$Run All).\n",
    "\n",
    "**Make sure you fill in any place that says `YOUR CODE HERE` or \"YOUR ANSWER HERE\", as well as your names and email adresses below.**\n",
    "\n"
   ]
  },
  {
   "cell_type": "code",
   "execution_count": 1,
   "metadata": {
    "collapsed": true
   },
   "outputs": [],
   "source": [
    "NAME = \"Masoumeh Bakhtiariziabari\"\n",
    "NAME2 = \"Changxin Miao\"\n",
    "NAME3 = \"Abel Ságodi\"\n",
    "EMAIL = \"mbakhtiariz@gmail.com\"\n",
    "EMAIL2 = \"mcx2576@gmail.com\"\n",
    "EMAIL3 = \"abel.sagodi@gmail.com\""
   ]
  },
  {
   "cell_type": "markdown",
   "metadata": {},
   "source": [
    "---"
   ]
  },
  {
   "cell_type": "markdown",
   "metadata": {
    "deletable": false,
    "editable": false,
    "nbgrader": {
     "checksum": "c39ec76a03b2143870009fb35729e8e0",
     "grade": false,
     "grade_id": "cell-8d856208da5d0763",
     "locked": true,
     "schema_version": 1,
     "solution": false
    }
   },
   "source": [
    "# Lab 2: Classification\n",
    "\n",
    "### Machine Learning 1, September 2017\n",
    "\n",
    "Notes on implementation:\n",
    "\n",
    "* You should write your code and answers in this IPython Notebook: http://ipython.org/notebook.html. If you have problems, please contact your teaching assistant.\n",
    "* Please write your answers right below the questions.\n",
    "* Among the first lines of your notebook should be \"%pylab inline\". This imports all required modules, and your plots will appear inline.\n",
    "* Use the provided test cells to check if your answers are correct\n",
    "* **Make sure your output and plots are correct before handing in your assignment with Kernel -> Restart & Run All**\n",
    "\n",
    "$\\newcommand{\\bx}{\\mathbf{x}}$\n",
    "$\\newcommand{\\bw}{\\mathbf{w}}$\n",
    "$\\newcommand{\\bt}{\\mathbf{t}}$\n",
    "$\\newcommand{\\by}{\\mathbf{y}}$\n",
    "$\\newcommand{\\bm}{\\mathbf{m}}$\n",
    "$\\newcommand{\\bb}{\\mathbf{b}}$\n",
    "$\\newcommand{\\bS}{\\mathbf{S}}$\n",
    "$\\newcommand{\\ba}{\\mathbf{a}}$\n",
    "$\\newcommand{\\bz}{\\mathbf{z}}$\n",
    "$\\newcommand{\\bv}{\\mathbf{v}}$\n",
    "$\\newcommand{\\bq}{\\mathbf{q}}$\n",
    "$\\newcommand{\\bp}{\\mathbf{p}}$\n",
    "$\\newcommand{\\bh}{\\mathbf{h}}$\n",
    "$\\newcommand{\\bI}{\\mathbf{I}}$\n",
    "$\\newcommand{\\bX}{\\mathbf{X}}$\n",
    "$\\newcommand{\\bT}{\\mathbf{T}}$\n",
    "$\\newcommand{\\bPhi}{\\mathbf{\\Phi}}$\n",
    "$\\newcommand{\\bW}{\\mathbf{W}}$\n",
    "$\\newcommand{\\bV}{\\mathbf{V}}$"
   ]
  },
  {
   "cell_type": "code",
   "execution_count": 2,
   "metadata": {
    "deletable": false,
    "editable": false,
    "nbgrader": {
     "checksum": "694e16c6fa7261b60747c28904049744",
     "grade": false,
     "grade_id": "cell-422dbc02437671ac",
     "locked": true,
     "schema_version": 1,
     "solution": false
    }
   },
   "outputs": [
    {
     "name": "stdout",
     "output_type": "stream",
     "text": [
      "Populating the interactive namespace from numpy and matplotlib\n"
     ]
    }
   ],
   "source": [
    "%pylab inline\n",
    "plt.rcParams[\"figure.figsize\"] = [9,5]"
   ]
  },
  {
   "cell_type": "markdown",
   "metadata": {
    "deletable": false,
    "editable": false,
    "nbgrader": {
     "checksum": "17f77a32492fcf6ac989eab8a50e4dab",
     "grade": false,
     "grade_id": "cell-821f67d8cd14e4f7",
     "locked": true,
     "schema_version": 1,
     "solution": false
    }
   },
   "source": [
    "# Part 1. Multiclass logistic regression\n",
    "\n",
    "Scenario: you have a friend with one big problem: she's completely blind. You decided to help her: she has a special smartphone for blind people, and you are going to develop a mobile phone app that can do _machine vision_ using the mobile camera: converting a picture (from the camera) to the meaning of the image. You decide to start with an app that can read handwritten digits, i.e. convert an image of handwritten digits to text (e.g. it would enable her to read precious handwritten phone numbers).\n",
    "\n",
    "A key building block for such an app would be a function `predict_digit(x)` that returns the digit class of an image patch $\\bx$. Since hand-coding this function is highly non-trivial, you decide to solve this problem using machine learning, such that the internal parameters of this function are automatically learned using machine learning techniques.\n",
    "\n",
    "The dataset you're going to use for this is the MNIST handwritten digits dataset (`http://yann.lecun.com/exdb/mnist/`). You can download the data with scikit learn, and load it as follows:"
   ]
  },
  {
   "cell_type": "code",
   "execution_count": 3,
   "metadata": {
    "collapsed": true,
    "deletable": false,
    "editable": false,
    "nbgrader": {
     "checksum": "b82a7c9aec1e9157526d4fbe12f1d75d",
     "grade": false,
     "grade_id": "cell-bcdbc957165abae7",
     "locked": true,
     "schema_version": 1,
     "solution": false
    }
   },
   "outputs": [],
   "source": [
    "from sklearn.datasets import fetch_mldata\n",
    "# Fetch the data\n",
    "mnist = fetch_mldata('MNIST original')\n",
    "data, target = mnist.data, mnist.target.astype('int')\n",
    "# Shuffle\n",
    "indices = np.arange(len(data))\n",
    "np.random.seed(123)\n",
    "np.random.shuffle(indices)\n",
    "data, target = data[indices].astype('float32'), target[indices]\n",
    "\n",
    "# Normalize the data between 0.0 and 1.0:\n",
    "data /= 255. \n",
    "\n",
    "# Split\n",
    "x_train, x_valid, x_test = data[:50000], data[50000:60000], data[60000: 70000]\n",
    "t_train, t_valid, t_test = target[:50000], target[50000:60000], target[60000: 70000]"
   ]
  },
  {
   "cell_type": "markdown",
   "metadata": {
    "deletable": false,
    "editable": false,
    "nbgrader": {
     "checksum": "5b20138af0810741223d2c2ddc82bf0f",
     "grade": false,
     "grade_id": "cell-b7b4a5a96dccf229",
     "locked": true,
     "schema_version": 1,
     "solution": false
    }
   },
   "source": [
    "MNIST consists of small 28 by 28 pixel images of written digits (0-9). We split the dataset into a training, validation and testing arrays. The variables `x_train`, `x_valid` and `x_test` are $N \\times M$ matrices, where $N$ is the number of datapoints in the respective set, and $M = 28^2 = 784$ is the dimensionality of the data. The second set of variables `t_train`, `t_valid` and `t_test` contain the corresponding $N$-dimensional vector of integers, containing the true class labels.\n",
    "\n",
    "Here's a visualisation of the first 8 digits of the trainingset:"
   ]
  },
  {
   "cell_type": "code",
   "execution_count": 4,
   "metadata": {
    "deletable": false,
    "editable": false,
    "nbgrader": {
     "checksum": "40e1628ec56b6d664edf9aaf496ea637",
     "grade": false,
     "grade_id": "cell-48a92c0a2a2bf4dd",
     "locked": true,
     "schema_version": 1,
     "solution": false
    }
   },
   "outputs": [
    {
     "data": {
      "image/png": "[encoded data removed]",
      "text/plain": [
       "<matplotlib.figure.Figure at 0x7fdb1ad06f10>"
      ]
     },
     "metadata": {},
     "output_type": "display_data"
    }
   ],
   "source": [
    "def plot_digits(data, num_cols, targets=None, shape=(28,28)):\n",
    "    num_digits = data.shape[0]\n",
    "    num_rows = int(num_digits/num_cols)\n",
    "    for i in range(num_digits):\n",
    "        plt.subplot(num_rows, num_cols, i+1)\n",
    "        plt.imshow(data[i].reshape(shape), interpolation='none', cmap='Greys')\n",
    "        if targets is not None:\n",
    "            plt.title(int(targets[i]))\n",
    "        plt.colorbar()\n",
    "        plt.axis('off')\n",
    "    plt.tight_layout()\n",
    "    plt.show()\n",
    "    \n",
    "plot_digits(x_train[0:40000:5000], num_cols=4, targets=t_train[0:40000:5000])"
   ]
  },
  {
   "cell_type": "markdown",
   "metadata": {
    "deletable": false,
    "editable": false,
    "nbgrader": {
     "checksum": "9908b1f7669980cd126946bf7983c096",
     "grade": false,
     "grade_id": "cell-3eb664a58e03bf42",
     "locked": true,
     "schema_version": 1,
     "solution": false
    }
   },
   "source": [
    "In _multiclass_ logistic regression, the conditional probability of class label $j$ given the image $\\bx$ for some datapoint is given by:\n",
    "\n",
    "$ \\log p(t = j \\;|\\; \\bx, \\bb, \\bW) = \\log q_j - \\log Z$\n",
    "\n",
    "where $\\log q_j = \\bw_j^T \\bx + b_j$ (the log of the unnormalized probability of the class $j$), and $Z = \\sum_k q_k$ is the normalizing factor. $\\bw_j$ is the $j$-th column of $\\bW$ (a matrix of size $784 \\times 10$) corresponding to the class label, $b_j$ is the $j$-th element of $\\bb$.\n",
    "\n",
    "Given an input image, the multiclass logistic regression model first computes the intermediate vector $\\log \\bq$ (of size $10 \\times 1$), using $\\log q_j = \\bw_j^T \\bx + b_j$, containing the unnormalized log-probabilities per class. \n",
    "\n",
    "The unnormalized probabilities are then normalized by $Z$ such that $\\sum_j p_j = \\sum_j \\exp(\\log p_j) = 1$. This is done by $\\log p_j = \\log q_j - \\log Z$ where $Z = \\sum_i \\exp(\\log q_i)$. This is known as the _softmax_ transformation, and is also used as a last layer of many classifcation neural network models, to ensure that the output of the network is a normalized distribution, regardless of the values of second-to-last layer ($\\log \\bq$)\n",
    "\n",
    "**Warning**: when computing $\\log Z$, you are likely to encounter numerical problems. Save yourself countless hours of debugging and learn the [log-sum-exp trick](https://hips.seas.harvard.edu/blog/2013/01/09/computing-log-sum-exp/ \"Title\").\n",
    "\n",
    "The network's output $\\log \\bp$ of size $10 \\times 1$ then contains the conditional log-probabilities $\\log p(t = j \\;|\\; \\bx, \\bb, \\bW)$ for each digit class $j$. In summary, the computations are done in this order:\n",
    "\n",
    "$\\bx \\rightarrow \\log \\bq \\rightarrow Z \\rightarrow \\log \\bp$\n",
    "\n",
    "Given some dataset with $N$ independent, identically distributed datapoints, the log-likelihood is given by:\n",
    "\n",
    "$ \\mathcal{L}(\\bb, \\bW) = \\sum_{n=1}^N \\mathcal{L}^{(n)}$\n",
    "\n",
    "where we use $\\mathcal{L}^{(n)}$ to denote the partial log-likelihood evaluated over a single datapoint. It is important to see that the log-probability of the class label $t^{(n)}$ given the image, is given by the $t^{(n)}$-th element of the network's output $\\log \\bp$, denoted by $\\log p_{t^{(n)}}$:\n",
    "\n",
    "$\\mathcal{L}^{(n)} = \\log p(t = t^{(n)} \\;|\\; \\bx = \\bx^{(n)}, \\bb, \\bW) = \\log p_{t^{(n)}} = \\log q_{t^{(n)}} - \\log Z^{(n)}$\n",
    "\n",
    "where $\\bx^{(n)}$ and $t^{(n)}$ are the input (image) and class label (integer) of the $n$-th datapoint, and $Z^{(n)}$ is the normalizing constant for the distribution over $t^{(n)}$.\n"
   ]
  },
  {
   "cell_type": "markdown",
   "metadata": {
    "deletable": false,
    "editable": false,
    "nbgrader": {
     "checksum": "dfb50b2b2d11a7b8d1fe9bf5e9586442",
     "grade": false,
     "grade_id": "cell-17766ee789f11384",
     "locked": true,
     "schema_version": 1,
     "solution": false
    }
   },
   "source": [
    "## 1.1 Gradient-based stochastic optimization\n",
    "### 1.1.1 Derive gradient equations (20 points)\n",
    "\n",
    "Derive the equations for computing the (first) partial derivatives of the log-likelihood w.r.t. all the parameters, evaluated at a _single_ datapoint $n$.\n",
    "\n",
    "You should start deriving the equations for $\\frac{\\partial \\mathcal{L}^{(n)}}{\\partial \\log q_j}$ for each $j$. For clarity, we'll use the shorthand $\\delta^q_j = \\frac{\\partial \\mathcal{L}^{(n)}}{\\partial \\log q_j}$.\n",
    "\n",
    "For $j = t^{(n)}$:\n",
    "$\n",
    "\\delta^q_j\n",
    "= \\frac{\\partial \\mathcal{L}^{(n)}}{\\partial \\log p_j}\n",
    "\\frac{\\partial \\log p_j}{\\partial \\log q_j}\n",
    "+ \\frac{\\partial \\mathcal{L}^{(n)}}{\\partial \\log Z}\n",
    "\\frac{\\partial \\log Z}{\\partial Z} \n",
    "\\frac{\\partial Z}{\\partial \\log q_j} \n",
    "= 1 \\cdot 1 - \\frac{\\partial \\log Z}{\\partial Z} \n",
    "\\frac{\\partial Z}{\\partial \\log q_j}\n",
    "= 1 - \\frac{\\partial \\log Z}{\\partial Z} \n",
    "\\frac{\\partial Z}{\\partial \\log q_j}\n",
    "$\n",
    "\n",
    "For $j \\neq t^{(n)}$:\n",
    "$\n",
    "\\delta^q_j\n",
    "= \\frac{\\partial \\mathcal{L}^{(n)}}{\\partial \\log Z}\n",
    "\\frac{\\partial \\log Z}{\\partial Z} \n",
    "\\frac{\\partial Z}{\\partial \\log q_j} \n",
    "= - \\frac{\\partial \\log Z}{\\partial Z} \n",
    "\\frac{\\partial Z}{\\partial \\log q_j}\n",
    "$\n",
    "\n",
    "Complete the above derivations for $\\delta^q_j$ by furtherly developing $\\frac{\\partial \\log Z}{\\partial Z}$ and $\\frac{\\partial Z}{\\partial \\log q_j}$. Both are quite simple. For these it doesn't matter whether $j = t^{(n)}$ or not.\n",
    "\n"
   ]
  },
  {
   "cell_type": "markdown",
   "metadata": {
    "deletable": false,
    "nbgrader": {
     "checksum": "f394ea0423ed2b17c80bbe8f1193cc81",
     "grade": true,
     "grade_id": "cell-e40110444a1e1d3f",
     "locked": false,
     "points": 10,
     "schema_version": 1,
     "solution": true
    }
   },
   "source": [
    "For $j = t^{(n)}$:\n",
    "\\begin{align}\n",
    "\\delta^q_j\n",
    "&= 1 - \\frac{\\partial \\log Z}{\\partial Z} \n",
    "\\frac{\\partial Z}{\\partial \\log q_j} = 1-\\frac{1}{Z}\\exp \\log q_j\n",
    "\\end{align}\n",
    "For $j \\neq t^{(n)}$:\n",
    "\\begin{align}\n",
    "\\delta^q_j\n",
    "&= -\\frac{1}{Z}q_j\n",
    "\\end{align}\n",
    "YOUR ANSWER HERE"
   ]
  },
  {
   "cell_type": "markdown",
   "metadata": {
    "deletable": false,
    "editable": false,
    "nbgrader": {
     "checksum": "d46c028e9830445397d7b2275815990d",
     "grade": false,
     "grade_id": "cell-c770cfe1389ca4ff",
     "locked": true,
     "schema_version": 1,
     "solution": false
    }
   },
   "source": [
    "Given your equations for computing the gradients $\\delta^q_j$ it should be quite straightforward to derive the equations for the gradients of the parameters of the model, $\\frac{\\partial \\mathcal{L}^{(n)}}{\\partial W_{ij}}$ and $\\frac{\\partial \\mathcal{L}^{(n)}}{\\partial b_j}$. The gradients for the biases $\\bb$ are given by:\n",
    "\n",
    "$\n",
    "\\frac{\\partial \\mathcal{L}^{(n)}}{\\partial b_j}\n",
    "= \\frac{\\partial \\mathcal{L}^{(n)}}{\\partial \\log q_j}\n",
    "\\frac{\\partial \\log q_j}{\\partial b_j}\n",
    "= \\delta^q_j\n",
    "\\cdot 1\n",
    "= \\delta^q_j\n",
    "$\n",
    "\n",
    "The equation above gives the derivative of $\\mathcal{L}^{(n)}$ w.r.t. a single element of $\\bb$, so the vector $\\nabla_\\bb \\mathcal{L}^{(n)}$ with all derivatives of $\\mathcal{L}^{(n)}$ w.r.t. the bias parameters $\\bb$ is: \n",
    "\n",
    "$\n",
    "\\nabla_\\bb \\mathcal{L}^{(n)} = \\mathbf{\\delta}^q\n",
    "$\n",
    "\n",
    "where $\\mathbf{\\delta}^q$ denotes the vector of size $10 \\times 1$ with elements $\\mathbf{\\delta}_j^q$.\n",
    "\n",
    "The (not fully developed) equation for computing the derivative of $\\mathcal{L}^{(n)}$ w.r.t. a single element $W_{ij}$ of $\\bW$ is:\n",
    "\n",
    "$\n",
    "\\frac{\\partial \\mathcal{L}^{(n)}}{\\partial W_{ij}} =\n",
    "\\frac{\\partial \\mathcal{L}^{(n)}}{\\partial \\log q_j}\n",
    "\\frac{\\partial \\log q_j}{\\partial W_{ij}}\n",
    "= \\mathbf{\\delta}_j^q\n",
    "\\frac{\\partial \\log q_j}{\\partial W_{ij}}\n",
    "$\n",
    "\n",
    "What is $\\frac{\\partial \\log q_j}{\\partial W_{ij}}$? Complete the equation above.\n",
    "\n",
    "If you want, you can give the resulting equation in vector format ($\\nabla_{\\bw_j} \\mathcal{L}^{(n)} = ...$), like we did for $\\nabla_\\bb \\mathcal{L}^{(n)}$."
   ]
  },
  {
   "cell_type": "markdown",
   "metadata": {
    "deletable": false,
    "nbgrader": {
     "checksum": "70fc98e5b227736e2bb92964a3c7174d",
     "grade": true,
     "grade_id": "cell-e40110444a1asdfasdfd3f",
     "locked": false,
     "points": 10,
     "schema_version": 1,
     "solution": true
    }
   },
   "source": [
    "YOUR ANSWER HERE\n",
    "$$\n",
    "\\mathbf{\\delta}_j^q \\frac{\\partial \\log q_j}{\\partial W_{ij}} \n",
    "= \\mathbf{\\delta}_j^qx_i\n",
    "$$"
   ]
  },
  {
   "cell_type": "markdown",
   "metadata": {
    "deletable": false,
    "editable": false,
    "nbgrader": {
     "checksum": "99387b4094640d8cd71bfd15687abc31",
     "grade": false,
     "grade_id": "cell-b0f28b0924b9983d",
     "locked": true,
     "schema_version": 1,
     "solution": false
    }
   },
   "source": [
    "### 1.1.2 Implement gradient computations (10 points)\n",
    "\n",
    "Implement the gradient calculations you derived in the previous question. Write a function `logreg_gradient(x, t, w, b)` that returns the gradients $\\nabla_{\\bw_j} \\mathcal{L}^{(n)}$ (for each $j$) and $\\nabla_{\\bb} \\mathcal{L}^{(n)}$, i.e. the first partial derivatives of the log-likelihood w.r.t. the parameters $\\bW$ and $\\bb$, evaluated at a single datapoint (`x`, `t`).\n",
    "The computation will contain roughly the following intermediate variables:\n",
    "\n",
    "$\n",
    "\\log \\bq \\rightarrow Z \\rightarrow \\log \\bp\\,,\\, \\mathbf{\\delta}^q\n",
    "$\n",
    "\n",
    "followed by computation of the gradient vectors $\\nabla_{\\bw_j} \\mathcal{L}^{(n)}$ (contained in a $784 \\times 10$ matrix) and $\\nabla_{\\bb} \\mathcal{L}^{(n)}$ (a $10 \\times 1$ vector).\n",
    "\n",
    "For maximum points, ensure the function is numerically stable.\n"
   ]
  },
  {
   "cell_type": "code",
   "execution_count": 87,
   "metadata": {
    "collapsed": true,
    "deletable": false,
    "nbgrader": {
     "checksum": "46b3dd32a8837896ac75063695c150f8",
     "grade": false,
     "grade_id": "cell-6858f885be587480",
     "locked": false,
     "schema_version": 1,
     "solution": true
    }
   },
   "outputs": [],
   "source": [
    "# 1.1.2 Compute gradient of log p(t|x;w,b) wrt w and b\n",
    "\n",
    "def log_likelihood(x, w, b):\n",
    "    logq = x.dot(w)+b    \n",
    "    Z = np.sum(np.exp(logq))\n",
    "    za = np.max(logq)\n",
    "    logZ = za + np.log(np.sum(np.exp(logq - za)))\n",
    "    logp = logq - logZ \n",
    "    #print(\"index of max log likelihood:\",np.argmax(np.array(logp[0])))\n",
    "    \n",
    "    return logp, logq, Z\n",
    "\n",
    "def logreg_gradient(x, t, w, b):       \n",
    "    logp, logq, Z = log_likelihood(x, w, b)\n",
    "    dL_q=np.zeros((10,))\n",
    "    dL_dw=np.zeros((784, 10))\n",
    "    dL_db=np.zeros((10,))\n",
    "\n",
    "    for j in range(10):\n",
    "        if j==t:\n",
    "            dL_q[j]=1-1/Z*np.power(e,logq[:,j])\n",
    "        else:\n",
    "            dL_q[j]=-1/Z*np.power(e,logq[:,j])\n",
    "        dL_dw[:,j]=dL_q[j]*x\n",
    "        dL_db[j]=dL_q[j]\n",
    "    #print(dL_dw)\n",
    "    #print(logp.shape)\n",
    "    #print(t)\n",
    "    #print(logp[:,t])\n",
    "    return logp[:,t].squeeze(), dL_dw, dL_db.squeeze()"
   ]
  },
  {
   "cell_type": "code",
   "execution_count": 88,
   "metadata": {
    "deletable": false,
    "editable": false,
    "nbgrader": {
     "checksum": "bcebc974c2a0ac928c9f0381e7e86eec",
     "grade": true,
     "grade_id": "cell-1c9659f607b151a2",
     "locked": true,
     "points": 4,
     "schema_version": 1,
     "solution": false
    }
   },
   "outputs": [
    {
     "name": "stdout",
     "output_type": "stream",
     "text": [
      "Test gradient on one point\n",
      "('Likelihood:\\t', array(-2.2959726720744777))\n",
      "('\\nGrad_W_ij\\t', (784, 10), 'matrix')\n",
      "('Grad_W_ij[0,152:158]=\\t', array([-0.04518971, -0.06758809, -0.07819784, -0.09077238, -0.07584012,\n",
      "       -0.06365855]))\n",
      "('\\nGrad_B_i shape\\t', (10,), 'vector')\n",
      "('Grad_B_i=\\t', array([-0.10020327, -0.09977827, -0.1003198 ,  0.89933657, -0.10037941,\n",
      "       -0.10072863, -0.09982729, -0.09928672, -0.09949324, -0.09931994]))\n",
      "i in {0,...,9}; j in M\n"
     ]
    }
   ],
   "source": [
    "np.random.seed(123)\n",
    "# scalar, 10 X 768  matrix, 10 X 1 vector\n",
    "w = np.random.normal(size=(28*28,10), scale=0.001)\n",
    "# w = np.zeros((784,10))\n",
    "b = np.zeros((10,))\n",
    "\n",
    "# test gradients, train on 1 sample\n",
    "logpt, grad_w, grad_b = logreg_gradient(x_train[0:1,:], t_train[0:1], w, b)\n",
    "\n",
    "print(\"Test gradient on one point\")\n",
    "print(\"Likelihood:\\t\", logpt)\n",
    "print(\"\\nGrad_W_ij\\t\",grad_w.shape,\"matrix\")\n",
    "print(\"Grad_W_ij[0,152:158]=\\t\", grad_w[152:158,0])\n",
    "print(\"\\nGrad_B_i shape\\t\",grad_b.shape,\"vector\")\n",
    "print(\"Grad_B_i=\\t\", grad_b.T)\n",
    "print(\"i in {0,...,9}; j in M\")\n",
    "\n",
    "assert logpt.shape == (), logpt.shape\n",
    "assert grad_w.shape == (784, 10), grad_w.shape\n",
    "assert grad_b.shape == (10,), grad_b.shape\n",
    "\n",
    "\n"
   ]
  },
  {
   "cell_type": "code",
   "execution_count": 89,
   "metadata": {
    "deletable": false,
    "editable": false,
    "nbgrader": {
     "checksum": "72121207fa6163adf16cb3381ddde510",
     "grade": true,
     "grade_id": "cell-fd59c3a03a87ab83",
     "locked": true,
     "points": 4,
     "schema_version": 1,
     "solution": false
    }
   },
   "outputs": [
    {
     "name": "stdout",
     "output_type": "stream",
     "text": [
      "('Finite difference error grad_w:', 6.420766263386158e-07)\n",
      "('Finite difference error grad_b:', 5.2351174951052616e-08)\n"
     ]
    }
   ],
   "source": [
    "# It's always good to check your gradient implementations with finite difference checking:\n",
    "# Scipy provides the check_grad function, which requires flat input variables.\n",
    "# So we write two helper functions that provide can compute the gradient and output with 'flat' weights:\n",
    "from scipy.optimize import check_grad\n",
    "\n",
    "np.random.seed(123)\n",
    "# scalar, 10 X 768  matrix, 10 X 1 vector\n",
    "w = np.random.normal(size=(28*28,10), scale=0.001)\n",
    "# w = np.zeros((784,10))\n",
    "b = np.zeros((10,))\n",
    "\n",
    "def func(w):\n",
    "    logpt, grad_w, grad_b = logreg_gradient(x_train[0:1,:], t_train[0:1], w.reshape(784,10), b)\n",
    "    return logpt\n",
    "def grad(w):\n",
    "    logpt, grad_w, grad_b = logreg_gradient(x_train[0:1,:], t_train[0:1], w.reshape(784,10), b)\n",
    "    return grad_w.flatten()\n",
    "finite_diff_error = check_grad(func, grad, w.flatten())\n",
    "print('Finite difference error grad_w:', finite_diff_error)\n",
    "assert finite_diff_error < 1e-3, 'Your gradient computation for w seems off'\n",
    "\n",
    "def func(b):\n",
    "    logpt, grad_w, grad_b = logreg_gradient(x_train[0:1,:], t_train[0:1], w, b)\n",
    "    return logpt\n",
    "def grad(b):\n",
    "    logpt, grad_w, grad_b = logreg_gradient(x_train[0:1,:], t_train[0:1], w, b)\n",
    "    return grad_b.flatten()\n",
    "finite_diff_error = check_grad(func, grad, b)\n",
    "print('Finite difference error grad_b:', finite_diff_error)\n",
    "assert finite_diff_error < 1e-3, 'Your gradient computation for b seems off'\n",
    "\n"
   ]
  },
  {
   "cell_type": "code",
   "execution_count": null,
   "metadata": {
    "collapsed": true,
    "deletable": false,
    "editable": false,
    "nbgrader": {
     "checksum": "82f98bef86ddcf7387f50651a739b189",
     "grade": true,
     "grade_id": "cell-91b8c5eb86f6a0f3",
     "locked": true,
     "points": 2,
     "schema_version": 1,
     "solution": false
    }
   },
   "outputs": [],
   "source": []
  },
  {
   "cell_type": "markdown",
   "metadata": {
    "deletable": false,
    "editable": false,
    "nbgrader": {
     "checksum": "1aedefd481635db2e213dacbca5959d4",
     "grade": false,
     "grade_id": "cell-bdce061b39aaacec",
     "locked": true,
     "schema_version": 1,
     "solution": false
    }
   },
   "source": [
    "\n",
    "### 1.1.3 Stochastic gradient descent (10 points)\n",
    "\n",
    "Write a function `sgd_iter(x_train, t_train, w, b)` that performs one iteration of stochastic gradient descent (SGD), and returns the new weights. It should go through the trainingset once in randomized order, call `logreg_gradient(x, t, w, b)` for each datapoint to get the gradients, and update the parameters **using a small learning rate of `1E-6`**. Note that in this case we're maximizing the likelihood function, so we should actually performing gradient ___ascent___... For more information about SGD, see Bishop 5.2.4 or an online source (i.e. https://en.wikipedia.org/wiki/Stochastic_gradient_descent)"
   ]
  },
  {
   "cell_type": "code",
   "execution_count": 90,
   "metadata": {
    "collapsed": true,
    "deletable": false,
    "nbgrader": {
     "checksum": "a1fd10093bd350a24e4a718bc0133738",
     "grade": true,
     "grade_id": "cell-86bf84658f1c5bc8",
     "locked": false,
     "points": 5,
     "schema_version": 1,
     "solution": true
    }
   },
   "outputs": [],
   "source": [
    "def sgd_iter(x_train, t_train, W, b):\n",
    "    \n",
    "    arr = np.arange(len(x_train)) \n",
    "    np.random.shuffle(arr)                         \n",
    "    #logpt_for_one_x = np.zeros((10, len(t_train)))\n",
    "    #logp_temp = [] * len(x_train)   \n",
    "    wml = W.copy()\n",
    "    bml = b.copy()\n",
    "    for i in arr:\n",
    "        _, grad_w, grad_b = logreg_gradient(x_train[i:i+1], t_train[i], wml, bml)\n",
    "        wml += (1e-6)*grad_w\n",
    "        bml += (1e-6)*grad_b\n",
    "    \n",
    "    logp_train = 0\n",
    "    for i in range(len(x_train)):\n",
    "        logp_perdata, _, _ = log_likelihood(x_train[i:i+1], W, b)\n",
    "        logp_train += logp_perdata[:, t_train[i]]\n",
    "        #print(logp_train)\n",
    "    logp_train = logp_train/len(x_train)\n",
    "    \n",
    "    #print(logp_train, W, b)\n",
    "    return logp_train, wml, bml"
   ]
  },
  {
   "cell_type": "code",
   "execution_count": 91,
   "metadata": {
    "collapsed": true,
    "deletable": false,
    "editable": false,
    "nbgrader": {
     "checksum": "f4eb4ba6aee968be7e896cb4ef74e745",
     "grade": true,
     "grade_id": "cell-2f7bbc264cc887a0",
     "locked": true,
     "points": 5,
     "schema_version": 1,
     "solution": false
    }
   },
   "outputs": [],
   "source": [
    "# Sanity check:\n",
    "np.random.seed(1243)\n",
    "w = np.zeros((28*28, 10))\n",
    "b = np.zeros(10)\n",
    "    \n",
    "logp_train, W, b = sgd_iter(x_train[:5], t_train[:5], w, b)\n"
   ]
  },
  {
   "cell_type": "markdown",
   "metadata": {
    "deletable": false,
    "editable": false,
    "nbgrader": {
     "checksum": "32ce2e1e1bc8ee7c2ed647ea65c6f943",
     "grade": false,
     "grade_id": "cell-81634c804e1f93fc",
     "locked": true,
     "schema_version": 1,
     "solution": false
    }
   },
   "source": [
    "## 1.2. Train\n",
    "\n",
    "### 1.2.1 Train (10 points)\n",
    "Perform 10 SGD iterations through the trainingset. Plot (in one graph) the conditional log-probability of the trainingset and validation set after each iteration.\n"
   ]
  },
  {
   "cell_type": "code",
   "execution_count": 93,
   "metadata": {
    "deletable": false,
    "nbgrader": {
     "checksum": "02d6fffcf7065691be87ea236459d3e1",
     "grade": true,
     "grade_id": "cell-20a347ba4db6e82c",
     "locked": false,
     "points": 10,
     "schema_version": 1,
     "solution": true
    }
   },
   "outputs": [
    {
     "name": "stdout",
     "output_type": "stream",
     "text": [
      "('Epoch', 0)\n",
      "('train:', array([-2.30258509]))\n",
      "('valid:', array([-2.24930302]))\n",
      "('Epoch', 1)\n",
      "('train:', array([-2.24947421]))\n",
      "('valid:', array([-2.19835342]))\n",
      "('Epoch', 2)\n",
      "('train:', array([-2.19868652]))\n",
      "('valid:', array([-2.14950231]))\n",
      "('Epoch', 3)\n",
      "('train:', array([-2.14998375]))\n",
      "('valid:', array([-2.1025607]))\n",
      "('Epoch', 4)\n",
      "('train:', array([-2.10317827]))\n",
      "('valid:', array([-2.05741231]))\n",
      "('Epoch', 5)\n",
      "('train:', array([-2.05815078]))\n",
      "('valid:', array([-2.01396043]))\n",
      "('Epoch', 6)\n",
      "('train:', array([-2.01480439]))\n",
      "('valid:', array([-1.97212217]))\n",
      "('Epoch', 7)\n",
      "('train:', array([-1.97305889]))\n",
      "('valid:', array([-1.93183421]))\n",
      "('Epoch', 8)\n",
      "('train:', array([-1.93284982]))\n",
      "('valid:', array([-1.89303562]))\n",
      "('Epoch', 9)\n",
      "('train:', array([-1.89411697]))\n",
      "('valid:', array([-1.85566957]))\n",
      "(10, 1)\n",
      "(10, 1)\n"
     ]
    }
   ],
   "source": [
    "import matplotlib.pyplot as plt\n",
    "def test_sgd(x_train, t_train, w, b):\n",
    "    lpt = []\n",
    "    lpv = []\n",
    "    for i in range(10):  \n",
    "        print(\"Epoch\",i)\n",
    "        logp_train, w, b = sgd_iter(x_train, t_train, w, b)\n",
    "        print(\"train:\",logp_train)\n",
    "        lpt.append(logp_train)\n",
    "        #--------------------------------------------------------------------------\n",
    "        logp_valid = 0\n",
    "        for i in range(len(x_valid)):\n",
    "            logp_perdata, _, _ = log_likelihood(x_valid[i:i+1], w, b)\n",
    "            logp_valid += logp_perdata[:, t_valid[i]]\n",
    "        logp_valid = logp_valid/len(x_valid)\n",
    "        lpv.append(logp_valid)\n",
    "        print(\"valid:\",logp_valid)\n",
    "    print(np.array(lpt).shape)\n",
    "    print(np.array(lpv).shape)\n",
    "    return w, b, lpt, lpv\n",
    "\n",
    "np.random.seed(1243)\n",
    "w = np.zeros((28*28, 10))\n",
    "b = np.zeros(10)\n",
    "w, b, lpt, lpv = test_sgd(x_train, t_train, w, b)"
   ]
  },
  {
   "cell_type": "code",
   "execution_count": 94,
   "metadata": {},
   "outputs": [
    {
     "data": {
      "image/png": "[encoded data removed]",
      "text/plain": [
       "<matplotlib.figure.Figure at 0x7fdadc5e1490>"
      ]
     },
     "metadata": {},
     "output_type": "display_data"
    }
   ],
   "source": [
    "x = [i for i in range(10)]\n",
    "plt.figure(1)\n",
    "plt.plot(x,lpt, label='Training Set')\n",
    "plt.plot(x,lpv, label='Validation Set')\n",
    "plt.legend()\n",
    "plt.xlabel(\"Number of SGD iterations\")\n",
    "plt.ylabel(\"Log of likelihood\")\n",
    "plt.show()\n",
    "plt.close()"
   ]
  },
  {
   "cell_type": "markdown",
   "metadata": {
    "deletable": false,
    "editable": false,
    "nbgrader": {
     "checksum": "a6d85bbd97cad35d524b65b23f64e75f",
     "grade": false,
     "grade_id": "cell-cf7f3da57d19493a",
     "locked": true,
     "schema_version": 1,
     "solution": false
    }
   },
   "source": [
    "### 1.2.2 Visualize weights (10 points)\n",
    "Visualize the resulting parameters $\\bW$ after a few iterations through the training set, by treating each column of $\\bW$ as an image. If you want, you can use or edit the `plot_digits(...)` above.\n"
   ]
  },
  {
   "cell_type": "code",
   "execution_count": 95,
   "metadata": {
    "deletable": false,
    "nbgrader": {
     "checksum": "4e554436500eebe1527a31039570a264",
     "grade": true,
     "grade_id": "cell-b10656f35fac065e",
     "locked": false,
     "points": 5,
     "schema_version": 1,
     "solution": true
    }
   },
   "outputs": [
    {
     "data": {
      "image/png": "[encoded data removed]",
      "text/plain": [
       "<matplotlib.figure.Figure at 0x7fdadc322250>"
      ]
     },
     "metadata": {},
     "output_type": "display_data"
    }
   ],
   "source": [
    "def visualize_weights(w):\n",
    "    w_reshaped = np.reshape(np.transpose(w), (10,28,28))\n",
    "    plot_digits(data=w_reshaped, num_cols=5, targets=np.arange(10))\n",
    "visualize_weights(w)"
   ]
  },
  {
   "cell_type": "markdown",
   "metadata": {
    "deletable": false,
    "nbgrader": {
     "checksum": "de187afcf5ae1e34b80bc10610760e7a",
     "grade": true,
     "grade_id": "cell-eb131c8b7303da38",
     "locked": false,
     "points": 5,
     "schema_version": 1,
     "solution": true
    }
   },
   "source": [
    "Minimum loss is achieved when we get maximal response for the correct class output (and minimal for the rest.) Since the weights are multiplied by the corresponding input locations, the response would be maximized when the input image and the corresponding weights values for the correct class match well. It should be noted that areas that can best discriminate between similar classes would get higher weights; For example top-right part of weights associated with 6 is getting extra positive values to prevent a high response for samples from class 8."
   ]
  },
  {
   "cell_type": "markdown",
   "metadata": {
    "deletable": false,
    "editable": false,
    "nbgrader": {
     "checksum": "2bb485340ba8ee90a0d8cbc90fc7a7af",
     "grade": false,
     "grade_id": "cell-f36d974d9ef34c97",
     "locked": true,
     "schema_version": 1,
     "solution": false
    }
   },
   "source": [
    "### 1.2.3. Visualize the 8 hardest and 8 easiest digits (10 points)\n",
    "Visualize the 8 digits in the validation set with the highest probability of the true class label under the model.\n",
    "Also plot the 8 digits that were assigned the lowest probability.\n",
    "Ask yourself if these results make sense."
   ]
  },
  {
   "cell_type": "code",
   "execution_count": 96,
   "metadata": {
    "deletable": false,
    "nbgrader": {
     "checksum": "7fe3011f6f3ef6f6b00f58bb5dea7b76",
     "grade": true,
     "grade_id": "cell-3802d61680deeff5",
     "locked": false,
     "points": 10,
     "schema_version": 1,
     "solution": true
    }
   },
   "outputs": [
    {
     "data": {
      "image/png": "[encoded data removed]",
      "text/plain": [
       "<matplotlib.figure.Figure at 0x7fdada61ee10>"
      ]
     },
     "metadata": {},
     "output_type": "display_data"
    },
    {
     "data": {
      "image/png": "[encoded data removed]",
      "text/plain": [
       "<matplotlib.figure.Figure at 0x7fdadc671e10>"
      ]
     },
     "metadata": {},
     "output_type": "display_data"
    }
   ],
   "source": [
    "logp_valid = []\n",
    "for i in range(len(x_valid)):\n",
    "    logp_perdata, _, _ = log_likelihood(x_valid[i:i+1], w, b)\n",
    "    logp_valid.append(logp_perdata[:, t_valid[i]])\n",
    "\n",
    "sorted_index = np.argsort(np.array(logp_valid).squeeze())\n",
    "\n",
    "min_prob_x = [x_valid[sorted_index[i]] for i in range(8)]\n",
    "min_prob_t = [t_valid[sorted_index[i]] for i in range(8)]\n",
    "plot_digits(np.array(min_prob_x), num_cols=4, targets=min_prob_t)\n",
    "\n",
    "max_prob_x = [x_valid[sorted_index[i]] for i in range(len(sorted_index)-8,len(sorted_index))]\n",
    "max_prob_t = [t_valid[sorted_index[i]] for i in range(len(sorted_index)-8,len(sorted_index))]\n",
    "\n",
    "plot_digits(np.array(max_prob_x), num_cols=4, targets=max_prob_t)\n"
   ]
  },
  {
   "cell_type": "markdown",
   "metadata": {
    "deletable": false,
    "editable": false,
    "nbgrader": {
     "checksum": "8d3b971f8daced95f5020cfffcb89d02",
     "grade": false,
     "grade_id": "cell-2c525344c99e5b26",
     "locked": true,
     "schema_version": 1,
     "solution": false
    }
   },
   "source": [
    "# Part 2. Multilayer perceptron\n",
    "\n",
    "\n",
    "You discover that the predictions by the logistic regression classifier are not good enough for your application: the model is too simple. You want to increase the accuracy of your predictions by using a better model. For this purpose, you're going to use a multilayer perceptron (MLP), a simple kind of neural network. The perceptron wil have a single hidden layer $\\bh$ with $L$ elements. The parameters of the model are $\\bV$ (connections between input $\\bx$ and hidden layer $\\bh$), $\\ba$ (the biases/intercepts of $\\bh$), $\\bW$ (connections between $\\bh$ and $\\log q$) and $\\bb$ (the biases/intercepts of $\\log q$.\n",
    "\n",
    "The conditional probability of the class label $j$ is given by:\n",
    "\n",
    "$\\log p(t = j \\;|\\; \\bx, \\bb, \\bW) = \\log q_j - \\log Z$\n",
    "\n",
    "where $q_j$ are again the unnormalized probabilities per class, and $Z = \\sum_j q_j$ is again the probability normalizing factor. Each $q_j$ is computed using:\n",
    "\n",
    "$\\log q_j = \\bw_j^T \\bh + b_j$\n",
    "\n",
    "where $\\bh$ is a $L \\times 1$ vector with the hidden layer activations (of a hidden layer with size $L$), and $\\bw_j$ is the $j$-th column of $\\bW$ (a $L \\times 10$ matrix). Each element of the hidden layer is computed from the input vector $\\bx$ using:\n",
    "\n",
    "$h_j = \\sigma(\\bv_j^T \\bx + a_j)$\n",
    "\n",
    "where $\\bv_j$ is the $j$-th column of $\\bV$ (a $784 \\times L$ matrix), $a_j$ is the $j$-th element of $\\ba$, and $\\sigma(.)$ is the so-called sigmoid activation function, defined by:\n",
    "\n",
    "$\\sigma(x) = \\frac{1}{1 + \\exp(-x)}$\n",
    "\n",
    "Note that this model is almost equal to the multiclass logistic regression model, but with an extra 'hidden layer' $\\bh$. The activations of this hidden layer can be viewed as features computed from the input, where the feature transformation ($\\bV$ and $\\ba$) is learned.\n",
    "\n",
    "## 2.1 Derive gradient equations (20 points)\n",
    "\n",
    "State (shortly) why $\\nabla_{\\bb} \\mathcal{L}^{(n)}$ is equal to the earlier (multiclass logistic regression) case, and why $\\nabla_{\\bw_j} \\mathcal{L}^{(n)}$ is almost equal to the earlier case.\n",
    "\n",
    "Like in multiclass logistic regression, you should use intermediate variables $\\mathbf{\\delta}_j^q$. In addition, you should use intermediate variables $\\mathbf{\\delta}_j^h = \\frac{\\partial \\mathcal{L}^{(n)}}{\\partial h_j}$.\n",
    "\n",
    "Given an input image, roughly the following intermediate variables should be computed:\n",
    "\n",
    "$\n",
    "\\log \\bq \\rightarrow Z \\rightarrow \\log \\bp \\rightarrow \\mathbf{\\delta}^q \\rightarrow \\mathbf{\\delta}^h\n",
    "$\n",
    "\n",
    "where $\\mathbf{\\delta}_j^h = \\frac{\\partial \\mathcal{L}^{(n)}}{\\partial \\bh_j}$.\n",
    "\n",
    "Give the equations for computing $\\mathbf{\\delta}^h$, and for computing the derivatives of $\\mathcal{L}^{(n)}$ w.r.t. $\\bW$, $\\bb$, $\\bV$ and $\\ba$. \n",
    "\n",
    "You can use the convenient fact that $\\frac{\\partial}{\\partial x} \\sigma(x) = \\sigma(x) (1 - \\sigma(x))$."
   ]
  },
  {
   "cell_type": "markdown",
   "metadata": {
    "deletable": false,
    "nbgrader": {
     "checksum": "bb7ce29f01484f94a6357784ddaf6412",
     "grade": true,
     "grade_id": "cell-48f48bb8ec75cc3c",
     "locked": false,
     "points": 20,
     "schema_version": 1,
     "solution": true
    }
   },
   "source": [
    "In the case of $\\nabla_b\\mathcal{L}^{(n)}$ we have the same deriatives for the elements of the gradient which we can split it, namely, $\\frac{\\partial \\mathcal{L}^{(n)}}{\\partial \\log q_j} = \\delta^q_j$ and $\\frac{\\partial \\log q_j}{\\partial b_j} = 1$. \n",
    "We had that \n",
    "\\begin{align}\n",
    " \\delta_j^q = \n",
    "  \\begin{cases}\n",
    "    1 - \\frac{q_j}{Z}, & j = t^{(n)} \\\\\n",
    "    - \\frac{q_j}{Z}, & j \\neq t^{(n)}\n",
    "  \\end{cases}\n",
    "\\end{align}\n",
    "\n",
    "\n",
    "For $\\nabla_{w_j}\\mathcal{L}^{(n)}$ we have for the elements of the gradient \n",
    "$\n",
    "\\frac{\\partial \\mathcal{L}^{(n)}}{\\partial W_{ij}} \n",
    "= \\mathbf{\\delta}_j^q\n",
    "\\frac{\\partial \\log q_j}{\\partial W_{ij}}\n",
    "$\n",
    "while in this case \n",
    "$\n",
    "\\frac{\\partial \\log q_j}{\\partial W_{ij}} = h_i.\n",
    "$\n",
    "\n",
    "In order to compute $\\mathbf{\\delta}_j^h = \\frac{\\partial \\mathcal{L}^{(n)}}{\\partial \\bh_j}$\n",
    "we split the parital derivative as\n",
    "$\\frac{\\partial \\mathcal{L}^{(n)}}{\\partial \\bh_i} = \\frac{\\partial \\mathcal{L}^{(n)}}{\\partial \\log q_j}\\frac{\\partial \\log q_j}{\\partial \\bh_i} = \\delta_j^q \\cdot W_{ij}$. Then $\\delta^h$ = $(\\delta_j^q W_{ij})_i$.\n",
    "\n",
    "$\\frac{\\partial \\mathcal{L}^{(n)}}{\\partial V_{ij}}  = \\frac{\\partial \\mathcal{L}^{(n)}}{\\partial \\log q_j}\\frac{\\partial \\log q_j}{\\partial \\bh_j}\\frac{\\partial \\bh_j}{\\partial V_{ij}} = \\mathbf{\\delta}_j^q w_{jj}x_i\\sigma(\\bv_j^T \\bx + a_j)(1-\\sigma(\\bv_j^T \\bx + a_j)) = \\mathbf{\\delta}_j^h x_i\\sigma(\\bv_j^T \\bx + a_j)(1-\\sigma(\\bv_j^T \\bx + a_j)) $\n",
    "\n",
    "\n",
    "$\\frac{\\partial \\mathcal{L}^{(n)}}{\\partial a_{j}}  = \\frac{\\partial \\mathcal{L}^{(n)}}{\\partial \\log q_j}\\frac{\\partial \\log q_j}{\\partial \\bh_j}\\frac{\\partial \\bh_j}{\\partial a_{j}} = \\mathbf{\\delta}_j^q w_{jj}\\sigma(\\bv_j^T \\bx + a_j)(1-\\sigma(\\bv_j^T \\bx + a_j)) = \\mathbf{\\delta}_j^h \\sigma(\\bv_j^T \\bx + a_j)(1-\\sigma(\\bv_j^T \\bx + a_j))$\n"
   ]
  },
  {
   "cell_type": "markdown",
   "metadata": {
    "deletable": false,
    "editable": false,
    "nbgrader": {
     "checksum": "cfcfec5959134f7f3fca2ba585a94fba",
     "grade": false,
     "grade_id": "cell-0bff945081e993fc",
     "locked": true,
     "schema_version": 1,
     "solution": false
    }
   },
   "source": [
    "## 2.2 MAP optimization (10 points)\n",
    "\n",
    "You derived equations for finding the _maximum likelihood_ solution of the parameters. Explain, in a few sentences, how you could extend this approach so that it optimizes towards a _maximum a posteriori_ (MAP) solution of the parameters, with a Gaussian prior on the parameters. "
   ]
  },
  {
   "cell_type": "markdown",
   "metadata": {
    "deletable": false,
    "nbgrader": {
     "checksum": "49d6376929b1cdf60a9ca9282512f1b4",
     "grade": true,
     "grade_id": "cell-1daef2744c010b73",
     "locked": false,
     "points": 10,
     "schema_version": 1,
     "solution": true
    }
   },
   "source": [
    "The log likelihood was given by\n",
    "$$\\log p(t = j \\;|\\; \\bx, \\bb, \\bW) = \\log q_j - \\log Z.$$\n",
    "\n",
    "The Maximum A Posteriori for the weights $\\bW$ will be found be solving/optimizing (with SGD)\n",
    "$$\\log q_j - \\log Z - \\log p(\\bW)$$\n",
    "where $p(\\bW) = \\mathcal{N}(\\bW\\;|\\; \\mu_1, \\sigma_1)$\n",
    "and for the weights $\\bV$ with\n",
    "$$\\log q_j - \\log Z - \\log p(\\bV)$$\n",
    "where $p(\\bV) = \\mathcal{N}(\\bV\\;|\\; \\mu_2, \\sigma_2)$\n",
    "with some parameters $\\mu_i, \\sigma_i$ for $i=1,2$."
   ]
  },
  {
   "cell_type": "markdown",
   "metadata": {
    "deletable": false,
    "editable": false,
    "nbgrader": {
     "checksum": "02e47e2058c064a6f9518077e62a9357",
     "grade": false,
     "grade_id": "cell-2e56d8a567e2fb08",
     "locked": true,
     "schema_version": 1,
     "solution": false
    }
   },
   "source": [
    "## 2.3. Implement and train a MLP (15 points)\n",
    "\n",
    "Implement a MLP model with a single hidden layer of **20 neurons**. \n",
    "Train the model for **10 epochs**.\n",
    "Plot (in one graph) the conditional log-probability of the trainingset and validation set after each two iterations, as well as the weights.\n",
    "\n",
    "- 10 points: Working MLP that learns with plots\n",
    "- +5 points: Fast, numerically stable, vectorized implementation"
   ]
  },
  {
   "cell_type": "code",
   "execution_count": 97,
   "metadata": {
    "collapsed": true,
    "deletable": false,
    "nbgrader": {
     "checksum": "f8772d3e65d7f1bef5b739a62c2e192f",
     "grade": true,
     "grade_id": "cell-5d1924ace9e216e2",
     "locked": false,
     "points": 5,
     "schema_version": 1,
     "solution": true
    }
   },
   "outputs": [],
   "source": [
    "# Write all helper functions here\n",
    "import time\n",
    "import numpy as np\n",
    "import matplotlib.pyplot as plt\n",
    "from scipy.special import expit\n",
    "def hactivation(x, v, a):\n",
    "    h = expit(np.dot(x,v) + a)\n",
    "    return h\n",
    "\n",
    "def calc_likelihood(x, t, w, b, v, a):\n",
    "    # Computes logp, logq, Z\n",
    "    h =  expit(np.dot(x,v) + a)\n",
    "    logq = np.dot(h, w) + b\n",
    "    \n",
    "    #calculate logz with sum-exp trick\n",
    "    Z = np.sum(np.exp(logq))\n",
    "    za = np.max(logq)\n",
    "    logZ = za + np.log(np.sum(np.exp(logq - za)))\n",
    "    logp = logq - logZ - prior_w / 2 * np.sum(w * w) - prior_v / 2 * np.sum(v * v)\n",
    "\n",
    "    return logp, logq, Z, h\n",
    "\n",
    "\n",
    "def mlp_gradient(x, t, w, b, v, a):\n",
    "    logp, logq, Z, h = calc_likelihood(x, t, w, b, v, a)\n",
    "\n",
    "    deltaq = -np.exp(logq) / Z  \n",
    "    deltaq[:,t] += 1         \n",
    "\n",
    "    #Calculate gradients\n",
    "    dL_dw = (deltaq * h.T).T - prior_w * w.T\n",
    "    dL_db = deltaq\n",
    "    \n",
    "    deltah = np.dot(deltaq, w.T)\n",
    "    dL_dh = deltah\n",
    "    dL_da = deltah * h * (1-h)\n",
    "    dL_dv = (dL_da * x.T).T - prior_v * v.T\n",
    "    return logp[:,t].squeeze(), dL_dw.T, dL_db.squeeze(), dL_dv.T, dL_da.squeeze()\n",
    "\n",
    "def sgd_iter2(x_train, t_train, w, b, v, a):\n",
    "    logp_train = np.zeros((len(t_train),))\n",
    "    \n",
    "    shuff_train = np.arange(len(t_train))\n",
    "    np.random.shuffle(shuff_train)\n",
    "    for i in shuff_train:\n",
    "        logp_train[i], grad_w, grad_b, grad_v, grad_a = mlp_gradient(x_train[i:i+1],\n",
    "                                                                                t_train[i:i+1], w, b, v, a)\n",
    "        w = w + learning_rate*grad_w\n",
    "        b = b + learning_rate*grad_b\n",
    "        v = v + learning_rate*grad_v\n",
    "        a = a + learning_rate*grad_a\n",
    "    return logp_train, w, b, v, a\n",
    "\n",
    "\n",
    "def test_sgd(x_train, t_train, x_valid, t_valid, w, b, v, a, epochs, learning_rate):\n",
    "    logp_array = np.array([])   \n",
    "    logp_train_average = np.array([])   \n",
    "    logp_valid_average = np.array([])\n",
    "    for i in range(epochs):\n",
    "        print(\"Epoch:\" + str(i))\n",
    "        logp_train, w, b, v, a = sgd_iter2(x_train, t_train, w, b, v, a)\n",
    "        if (i%2 == 0):\n",
    "            total_logp_va = 0\n",
    "            logp_train_average = np.append(logp_train_average,np.average(logp_train))\n",
    "            for j, x in enumerate(x_valid):\n",
    "                logp_va, _, _, _ = calc_likelihood(x_valid[j], t_valid[j], w, b, v, a)\n",
    "                total_logp_va += logp_va[t_valid[j]].squeeze()\n",
    "            logp_valid_average = np.append(logp_valid_average,total_logp_va/len(x_valid))\n",
    "            print(np.average(logp_train), total_logp_va/len(x_valid))\n",
    "    return logp_train_average, logp_valid_average, w, b, v, a\n",
    "\n",
    "def predict_MLP(w, b, v, a, x):\n",
    "    #Classify handwritten digit with highest probability\n",
    "    h = expit(np.dot(x,v) + a)\n",
    "    logq = np.dot(h, w) + b\n",
    "    return np.argmax(logq, axis=1)"
   ]
  },
  {
   "cell_type": "code",
   "execution_count": 98,
   "metadata": {},
   "outputs": [
    {
     "name": "stdout",
     "output_type": "stream",
     "text": [
      "Epoch:0\n",
      "(-0.40576095184868138, -0.29057180503192476)\n",
      "Epoch:1\n",
      "Epoch:2\n",
      "(-0.21839085870683103, -0.23128596875330204)\n",
      "Epoch:3\n",
      "Epoch:4\n",
      "(-0.1873207509303241, -0.22792691988022051)\n",
      "Epoch:5\n",
      "Epoch:6\n",
      "(-0.16851425799115291, -0.20403040924099053)\n",
      "Epoch:7\n",
      "Epoch:8\n",
      "(-0.15742104536758933, -0.21643764984741401)\n",
      "Epoch:9\n",
      "Duration:6.43minutes\n"
     ]
    }
   ],
   "source": [
    "np.random.seed(123)\n",
    "hnum = 20\n",
    "w = np.random.normal(size=(hnum,10), scale=0.001)\n",
    "v = np.random.normal(size=(28*28,hnum), scale=0.001)\n",
    "b = np.zeros((10,))\n",
    "a = np.zeros((hnum,))\n",
    "prior_w, prior_v = (0,0)\n",
    "global prior_w\n",
    "global prior_v\n",
    "\n",
    "epochs = 10\n",
    "learning_rate = 10**(-1)\n",
    "start = time.time()\n",
    "logp_train_average, logp_valid_average, w,b,v,a = test_sgd(x_train, t_train, x_valid, t_valid, \n",
    "                                                               w, b, v, a, epochs, learning_rate)\n",
    "end = time.time()\n",
    "print(\"Duration:\" + str(round((end-start)/60,2)) + \"minutes\")"
   ]
  },
  {
   "cell_type": "code",
   "execution_count": 99,
   "metadata": {},
   "outputs": [
    {
     "data": {
      "image/png": "[encoded data removed]",
      "text/plain": [
       "<matplotlib.figure.Figure at 0x7fdada6fb090>"
      ]
     },
     "metadata": {},
     "output_type": "display_data"
    }
   ],
   "source": [
    "plt.plot(range(0, epochs, 2), logp_train_average,label='Training set')\n",
    "plt.plot(range(0, epochs, 2), logp_valid_average,label='Validation set')\n",
    "plt.title(\"Likelihood\")\n",
    "plt.legend()\n",
    "plt.show()"
   ]
  },
  {
   "cell_type": "markdown",
   "metadata": {
    "deletable": false,
    "nbgrader": {
     "checksum": "301c1950ea79e09141e8ed170bd8b21b",
     "grade": true,
     "grade_id": "cell-e9b2125a5ea8a22c",
     "locked": false,
     "points": 10,
     "schema_version": 1,
     "solution": true
    }
   },
   "source": [
    "Note: learning rate is too high for 10 epochs"
   ]
  },
  {
   "cell_type": "code",
   "execution_count": 105,
   "metadata": {},
   "outputs": [
    {
     "data": {
      "image/png": "[encoded data removed]",
      "text/plain": [
       "<matplotlib.figure.Figure at 0x7fdaf483e910>"
      ]
     },
     "metadata": {},
     "output_type": "display_data"
    }
   ],
   "source": [
    "def visualize_weights2(w, hnums):\n",
    "    w_reshaped = np.reshape(np.transpose(w), (hnums,28,28))\n",
    "    plot_digits(data=w_reshaped, num_cols=5, targets=np.arange(hnums))\n",
    "visualize_weights2(v, hnum)"
   ]
  },
  {
   "cell_type": "markdown",
   "metadata": {
    "deletable": false,
    "editable": false,
    "nbgrader": {
     "checksum": "555a73588f1a55d1185064f5a6192cac",
     "grade": false,
     "grade_id": "cell-6ae8cb5a4c246b97",
     "locked": true,
     "schema_version": 1,
     "solution": false
    }
   },
   "source": [
    "### 2.3.1. Explain the weights (5 points)\n",
    "In less than 80 words, explain how and why the weights of the hidden layer of the MLP differ from the logistic regression model, and relate this to the stronger performance of the MLP."
   ]
  },
  {
   "cell_type": "markdown",
   "metadata": {
    "deletable": false,
    "nbgrader": {
     "checksum": "7f6cbf48a398f8722f4d403b957b2075",
     "grade": true,
     "grade_id": "cell-c4fdc27b1aab6828",
     "locked": false,
     "points": 5,
     "schema_version": 1,
     "solution": true
    }
   },
   "source": [
    "The output of the hidden layer is dependent on the sigmoid function and are not directly related to the digit labels in the output layer. The MLP algorithm has more parameters $784*L + L*10$ with $L$ the number of hidden units and can hence learn better. Besides, because the MLP structure allows an intermediate layer between input and output, it allows to subtract higher order correlations between the input elements."
   ]
  },
  {
   "cell_type": "markdown",
   "metadata": {
    "deletable": false,
    "editable": false,
    "nbgrader": {
     "checksum": "fa501d2127075b733105148f21adbaf2",
     "grade": false,
     "grade_id": "cell-df7f372be57b921b",
     "locked": true,
     "schema_version": 1,
     "solution": false
    }
   },
   "source": [
    "### 2.3.1. Less than 250 misclassifications on the test set (10 bonus points)\n",
    "\n",
    "You receive an additional 10 bonus points if you manage to train a model with very high accuracy: at most 2.5% misclasified digits on the test set. Note that the test set contains 10000 digits, so you model should misclassify at most 250 digits. This should be achievable with a MLP model with one hidden layer. See results of various models at : `http://yann.lecun.com/exdb/mnist/index.html`. To reach such a low accuracy, you probably need to have a very high $L$ (many hidden units), probably $L > 200$, and apply a strong Gaussian prior on the weights. In this case you are allowed to use the validation set for training.\n",
    "You are allowed to add additional layers, and use convolutional networks, although that is probably not required to reach 2.5% misclassifications."
   ]
  },
  {
   "cell_type": "code",
   "execution_count": 83,
   "metadata": {
    "deletable": false,
    "nbgrader": {
     "checksum": "3d3ce073f1614deb4cc03de3f19879aa",
     "grade": false,
     "grade_id": "cell-2ea313ac02319aa0",
     "locked": false,
     "schema_version": 1,
     "solution": true
    }
   },
   "outputs": [
    {
     "name": "stdout",
     "output_type": "stream",
     "text": [
      "Epoch:0\n",
      "(-0.047433101658659327, -0.072299676692488241)\n",
      "Epoch:1\n",
      "Epoch:2\n",
      "(-0.030953534535326267, -0.066804713214333622)\n",
      "Epoch:3\n",
      "Epoch:4\n",
      "(-0.025185869228465999, -0.06548936027422643)\n",
      "0.9758\n"
     ]
    }
   ],
   "source": [
    "np.random.seed(123)\n",
    "hnum = 200\n",
    "# w = np.random.normal(size=(hnum,10), scale=0.001)\n",
    "# v = np.random.normal(size=(28*28,hnum), scale=0.001)\n",
    "# b = np.zeros((10,))\n",
    "# a = np.zeros((hnum,))\n",
    "\n",
    "epochs = 5\n",
    "learning_rate = 10**(-2)\n",
    "logp_train_average, logp_valid_average, w,b,v,a = test_sgd(x_train, t_train, x_valid, t_valid, \n",
    "                                                               w, b, v, a, epochs, learning_rate)\n",
    "\n",
    "predict_test = predict_MLP(w, b, v, a, x_test)\n",
    "correctness = (t_test == predict_test)\n",
    "accuracy = np.average(correctness) \n",
    "print(accuracy)"
   ]
  },
  {
   "cell_type": "markdown",
   "metadata": {},
   "source": [
    "Idea for learning fast: start with high learning rate and decrease over time. So start with 5 iterations with learning rate $10^{-1}$. Then do 5 with $10^{-2}$ and 10 with $10^{-4}$. This will result in less than 2.5% errors on the validation set."
   ]
  },
  {
   "cell_type": "code",
   "execution_count": 84,
   "metadata": {
    "deletable": false,
    "editable": false,
    "nbgrader": {
     "checksum": "b540e8fc73d65a4cc4139d9841e4aaba",
     "grade": true,
     "grade_id": "cell-4ad977cd0b7d27df",
     "locked": true,
     "points": 10,
     "schema_version": 1,
     "solution": false
    }
   },
   "outputs": [
    {
     "name": "stdout",
     "output_type": "stream",
     "text": [
      "Test errors: 242\n"
     ]
    }
   ],
   "source": [
    "assert predict_test.shape == t_test.shape\n",
    "n_errors = np.sum(predict_test != t_test)\n",
    "print('Test errors: %d' % n_errors)"
   ]
  }
 ],
 "metadata": {
  "kernelspec": {
   "display_name": "Python 3",
   "language": "python",
   "name": "python3"
  },
  "language_info": {
   "codemirror_mode": {
    "name": "ipython",
    "version": 3
   },
   "file_extension": ".py",
   "mimetype": "text/x-python",
   "name": "python",
   "nbconvert_exporter": "python",
   "pygments_lexer": "ipython3",
   "version": "3.6.4"
  }
 },
 "nbformat": 4,
 "nbformat_minor": 1
}
