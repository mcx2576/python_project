{
 "cells": [
  {
   "cell_type": "code",
   "execution_count": 2,
   "metadata": {},
   "outputs": [],
   "source": [
    "%matplotlib inline\n",
    "import os\n",
    "import numpy as np\n",
    "import matplotlib.pyplot as plt\n",
    "import sys\n",
    "import torch\n",
    "from torch import nn\n",
    "import torch.nn.functional as F\n",
    "from torch import optim\n",
    "from tqdm import tqdm as _tqdm\n",
    "from torch.autograd import Variable \n",
    "\n",
    "def tqdm(*args, **kwargs):\n",
    "    return _tqdm(*args, **kwargs, mininterval=1)  # Safety, do not overflow buffer\n",
    "\n",
    "EPS = float(np.finfo(np.float32).eps)\n",
    "\n",
    "assert sys.version_info[:3] >= (3, 6, 0), \"Make sure you have Python 3.6 installed!\""
   ]
  },
  {
   "cell_type": "code",
   "execution_count": 4,
   "metadata": {},
   "outputs": [
    {
     "name": "stdout",
     "output_type": "stream",
     "text": [
      "\u001b[33mWARN: gym.spaces.Box autodetected dtype as <class 'numpy.float32'>. Please provide explicit dtype.\u001b[0m\n"
     ]
    }
   ],
   "source": [
    "import gym\n",
    "env = gym.envs.make(\"MountainCar-v0\")"
   ]
  },
  {
   "cell_type": "code",
   "execution_count": 5,
   "metadata": {},
   "outputs": [],
   "source": [
    "class QNetwork(nn.Module):\n",
    "    \n",
    "    def __init__(self, num_hidden=128):\n",
    "        nn.Module.__init__(self)\n",
    "        self.l1 = nn.Linear(2, num_hidden)\n",
    "        self.l2 = nn.Linear(num_hidden, num_hidden)\n",
    "        self.l3 = nn.Linear(num_hidden, 3)\n",
    "\n",
    "    def forward(self, x):\n",
    "        value=self.l2(F.relu(self.l1(x)))\n",
    "        value=self.l3(F.relu(self.l2(value)))\n",
    "      #  print(value.shape)\n",
    "        return value"
   ]
  },
  {
   "cell_type": "code",
   "execution_count": 6,
   "metadata": {},
   "outputs": [],
   "source": [
    "import random\n",
    "class ReplayMemory:\n",
    "    \n",
    "    def __init__(self, capacity):\n",
    "        self.capacity = capacity\n",
    "        self.memory = []\n",
    "\n",
    "    def push(self, transition):\n",
    "        if len(self.memory)<self.capacity:\n",
    "            self.memory.append(transition)\n",
    "        else:\n",
    "            del self.memory[0]\n",
    "            self.memory.append(transition)\n",
    "        # YOUR CODE HERE\n",
    "       # raise NotImplementedError()\n",
    "\n",
    "    def sample(self, batch_size):\n",
    "        sample=[]\n",
    "        for i in range(batch_size):\n",
    "            index = np.random.randint(len(self.memory))\n",
    "            sample.append(self.memory[index])\n",
    "        return sample\n",
    "        # YOUR CODE HERE\n",
    "       # raise NotImplementedError()\n",
    "\n",
    "    def __len__(self):\n",
    "        return len(self.memory)"
   ]
  },
  {
   "cell_type": "code",
   "execution_count": 7,
   "metadata": {},
   "outputs": [],
   "source": [
    "def get_epsilon(it):\n",
    "    epsilon = max(1-(1-0.05)/1000*it, 0.05)\n",
    "    return epsilon"
   ]
  },
  {
   "cell_type": "code",
   "execution_count": 8,
   "metadata": {},
   "outputs": [],
   "source": [
    "def select_action(model, state, epsilon):\n",
    "    with torch.no_grad():\n",
    "        s = torch.from_numpy(state)\n",
    "        s = s.type(torch.FloatTensor) \n",
    "        Q = model(s).numpy()\n",
    "        policy = np.ones([env.action_space.n])\n",
    "        policy = policy*epsilon/2\n",
    "        policy[Q.argmax()] = 1 - epsilon\n",
    "        action = int(np.random.choice(3, 1, p=policy))\n",
    "        \n",
    "    return action"
   ]
  },
  {
   "cell_type": "code",
   "execution_count": 9,
   "metadata": {},
   "outputs": [],
   "source": [
    "def compute_q_val(model, state, action):\n",
    "    # YOUR CODE HERE\n",
    "    Q = model(state)\n",
    "   # selected_index=action.reshape(64)\n",
    "\n",
    "    Q_value = torch.gather(Q, 1, torch.tensor(action).reshape(64,1))\n",
    "    \n",
    "   # print(Q_value)\n",
    "    return Q_value\n",
    "   # raise NotImplementedError()\n",
    "    \n",
    "def compute_target(model, reward, next_state, done, discount_factor):\n",
    "    # done is a boolean (vector) that indicates if next_state is terminal (episode is done)\n",
    "    # YOUR CODE HERE\n",
    "    target=torch.zeros(len(reward))\n",
    "    for i in range(len(reward)):\n",
    "        if done[i] == False:\n",
    "            max_next_state_q = max(model(next_state[i]))\n",
    "            ind_target = reward[i] + discount_factor*max_next_state_q\n",
    "            target[i] = ind_target\n",
    "        else:\n",
    "            target[i]\n",
    "   # raise NotImplementedError()\n",
    "    target = target.reshape(len(reward),1)\n",
    "    return target\n",
    "\n",
    "def train(eval_model, target_model, optimizer, batch, discount_factor, loss_func):\n",
    "    # DO NOT MODIFY THIS FUNCTION\n",
    "    \n",
    "    # don't learn without some decent experience\n",
    "    if len(memory) < batch_size:\n",
    "        return None\n",
    "\n",
    "    # random transition batch is taken from experience replay memory\n",
    "    transitions = memory.sample(batch_size)\n",
    "    \n",
    "    # transition is a list of 4-tuples, instead we want 4 vectors (as torch.Tensor's)\n",
    "    state, action, reward, next_state, done = zip(*transitions)\n",
    "    \n",
    "    # convert to PyTorch and define types\n",
    "    state = torch.tensor(state, dtype=torch.float)\n",
    "    action = torch.tensor(action, dtype=torch.int64)  # Need 64 bit to use them as index\n",
    "    next_state = torch.tensor(next_state, dtype=torch.float)\n",
    "    reward = torch.tensor(reward, dtype=torch.float)\n",
    "    done = torch.tensor(done, dtype=torch.uint8)  # Boolean\n",
    "    \n",
    "    # compute the q value\n",
    "    q_val = compute_q_val(eval_model, state, action)\n",
    "    \n",
    "    with torch.enable_grad():  \n",
    "        target = compute_target(target_model, reward, next_state, done, discount_factor)\n",
    "       # print(target)\n",
    "        target = Variable(target, requires_grad=False)\n",
    "    # loss is measured from error between current and newly expected Q values\n",
    "    loss = loss_func(q_val, target)\n",
    "\n",
    "    # backpropagation of loss to Neural Network (PyTorch magic)\n",
    "    optimizer.zero_grad()\n",
    "    loss.backward()\n",
    "    optimizer.step()\n",
    "    \n",
    "    return loss.item()"
   ]
  },
  {
   "cell_type": "code",
   "execution_count": 10,
   "metadata": {},
   "outputs": [],
   "source": [
    "def run_episodes(train, eval_dqn, target_dqn, memory, env, num_episodes, batch_size, discount_factor, learn_rate):\n",
    "    \n",
    "    optimizer = optim.Adam(eval_dqn.parameters(), learn_rate)\n",
    "    loss_func = torch.nn.MSELoss()\n",
    "    num_updates = 0\n",
    "    \n",
    "    global_steps = 0  # Count the steps (do not reset at episode start, to compute epsilon)\n",
    "    episode_durations = []  #\n",
    "    success = 0\n",
    "    R=[]\n",
    "    for i in tqdm(range(num_episodes)):\n",
    "        state = env.reset()\n",
    "        done = False\n",
    "        duration = 0\n",
    "        \n",
    "        while done == False:\n",
    "            accu_reward = 0\n",
    "            duration +=1 \n",
    "            epsilon = get_epsilon(global_steps)\n",
    "            action = select_action(eval_dqn, state, epsilon)\n",
    "            s_next, reward, done, _ = env.step(action)\n",
    "            accu_reward+=1\n",
    "            if done == True:\n",
    "                if np.absolute(s_next[0]-0.5)<=0.05:\n",
    "                    success+=1\n",
    "                \n",
    "            memory.push((state, action, reward, s_next, done))\n",
    "            if len(memory.memory) > batch_size:\n",
    "                minibatch = memory.sample(batch_size)\n",
    "                train(eval_dqn, target_dqn, optimizer, minibatch, discount_factor, loss_func)\n",
    "                num_updates = num_updates + 1\n",
    "\n",
    "            \n",
    "            if done == True:\n",
    "                # Update target network\n",
    "                target_dqn.load_state_dict(eval_dqn.state_dict())\n",
    "                break\n",
    "            else:\n",
    "                state = s_next\n",
    "                global_steps+=1\n",
    "        R.append(accu_reward)\n",
    "            \n",
    "         #   loss = train(model, memory, optimizer, batch_size, discount_factor)\n",
    "\n",
    "        episode_durations.append(duration)\n",
    "        # YOUR CODE HERE\n",
    "     #   raise NotImplementedError()\n",
    "    return episode_durations, success, R"
   ]
  },
  {
   "cell_type": "code",
   "execution_count": 11,
   "metadata": {},
   "outputs": [
    {
     "name": "stderr",
     "output_type": "stream",
     "text": [
      "100%|██████████| 500/500 [17:01<00:00,  2.08s/it]\n"
     ]
    }
   ],
   "source": [
    "# Let's run it!\n",
    "num_episodes = 500\n",
    "batch_size = 64\n",
    "discount_factor = 0.8\n",
    "learn_rate = 1e-3\n",
    "memory = ReplayMemory(40000)\n",
    "num_hidden = 20\n",
    "seed = 42  # This is not randomly chosen\n",
    "\n",
    "# We will seed the algorithm (before initializing QNetwork!) for reproducability\n",
    "random.seed(seed)\n",
    "torch.manual_seed(seed)\n",
    "env.seed(seed)\n",
    "\n",
    "eval_dqn = QNetwork(num_hidden)\n",
    "target_dqn = QNetwork(num_hidden)\n",
    "\n",
    "episode_durations, success, reward = run_episodes(train, eval_dqn,target_dqn, memory, env, num_episodes, batch_size, discount_factor, learn_rate)"
   ]
  },
  {
   "cell_type": "code",
   "execution_count": 12,
   "metadata": {
    "scrolled": true
   },
   "outputs": [
    {
     "data": {
      "text/plain": [
       "Text(0.5, 1.0, 'Episode durations per episode')"
      ]
     },
     "execution_count": 12,
     "metadata": {},
     "output_type": "execute_result"
    },
    {
     "data": {
      "image/png": "[encoded data removed]",
      "text/plain": [
       "<Figure size 1440x720 with 1 Axes>"
      ]
     },
     "metadata": {
      "needs_background": "light"
     },
     "output_type": "display_data"
    }
   ],
   "source": [
    "plt.figure(figsize=[20,10])\n",
    "plt.plot(episode_durations)\n",
    "plt.title('Episode durations per episode')"
   ]
  },
  {
   "cell_type": "code",
   "execution_count": 13,
   "metadata": {},
   "outputs": [
    {
     "data": {
      "text/plain": [
       "2"
      ]
     },
     "execution_count": 13,
     "metadata": {},
     "output_type": "execute_result"
    }
   ],
   "source": [
    "success"
   ]
  },
  {
   "cell_type": "code",
   "execution_count": null,
   "metadata": {},
   "outputs": [],
   "source": []
  }
 ],
 "metadata": {
  "kernelspec": {
   "display_name": "Python 3",
   "language": "python",
   "name": "python3"
  },
  "language_info": {
   "codemirror_mode": {
    "name": "ipython",
    "version": 3
   },
   "file_extension": ".py",
   "mimetype": "text/x-python",
   "name": "python",
   "nbconvert_exporter": "python",
   "pygments_lexer": "ipython3",
   "version": "3.6.6"
  }
 },
 "nbformat": 4,
 "nbformat_minor": 2
}
