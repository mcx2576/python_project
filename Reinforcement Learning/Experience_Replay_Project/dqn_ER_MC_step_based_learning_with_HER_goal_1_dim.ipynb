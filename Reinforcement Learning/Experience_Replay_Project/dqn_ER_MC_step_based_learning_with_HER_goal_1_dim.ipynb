{
 "cells": [
  {
   "cell_type": "code",
   "execution_count": 9,
   "metadata": {},
   "outputs": [],
   "source": [
    "import torch\n",
    "from torch.autograd import Variable\n",
    "import torch.nn as nn\n",
    "import torch.nn.functional as F\n",
    "import torch.optim as optim"
   ]
  },
  {
   "cell_type": "code",
   "execution_count": 10,
   "metadata": {},
   "outputs": [],
   "source": [
    "import numpy as np\n",
    "import random\n",
    "import matplotlib.pyplot as plt"
   ]
  },
  {
   "cell_type": "code",
   "execution_count": 11,
   "metadata": {},
   "outputs": [],
   "source": [
    "from tqdm import tqdm as _tqdm\n",
    "\n",
    "def tqdm(*args, **kwargs):\n",
    "    return _tqdm(*args, **kwargs, mininterval=1)  # Safety, do not overflow buffer"
   ]
  },
  {
   "cell_type": "code",
   "execution_count": 12,
   "metadata": {},
   "outputs": [],
   "source": [
    "import gym"
   ]
  },
  {
   "cell_type": "code",
   "execution_count": 13,
   "metadata": {},
   "outputs": [
    {
     "name": "stdout",
     "output_type": "stream",
     "text": [
      "\u001b[33mWARN: gym.spaces.Box autodetected dtype as <class 'numpy.float32'>. Please provide explicit dtype.\u001b[0m\n"
     ]
    }
   ],
   "source": [
    "env = gym.envs.make(\"MountainCar-v0\")\n",
    "#env = gym.envs.make(\"CartPole-v0\")"
   ]
  },
  {
   "cell_type": "code",
   "execution_count": null,
   "metadata": {},
   "outputs": [],
   "source": [
    "??env.env"
   ]
  },
  {
   "cell_type": "code",
   "execution_count": null,
   "metadata": {},
   "outputs": [],
   "source": [
    "s = env.reset()\n",
    "# states are (position,velocity), position from -1.2 to 0.6, velocity from -0.07 to 0.07\n",
    "# actions are: 0 = push left, 1 = do nothing, 2 = push right\n",
    "s"
   ]
  },
  {
   "cell_type": "code",
   "execution_count": null,
   "metadata": {},
   "outputs": [],
   "source": []
  },
  {
   "cell_type": "code",
   "execution_count": 14,
   "metadata": {},
   "outputs": [],
   "source": [
    "class Memory():\n",
    "    def __init__(self, mem_size = 1000000):\n",
    "        self.mem_size = mem_size\n",
    "        self.mem = []\n",
    "        \n",
    "    def add(self, transition):\n",
    "        if len(self.mem) == self.mem_size:\n",
    "            del self.mem[0]\n",
    "        self.mem.append(transition)\n",
    "        \n",
    "    def sample(self, batch_size):\n",
    "        if batch_size > len(self.mem):\n",
    "            self.mem = self.mem * batch_size\n",
    "        \n",
    "        samples = random.sample(self.mem, batch_size)\n",
    "        return samples"
   ]
  },
  {
   "cell_type": "code",
   "execution_count": 15,
   "metadata": {},
   "outputs": [],
   "source": [
    "# Single hidden layer with 256 hidden nodes DQN\n",
    "class DQN(nn.Module):\n",
    "    def __init__(self, num_in, num_out):\n",
    "        super(DQN, self).__init__()\n",
    "        self.fc1 = nn.Linear(num_in, 30)\n",
    "        self.fc2 = nn.Linear(30, 30)\n",
    "        self.fc3 = nn.Linear(30, num_out)\n",
    "\n",
    "    def forward(self, x):\n",
    "        out = F.relu(self.fc1(x))\n",
    "        out = F.relu(self.fc2(out))\n",
    "        out = self.fc3(out)\n",
    "        return out"
   ]
  },
  {
   "cell_type": "code",
   "execution_count": null,
   "metadata": {},
   "outputs": [],
   "source": []
  },
  {
   "cell_type": "code",
   "execution_count": 16,
   "metadata": {},
   "outputs": [],
   "source": [
    "def compute_q_val(model, state, action):\n",
    "    # T tensor, T = [[1,2],[3,4],[5,6]], T[row_indexes,index_for_each_row], T[[0,1,2],[0,0,1]]=[1,3,6]\n",
    "    return model(torch.tensor(state,dtype=torch.float))[range(0,len(action)),action]\n",
    "    \n",
    "def compute_target(model, reward, next_state, done, discount_factor):\n",
    "    # done is a boolean (vector) that indicates if next_state is terminal (episode is done)\n",
    "    # YOUR CODE HERE\n",
    "    \n",
    "    # For given (state,action), the target is: reward + discount_factor * max_a{Q(next_state,a)}\n",
    "    # If next_state is terminal state, then target is just equal to: reward\n",
    "    Q = model(next_state)\n",
    "    max_Q_vals, indices = torch.max(Q, 1)\n",
    "    mask = torch.tensor(1-done, dtype=torch.float)\n",
    "    target = reward + mask * discount_factor * max_Q_vals\n",
    "    return target"
   ]
  },
  {
   "cell_type": "code",
   "execution_count": null,
   "metadata": {},
   "outputs": [],
   "source": []
  },
  {
   "cell_type": "code",
   "execution_count": 17,
   "metadata": {},
   "outputs": [],
   "source": [
    "def calc_reward(s,g):\n",
    "    q = 0.025\n",
    "    if abs(s[0] - g) < q:\n",
    "        r = 0\n",
    "    else:\n",
    "        r = -1\n",
    "    \n",
    "    return r"
   ]
  },
  {
   "cell_type": "code",
   "execution_count": 18,
   "metadata": {},
   "outputs": [],
   "source": [
    "# Create experience replay buffer\n",
    "mem_size = 40000\n",
    "mem = Memory(mem_size)"
   ]
  },
  {
   "cell_type": "code",
   "execution_count": 19,
   "metadata": {
    "scrolled": true
   },
   "outputs": [
    {
     "name": "stdout",
     "output_type": "stream",
     "text": [
      "DQN(\n",
      "  (fc1): Linear(in_features=3, out_features=30, bias=True)\n",
      "  (fc2): Linear(in_features=30, out_features=30, bias=True)\n",
      "  (fc3): Linear(in_features=30, out_features=3, bias=True)\n",
      ")\n"
     ]
    }
   ],
   "source": [
    "# MC = MOUNTAINCAR\n",
    "\n",
    "# Create DQNs\n",
    "num_in_MC = 2 #4     #\n",
    "num_out_MC = 3 #2    #\n",
    "eval_dqn = DQN(num_in_MC+1, num_out_MC)\n",
    "target_dqn = DQN(num_in_MC+1, num_out_MC)\n",
    "target_dqn.load_state_dict(eval_dqn.state_dict())\n",
    "print(eval_dqn)"
   ]
  },
  {
   "cell_type": "code",
   "execution_count": 20,
   "metadata": {},
   "outputs": [],
   "source": [
    "# Hyper parameters\n",
    "epsilon_start = 1.0\n",
    "epsilon_min = 0.05\n",
    "epsilon = epsilon_start\n",
    "gamma = 1.0\n",
    "rep_buffer_size = 1e6\n",
    "\n",
    "num_epochs = 1\n",
    "num_epi_per_epoch = 2000\n",
    "#num_steps = \n",
    "\n",
    "batch_size = 64\n",
    "#target_dqn_update_freq = 50\n",
    "\n",
    "NUM_ACTIONS = 3"
   ]
  },
  {
   "cell_type": "code",
   "execution_count": 21,
   "metadata": {},
   "outputs": [],
   "source": [
    "#\n",
    "learning_rate = 1e-3\n",
    "loss_func = torch.nn.MSELoss()\n",
    "optimizer = optim.Adam(eval_dqn.parameters(), lr=learning_rate)"
   ]
  },
  {
   "cell_type": "code",
   "execution_count": 22,
   "metadata": {},
   "outputs": [],
   "source": [
    "def do_train_step(eval_dqn,target_dqn,loss_func,optimizer,minibatch):\n",
    "    state,action,reward,next_state,done = zip(*minibatch)\n",
    "    state = torch.tensor(state, dtype=torch.float)\n",
    "    action = torch.tensor(action, dtype=torch.int64)\n",
    "    reward = torch.tensor(reward, dtype=torch.float)\n",
    "    next_state = torch.tensor(next_state, dtype=torch.float)\n",
    "    done = torch.tensor(done, dtype=torch.uint8)\n",
    "\n",
    "    #compute the q value\n",
    "    q_val = compute_q_val(eval_dqn, state, action)\n",
    "\n",
    "    with torch.no_grad():  # Don't compute gradient info for the target (semi-gradient)\n",
    "        target = compute_target(target_dqn, reward, next_state, done, gamma)\n",
    "\n",
    "    loss = loss_func(q_val,target)\n",
    "            \n",
    "    #\n",
    "    optimizer.zero_grad()\n",
    "    loss.backward()\n",
    "#            for param in dqn.parameters():\n",
    "#                param.grad.data.clamp_(-1, 1)\n",
    "    optimizer.step()\n",
    "    return"
   ]
  },
  {
   "cell_type": "code",
   "execution_count": 23,
   "metadata": {},
   "outputs": [
    {
     "name": "stderr",
     "output_type": "stream",
     "text": [
      "100%|██████████| 1000/1000 [02:36<00:00,  8.18it/s]\n"
     ]
    }
   ],
   "source": [
    "num_updates = 0\n",
    "\n",
    "qq = []\n",
    "\n",
    "# starting goal\n",
    "g0 = 0.5\n",
    "G = [g0]\n",
    "\n",
    "epsilon = epsilon_start\n",
    "\n",
    "update_count = 0\n",
    "\n",
    "#\n",
    "for epoch in range(0, num_epochs):\n",
    "    #\n",
    "#    for epi in range(0, num_epi_per_epoch):\n",
    "    for epi in tqdm(range(0, num_epi_per_epoch)):\n",
    "        #print(\"Starting episode: \" + str(epi))\n",
    "        s = env.reset()\n",
    "        real_epi_exp = []\n",
    "        \n",
    "        epsilon = epsilon*0.95\n",
    "        epsilon = max(epsilon_min, epsilon)\n",
    "        #print(epsilon)\n",
    "\n",
    "        g = random.sample(G,1)[0]\n",
    "        #print(\"Current goal: \"+str(g))\n",
    "        \n",
    "        # EXPERIENCE\n",
    "        q = 0\n",
    "        while True: # or set max_num_steps?\n",
    "            s_g = np.concatenate([s,[g]])\n",
    "            # epsilon-greedy policy\n",
    "            if random.uniform(0,1) < epsilon:\n",
    "                action = np.random.randint(NUM_ACTIONS)\n",
    "            else:\n",
    "                input_s_g = torch.tensor(s_g,dtype=torch.float)\n",
    "                action_vals = eval_dqn(input_s_g)\n",
    "                val,ind = torch.max(action_vals, 0)\n",
    "                action = ind.item()\n",
    "                \n",
    "            next_state,_,done,_ = env.step(action)\n",
    "#            if done == True:\n",
    "#                print(\"REAL DONE was here!!!!\")\n",
    "                \n",
    "            next_state_g = np.concatenate([next_state,[g]])\n",
    "            reward = calc_reward(next_state,g)\n",
    "            \n",
    "            if reward != -1:\n",
    "                done = True\n",
    "            \n",
    "            experience = (s,action,next_state)\n",
    "            real_epi_exp.append(experience)\n",
    "            \n",
    "            transition = (s_g,action,reward,next_state_g,done)\n",
    "            mem.add(transition)\n",
    "            \n",
    "            q=q+reward\n",
    "            \n",
    "            # Train network\n",
    "            # Sample minimatch\n",
    "\n",
    "            if len(mem.mem) > batch_size:\n",
    "                minibatch = mem.sample(batch_size)\n",
    "                do_train_step(eval_dqn,target_dqn,loss_func,optimizer,minibatch)\n",
    "                num_updates = num_updates + 1\n",
    "\n",
    "            \n",
    "            if done == True:\n",
    "                # Update target network\n",
    "                target_dqn.load_state_dict(eval_dqn.state_dict())\n",
    "                break\n",
    "            else:\n",
    "                s = next_state\n",
    "#        print(q)\n",
    "        qq.append(q)\n",
    "        \n",
    "        \n",
    "        # Add to experience replay\n",
    "        _,_,all_ns = zip(*real_epi_exp)\n",
    "#        if random.randint(0,1) == 0:\n",
    "#            # take max position as new goal\n",
    "#            goal_index = np.argmax(np.array(all_ns)[:,0])\n",
    "#            #print(\"00000\")\n",
    "#        else:\n",
    "#            # take min position as new goal\n",
    "#            goal_index = np.argmin(np.array(all_ns)[:,0])\n",
    "#            #print(\"11111\")\n",
    "        goal_index = np.argmax(np.abs(0.5 + np.array(all_ns)[:,0]))\n",
    "    \n",
    "        _,_,g_new = real_epi_exp[goal_index]\n",
    "        g_new = g_new[0]\n",
    "        g_new = 0.1*round(10*g_new)\n",
    "        g_new = 0.01*round(100*g_new)\n",
    "        #print(\"gnew \" + str(g_new))\n",
    "\n",
    "        for t in range(0, goal_index): # =(goal_index+1)-1\n",
    "            s,a,next_s = real_epi_exp[t]\n",
    "            s_g_new = np.concatenate([s,[g_new]])\n",
    "            next_s_g_new = np.concatenate([next_s,[g_new]])\n",
    "            r_new = calc_reward(next_s,g_new)\n",
    "            if r_new != -1:\n",
    "                done = True\n",
    "            else:\n",
    "                done = False\n",
    "            transition = (s_g_new,a,r_new,next_s_g_new,done)\n",
    "            mem.add(transition)\n",
    "\n",
    "        if g_new not in G:\n",
    "            G.append(g_new)\n",
    "        #print(len(mem.mem))\n",
    "\n",
    "# Save model\n",
    "model_filename = \"dqn_model.pth\"\n",
    "torch.save(eval_dqn.state_dict(), model_filename) #torch.save(dqn, model_filename)"
   ]
  },
  {
   "cell_type": "code",
   "execution_count": 24,
   "metadata": {},
   "outputs": [
    {
     "name": "stdout",
     "output_type": "stream",
     "text": [
      "num_updates: 109531\n",
      "[0.5, -0.7000000000000001, -0.6, -0.4, -0.8, -0.1, 0.2, -0.9, -0.2, 0.0, -0.3, 0.1, -1.2, -1.0, 0.4, -0.5, -1.1, 0.3]\n"
     ]
    }
   ],
   "source": [
    "print(\"num_updates: \" + str(num_updates))\n",
    "print(G)"
   ]
  },
  {
   "cell_type": "code",
   "execution_count": 26,
   "metadata": {},
   "outputs": [
    {
     "data": {
      "text/plain": [
       "[<matplotlib.lines.Line2D at 0x7f5ca7b65630>]"
      ]
     },
     "execution_count": 26,
     "metadata": {},
     "output_type": "execute_result"
    },
    {
     "data": {
      "image/png": "[encoded data removed]",
      "text/plain": [
       "<Figure size 432x288 with 1 Axes>"
      ]
     },
     "metadata": {
      "needs_background": "light"
     },
     "output_type": "display_data"
    }
   ],
   "source": [
    "plt.plot(qq)"
   ]
  },
  {
   "cell_type": "code",
   "execution_count": 27,
   "metadata": {},
   "outputs": [
    {
     "name": "stdout",
     "output_type": "stream",
     "text": [
      "DQN(\n",
      "  (fc1): Linear(in_features=3, out_features=30, bias=True)\n",
      "  (fc2): Linear(in_features=30, out_features=30, bias=True)\n",
      "  (fc3): Linear(in_features=30, out_features=3, bias=True)\n",
      ")\n"
     ]
    }
   ],
   "source": [
    "# Testing\n",
    "saved_model = torch.load(\"dqn_model.pth\")\n",
    "#saved_dqn = DQN(2, 3)\n",
    "saved_dqn = DQN(3, 3)\n",
    "saved_dqn.load_state_dict(saved_model)\n",
    "print(saved_dqn)"
   ]
  },
  {
   "cell_type": "code",
   "execution_count": null,
   "metadata": {},
   "outputs": [],
   "source": []
  },
  {
   "cell_type": "code",
   "execution_count": 28,
   "metadata": {},
   "outputs": [],
   "source": [
    "num_episodes_test = 100\n",
    "\n",
    "total_rewards = []\n",
    "#successes = []\n",
    "\n",
    "for epi in range(0,num_episodes_test):\n",
    "    s = env.reset()\n",
    "    \n",
    "    success = 0\n",
    "    total_reward = 0\n",
    "    g = 0.5\n",
    "    while True:\n",
    "        s_g = np.concatenate([s,[g]])\n",
    "        input_s_g = torch.tensor(s_g,dtype=torch.float)\n",
    "        action_vals = saved_dqn(input_s_g)\n",
    "        val,ind = torch.max(action_vals, 0)\n",
    "        action = ind.item()\n",
    "        \n",
    "        next_state,reward,done,_ = env.step(action)\n",
    "        total_reward = total_reward + reward\n",
    "        if done == True:\n",
    "            break\n",
    "        else:\n",
    "            s = next_state\n",
    "    \n",
    "    total_rewards.append(total_reward)\n",
    "#    successes.append(success)"
   ]
  },
  {
   "cell_type": "code",
   "execution_count": 29,
   "metadata": {},
   "outputs": [
    {
     "data": {
      "image/png": "[encoded data removed]",
      "text/plain": [
       "<Figure size 432x288 with 1 Axes>"
      ]
     },
     "metadata": {
      "needs_background": "light"
     },
     "output_type": "display_data"
    }
   ],
   "source": [
    "plt.plot(total_rewards)\n",
    "plt.show()"
   ]
  },
  {
   "cell_type": "code",
   "execution_count": null,
   "metadata": {},
   "outputs": [],
   "source": []
  },
  {
   "cell_type": "code",
   "execution_count": null,
   "metadata": {},
   "outputs": [],
   "source": []
  },
  {
   "cell_type": "code",
   "execution_count": 30,
   "metadata": {},
   "outputs": [
    {
     "name": "stdout",
     "output_type": "stream",
     "text": [
      "126\n"
     ]
    }
   ],
   "source": [
    "import time\n",
    "# The nice thing about the CARTPOLE is that it has very nice rendering functionality (if you are on a local environment). Let's have a look at an episode\n",
    "s = env.reset()\n",
    "env.render()\n",
    "done = False\n",
    "k=0\n",
    "\n",
    "g = 0.5\n",
    "while not done:\n",
    "    s_g = np.concatenate([s,[g]])\n",
    "    input_s_g = torch.tensor(s_g,dtype=torch.float)\n",
    "    action_vals = saved_dqn(input_s_g)\n",
    "    val,ind = torch.max(action_vals, 0)\n",
    "    action = ind.item()\n",
    "    \n",
    "    obs, reward, done, _ = env.step(action)\n",
    "    env.render()\n",
    "    time.sleep(0.05)\n",
    "#    print(k)\n",
    "    k=k+1\n",
    "    if done:\n",
    "        print(k)\n",
    "    else:\n",
    "        s = obs\n",
    "#    print(done)\n",
    "env.close()  # Close the environment or you will have a lot of render screens soon"
   ]
  },
  {
   "cell_type": "code",
   "execution_count": null,
   "metadata": {},
   "outputs": [],
   "source": []
  },
  {
   "cell_type": "code",
   "execution_count": null,
   "metadata": {},
   "outputs": [],
   "source": []
  },
  {
   "cell_type": "code",
   "execution_count": null,
   "metadata": {},
   "outputs": [],
   "source": []
  },
  {
   "cell_type": "code",
   "execution_count": null,
   "metadata": {},
   "outputs": [],
   "source": [
    "import random\n",
    "random.uniform(0,1)"
   ]
  },
  {
   "cell_type": "code",
   "execution_count": null,
   "metadata": {},
   "outputs": [],
   "source": []
  },
  {
   "cell_type": "code",
   "execution_count": null,
   "metadata": {},
   "outputs": [],
   "source": [
    "Q = torch.rand(4,2)\n",
    "Q"
   ]
  }
 ],
 "metadata": {
  "kernelspec": {
   "display_name": "Python 3",
   "language": "python",
   "name": "python3"
  },
  "language_info": {
   "codemirror_mode": {
    "name": "ipython",
    "version": 3
   },
   "file_extension": ".py",
   "mimetype": "text/x-python",
   "name": "python",
   "nbconvert_exporter": "python",
   "pygments_lexer": "ipython3",
   "version": "3.6.6"
  }
 },
 "nbformat": 4,
 "nbformat_minor": 2
}
