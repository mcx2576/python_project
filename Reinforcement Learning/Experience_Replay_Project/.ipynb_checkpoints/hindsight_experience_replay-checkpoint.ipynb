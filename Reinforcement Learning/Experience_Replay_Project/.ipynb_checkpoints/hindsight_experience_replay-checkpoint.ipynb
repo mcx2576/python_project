{
 "cells": [
  {
   "cell_type": "code",
   "execution_count": 1,
   "metadata": {},
   "outputs": [],
   "source": [
    "%matplotlib inline\n",
    "import os\n",
    "import numpy as np\n",
    "import matplotlib.pyplot as plt\n",
    "import sys\n",
    "import torch\n",
    "from torch import nn\n",
    "import torch.nn.functional as F\n",
    "from torch import optim\n",
    "from tqdm import tqdm as _tqdm\n",
    "from torch.autograd import Variable \n",
    "\n",
    "def tqdm(*args, **kwargs):\n",
    "    return _tqdm(*args, **kwargs, mininterval=1)  # Safety, do not overflow buffer\n",
    "\n",
    "EPS = float(np.finfo(np.float32).eps)\n",
    "\n",
    "assert sys.version_info[:3] >= (3, 6, 0), \"Make sure you have Python 3.6 installed!\""
   ]
  },
  {
   "cell_type": "code",
   "execution_count": 2,
   "metadata": {},
   "outputs": [
    {
     "name": "stdout",
     "output_type": "stream",
     "text": [
      "\u001b[33mWARN: gym.spaces.Box autodetected dtype as <class 'numpy.float32'>. Please provide explicit dtype.\u001b[0m\n"
     ]
    }
   ],
   "source": [
    "import gym\n",
    "env = gym.envs.make(\"MountainCar-v0\")"
   ]
  },
  {
   "cell_type": "code",
   "execution_count": 3,
   "metadata": {},
   "outputs": [],
   "source": [
    "import time\n",
    "env.reset()\n",
    "done = False\n",
    "while not done:\n",
    "    obs, reward, done, _ = env.step(env.action_space.sample())\n",
    "    env.render()\n",
    "    time.sleep(0.05)\n",
    "env.close()"
   ]
  },
  {
   "cell_type": "markdown",
   "metadata": {},
   "source": [
    "## Defining the Q-network"
   ]
  },
  {
   "cell_type": "code",
   "execution_count": 4,
   "metadata": {},
   "outputs": [],
   "source": [
    "class QNetwork(nn.Module):\n",
    "    \n",
    "    def __init__(self, num_hidden=128):\n",
    "        nn.Module.__init__(self)\n",
    "        self.l1 = nn.Linear(3, num_hidden)\n",
    "        self.l2 = nn.Linear(num_hidden, num_hidden)\n",
    "        self.l3 = nn.Linear(num_hidden, 3)\n",
    "\n",
    "    def forward(self, x):\n",
    "        value=self.l2(F.relu(self.l1(x)))\n",
    "        value=self.l3(F.relu(self.l2(value)))\n",
    "      #  print(value.shape)\n",
    "        return value"
   ]
  },
  {
   "cell_type": "code",
   "execution_count": 5,
   "metadata": {},
   "outputs": [],
   "source": [
    "state=env.reset()\n",
    "obs, reward, done, _ = env.step(env.action_space.sample())\n",
    "env.render()\n",
    "env.close()"
   ]
  },
  {
   "cell_type": "code",
   "execution_count": 6,
   "metadata": {},
   "outputs": [],
   "source": [
    "position = 0.5\n",
    "velocity = np.random.uniform(0, 0.07)\n",
    "target = np.array([position])\n"
   ]
  },
  {
   "cell_type": "code",
   "execution_count": 7,
   "metadata": {},
   "outputs": [
    {
     "data": {
      "text/plain": [
       "array([-0.56115926,  0.        ,  0.5       ])"
      ]
     },
     "execution_count": 7,
     "metadata": {},
     "output_type": "execute_result"
    }
   ],
   "source": [
    "np.concatenate((state,target), axis=-1)"
   ]
  },
  {
   "cell_type": "markdown",
   "metadata": {},
   "source": [
    "## Experience replay"
   ]
  },
  {
   "cell_type": "code",
   "execution_count": 8,
   "metadata": {},
   "outputs": [],
   "source": [
    "import random\n",
    "class ReplayMemory:\n",
    "    \n",
    "    def __init__(self, capacity):\n",
    "        self.capacity = capacity\n",
    "        self.memory = []\n",
    "\n",
    "    def push(self, transition):\n",
    "        if len(self.memory)<self.capacity:\n",
    "            self.memory.append(transition)\n",
    "        else:\n",
    "            del self.memory[0]\n",
    "            self.memory.append(transition)\n",
    "            \n",
    "    ## The transition consists of (state, action, reward, next_state, goal)\n",
    "\n",
    "\n",
    "    def sample(self, batch_size):\n",
    "        sample=[]\n",
    "        for i in range(batch_size):\n",
    "            index = np.random.randint(len(self.memory))\n",
    "            sample.append(self.memory[index])\n",
    "    ## Should we sample with the probability of an expisode or not???\n",
    "        return sample\n",
    "\n",
    "\n",
    "    def __len__(self):\n",
    "        return len(self.memory)"
   ]
  },
  {
   "cell_type": "markdown",
   "metadata": {},
   "source": [
    "## Select an action"
   ]
  },
  {
   "cell_type": "code",
   "execution_count": 9,
   "metadata": {},
   "outputs": [],
   "source": [
    "\n",
    "def select_action(model, state, epsilon):\n",
    "    with torch.no_grad():\n",
    "        s = torch.from_numpy(state)\n",
    "        s = s.type(torch.FloatTensor)\n",
    "        Q = model(s).numpy()\n",
    "        policy = np.ones([env.action_space.n])\n",
    "        policy = policy*epsilon/2\n",
    "        policy[Q.argmax()] = 1 - epsilon\n",
    "      #  print(policy)\n",
    "        action = int(np.random.choice(env.action_space.n, 1, p=policy))\n",
    "        \n",
    "    return action"
   ]
  },
  {
   "cell_type": "code",
   "execution_count": 10,
   "metadata": {},
   "outputs": [],
   "source": [
    "def get_epsilon(it):\n",
    "    epsilon = max(1-(1-0.05)/1000*it, 0.05)\n",
    "    return epsilon"
   ]
  },
  {
   "cell_type": "code",
   "execution_count": 11,
   "metadata": {},
   "outputs": [],
   "source": [
    "def compute_q_val(model, state, action):\n",
    "    # YOUR CODE HERE\n",
    "   # state_goal = np.concatenate((state,goal), axis=-1)\n",
    "    Q = model(state)\n",
    "   # selected_index=action.reshape(64)\n",
    "\n",
    "    Q_value = torch.gather(Q, 1, torch.tensor(action).reshape(64,1))\n",
    "    \n",
    "   # print(Q_value)\n",
    "    return Q_value\n",
    "   # raise NotImplementedError()\n",
    "    \n",
    "    \n",
    "def compute_target(model, reward, next_state, done, discount_factor):\n",
    "    # done is a boolean (vector) that indicates if next_state is terminal (episode is done)\n",
    "    # YOUR CODE HERE\n",
    "    Q = model(next_state)\n",
    "    max_Q_vals, indices = torch.max(Q, 1)\n",
    "    mask = torch.tensor(1-done, dtype=torch.float)\n",
    "    target = reward + mask * discount_factor * max_Q_vals\n",
    "    target = target.view(len(reward), 1)\n",
    "    return target\n",
    "\n",
    "def train(eval_model, target_model, optimizer, batch, discount_factor, loss_func):\n",
    "    # DO NOT MODIFY THIS FUNCTION\n",
    "    \n",
    "    # don't learn without some decent experience\n",
    "  #  if len(memory) < batch_size:\n",
    "  #      return None\n",
    "\n",
    "    # random transition batch is taken from experience replay memory\n",
    "   # transitions = memory.sample(batch_size)\n",
    "    \n",
    "    # transition is a list of 4-tuples, instead we want 4 vectors (as torch.Tensor's)\n",
    "    state, action, reward, next_state, done = zip(*batch)\n",
    "    \n",
    "    # convert to PyTorch and define types\n",
    "    state = torch.tensor(state, dtype=torch.float)\n",
    "    action = torch.tensor(action, dtype=torch.int64)  # Need 64 bit to use them as index\n",
    "    next_state = torch.tensor(next_state, dtype=torch.float)\n",
    "    reward = torch.tensor(reward, dtype=torch.float)\n",
    "    done = torch.tensor(done, dtype=torch.uint8)  # Boolean\n",
    "    \n",
    "    # compute the q value\n",
    "    q_val = compute_q_val(eval_model, state, action)\n",
    "    \n",
    "   # with torch.no_grad():  # Don't compute gradient info for the target (semi-gradient)\n",
    "    #    target = compute_target(target_model, reward, next_state, done, discount_factor)\n",
    "    with torch.enable_grad():  \n",
    "        target = compute_target(target_model, reward, next_state, done, discount_factor)\n",
    "       # print(target)\n",
    "        target = Variable(target, requires_grad=False)   \n",
    "    # loss is measured from error between current and newly expected Q values\n",
    "    #print('q_val' + str(q_val))\n",
    "    #rint('target' + str(target))\n",
    "    loss = loss_func(q_val, target)\n",
    "\n",
    "    # backpropagation of loss to Neural Network (PyTorch magic)\n",
    "    optimizer.zero_grad()\n",
    "    loss.backward()\n",
    "    optimizer.step()\n",
    "    \n",
    "    return loss.item() "
   ]
  },
  {
   "cell_type": "code",
   "execution_count": 13,
   "metadata": {},
   "outputs": [],
   "source": [
    "def run_episodes(train, eval_dqn, target_dqn, memory, env, num_episodes, batch_size, discount_factor, learn_rate):\n",
    "    \n",
    "    optimizer = optim.Adam(eval_dqn.parameters(), learn_rate)\n",
    "    loss_func = torch.nn.MSELoss()\n",
    "    \n",
    "   # Number of updates for the DQN\n",
    "    num_updates = 0\n",
    "    \n",
    "    global_steps = 0  # Count the steps (do not reset at episode start, to compute epsilon)\n",
    "    episode_durations = []  #\n",
    "    G = []\n",
    "    success = 0\n",
    "    R=[]\n",
    "    test_success=[]\n",
    "    average_reward=[]\n",
    "    for i in tqdm(range(num_episodes)):\n",
    "        accu_reward = 0\n",
    "        state = env.reset()\n",
    "       # if len(G)==0:\n",
    "        goal = [0.5]\n",
    "        #else:\n",
    "         #   goal = G[np.random.choice(len(G))]\n",
    "        \n",
    "        state = np.concatenate((state, goal), axis=-1)\n",
    "        done = False\n",
    "        duration = 0\n",
    "        experience=[]\n",
    "       # env.render()\n",
    "        while done == False:\n",
    "            duration +=1 \n",
    "            epsilon = get_epsilon(global_steps)\n",
    "            action = select_action(eval_dqn, state, epsilon)\n",
    "            s_next, reward, done, _ = env.step(action)\n",
    "            if np.absolute(s_next[0]-goal[0]) < 0.05:\n",
    "                reward = 0\n",
    "                accu_reward += reward\n",
    "                done = True\n",
    "            else:\n",
    "                reward = -1\n",
    "                accu_reward += reward\n",
    "                \n",
    "           # env.render()\n",
    "            \n",
    "            s_next = np.concatenate((s_next, goal), axis=-1)\n",
    "            \n",
    "            memory.push((state, action, reward, s_next, done))\n",
    "            \n",
    "            experience.append((state, action, reward, s_next, done))\n",
    "                                                                                                                   \n",
    "          #  state = s_next\n",
    "            \n",
    "            \n",
    "       #     loss = train(model, memory, optimizer, batch_size, discount_factor)\n",
    "            \n",
    "            if len(memory.memory) > batch_size:\n",
    "                minibatch = memory.sample(batch_size)\n",
    "                train(eval_dqn, target_dqn, optimizer, minibatch, discount_factor, loss_func)\n",
    "\n",
    "\n",
    "            \n",
    "            if done == True:\n",
    "                # Update target network\n",
    "                target_dqn.load_state_dict(eval_dqn.state_dict())\n",
    "                break\n",
    "            else:\n",
    "                state = s_next\n",
    "                global_steps+=1\n",
    "        # Test and print\n",
    "     #   if i%25 == 0:\n",
    "      #      t_r, num_success=test(eval_dqn)\n",
    "    #\n",
    "     #       print(\"-----------------------------\")\n",
    "      #      print(\"iteration number {}\".format(i))\n",
    "       #     print(\"average reward {}\".format(sum(t_r)/100))\n",
    "        #    print(\"number of success {}\".format(num_success))\n",
    "         #   print(\"-----------------------------\")\n",
    "          #  test_success.append(num_success)\n",
    "           # average_reward.append(sum(t_r)/100)\n",
    "        episode_durations.append(duration)\n",
    "        R.append(accu_reward)\n",
    "        \n",
    "        c_state,__,__, s_next_goal,__ = zip(*experience)\n",
    "        \n",
    "        goal_index=np.argsort([np.absolute(i[0]+0.5) for i in s_next_goal])[-1]\n",
    "        \n",
    "        \n",
    "\n",
    "        if np.absolute(s_next_goal[-1][0]-0.5) <0.05:\n",
    "            success +=1\n",
    "        \n",
    "       # if (np.absolute(s_next_goal[0]-goal[0])) > 0.05: #and (s_next_goal[0]> -0.5):\n",
    "        new_goal = np.around(s_next_goal[goal_index][:1], decimals=2)\n",
    "\n",
    "     #   if new_goal not in G:\n",
    "      #      G.append(new_goal)\n",
    "        for t in range(goal_index):\n",
    "            state_old_goal,action,__, next_state_old_goal,done = experience[t]\n",
    "            if np.absolute(next_state_old_goal[0]-new_goal) > 0.05:\n",
    "                reward = -1\n",
    "            else:\n",
    "                reward = 0\n",
    "                done = True\n",
    "            state = np.concatenate((state_old_goal[:2], new_goal))\n",
    "            next_state = np.concatenate((next_state_old_goal[:2], new_goal))\n",
    "            memory.push((state, action, reward, next_state, done))\n",
    "        \n",
    "        \n",
    "       # env.close()\n",
    "        # YOUR CODE HERE\n",
    "     #   raise NotImplementedError()\n",
    "    model_filename = \"dqn_model.pth\"\n",
    "    torch.save(eval_dqn.state_dict(), model_filename)\n",
    "    \n",
    "    return episode_durations, success, R"
   ]
  },
  {
   "cell_type": "code",
   "execution_count": 36,
   "metadata": {
    "scrolled": true
   },
   "outputs": [
    {
     "name": "stderr",
     "output_type": "stream",
     "text": [
      "100%|██████████| 500/500 [02:16<00:00,  3.65it/s]\n"
     ]
    }
   ],
   "source": [
    "# Let's run it!\n",
    "num_episodes = 500\n",
    "batch_size = 64\n",
    "discount_factor = 0.8\n",
    "learn_rate = 1e-3\n",
    "memory = ReplayMemory(40000)\n",
    "num_hidden = 20\n",
    "seed = 42  # This is not randomly chosen\n",
    "\n",
    "# We will seed the algorithm (before initializing QNetwork!) for reproducability\n",
    "random.seed(seed)\n",
    "torch.manual_seed(seed)\n",
    "env.seed(seed)\n",
    "\n",
    "\n",
    "# MC = MOUNTAINCAR\n",
    "\n",
    "# Create DQNs\n",
    "\n",
    "eval_dqn = QNetwork(num_hidden)\n",
    "target_dqn = QNetwork(num_hidden)\n",
    "\n",
    "\n",
    "\n",
    "##model = QNetwork(num_hidden)\n",
    "\n",
    "episode_durations, success, reward_history = run_episodes(train, eval_dqn,target_dqn, memory, env, num_episodes, batch_size, discount_factor, learn_rate)"
   ]
  },
  {
   "cell_type": "code",
   "execution_count": 37,
   "metadata": {},
   "outputs": [
    {
     "data": {
      "text/plain": [
       "Text(0.5, 1.0, 'Episode durations per episode')"
      ]
     },
     "execution_count": 37,
     "metadata": {},
     "output_type": "execute_result"
    },
    {
     "data": {
      "image/png": "[encoded data removed]",
      "text/plain": [
       "<Figure size 1440x720 with 1 Axes>"
      ]
     },
     "metadata": {
      "needs_background": "light"
     },
     "output_type": "display_data"
    }
   ],
   "source": [
    "#def smooth(x, N):\n",
    " #   cumsum = np.cumsum(np.insert(x, 0, 0)) \n",
    "  #  return (cumsum[N:] - cumsum[:-N]) / float(N)\n",
    "plt.figure(figsize=[20,10])\n",
    "plt.plot(episode_durations)\n",
    "plt.title('Episode durations per episode')\n"
   ]
  },
  {
   "cell_type": "code",
   "execution_count": 27,
   "metadata": {
    "scrolled": true
   },
   "outputs": [
    {
     "data": {
      "text/plain": [
       "Text(0.5, 1.0, 'Reward')"
      ]
     },
     "execution_count": 27,
     "metadata": {},
     "output_type": "execute_result"
    },
    {
     "data": {
      "image/png": "[encoded data removed]",
      "text/plain": [
       "<Figure size 1440x720 with 1 Axes>"
      ]
     },
     "metadata": {
      "needs_background": "light"
     },
     "output_type": "display_data"
    }
   ],
   "source": [
    "plt.figure(figsize=[20,10])\n",
    "plt.plot(reward_history)\n",
    "plt.title('Reward')\n"
   ]
  },
  {
   "cell_type": "code",
   "execution_count": 39,
   "metadata": {},
   "outputs": [
    {
     "data": {
      "text/plain": [
       "11"
      ]
     },
     "execution_count": 39,
     "metadata": {},
     "output_type": "execute_result"
    }
   ],
   "source": [
    "success"
   ]
  },
  {
   "cell_type": "code",
   "execution_count": 12,
   "metadata": {},
   "outputs": [],
   "source": [
    "def test(model):\n",
    "    num_episodes_test = 100\n",
    "\n",
    "    total_rewards = []\n",
    "    #successes = []\n",
    "    \n",
    "    success=0\n",
    "    for epi in range(0,num_episodes_test):\n",
    "        s = env.reset()\n",
    "        \n",
    "        R = 0\n",
    "        g = 0.5\n",
    "        done = False\n",
    "        while done == False:\n",
    "            s_g = np.concatenate([s,np.array([0.5])], axis=-1)\n",
    "            input_s_g = torch.tensor(s_g,dtype=torch.float)\n",
    "            action_vals = model(input_s_g)\n",
    "            val,ind = torch.max(action_vals, 0)\n",
    "            action = ind.item()\n",
    "\n",
    "            next_state,reward,done,_ = env.step(action)\n",
    "            R += reward\n",
    "            s = next_state\n",
    "        #    env.render()\n",
    "                 \n",
    "        if np.absolute(next_state[0]-0.5)<0.05:\n",
    "            success+=1\n",
    "        total_rewards.append(R)\n",
    "    return total_rewards, success\n",
    "#    successes.append(success)"
   ]
  },
  {
   "cell_type": "code",
   "execution_count": 18,
   "metadata": {},
   "outputs": [],
   "source": [
    "saved_model = torch.load(\"dqn_model.pth\")\n",
    "#saved_dqn = DQN(2, 3)\n",
    "saved_dqn = QNetwork(num_hidden)\n",
    "saved_dqn.load_state_dict(saved_model)\n",
    "t_r, num_success=test(saved_dqn)"
   ]
  },
  {
   "cell_type": "code",
   "execution_count": 19,
   "metadata": {},
   "outputs": [
    {
     "data": {
      "text/plain": [
       "-200.0"
      ]
     },
     "execution_count": 19,
     "metadata": {},
     "output_type": "execute_result"
    }
   ],
   "source": [
    "sum(t_r)/100"
   ]
  },
  {
   "cell_type": "code",
   "execution_count": 24,
   "metadata": {},
   "outputs": [
    {
     "data": {
      "text/plain": [
       "0"
      ]
     },
     "execution_count": 24,
     "metadata": {},
     "output_type": "execute_result"
    }
   ],
   "source": [
    "num_success"
   ]
  },
  {
   "cell_type": "code",
   "execution_count": 226,
   "metadata": {},
   "outputs": [],
   "source": [
    "env.close()"
   ]
  },
  {
   "cell_type": "code",
   "execution_count": 38,
   "metadata": {},
   "outputs": [
    {
     "data": {
      "text/plain": [
       "-199.422"
      ]
     },
     "execution_count": 38,
     "metadata": {},
     "output_type": "execute_result"
    }
   ],
   "source": [
    "sum(reward_history)/500"
   ]
  },
  {
   "cell_type": "code",
   "execution_count": 35,
   "metadata": {},
   "outputs": [
    {
     "data": {
      "text/plain": [
       "0"
      ]
     },
     "execution_count": 35,
     "metadata": {},
     "output_type": "execute_result"
    }
   ],
   "source": []
  },
  {
   "cell_type": "code",
   "execution_count": 71,
   "metadata": {},
   "outputs": [
    {
     "name": "stderr",
     "output_type": "stream",
     "text": [
      "100%|██████████| 500/500 [02:14<00:00,  3.72it/s]\n",
      "100%|██████████| 500/500 [02:05<00:00,  3.99it/s]\n",
      "100%|██████████| 500/500 [02:06<00:00,  3.98it/s]\n",
      "100%|██████████| 500/500 [02:03<00:00,  4.04it/s]\n",
      "100%|██████████| 500/500 [02:06<00:00,  3.96it/s]\n",
      "100%|██████████| 500/500 [02:09<00:00,  3.88it/s]\n",
      "100%|██████████| 500/500 [02:06<00:00,  3.96it/s]\n",
      "100%|██████████| 500/500 [02:04<00:00,  3.98it/s]\n",
      "100%|██████████| 500/500 [02:05<00:00,  4.00it/s]\n",
      "100%|██████████| 500/500 [02:11<00:00,  3.44it/s]\n",
      "100%|██████████| 500/500 [02:06<00:00,  3.95it/s]\n",
      "100%|██████████| 500/500 [02:05<00:00,  3.98it/s]\n",
      "100%|██████████| 500/500 [02:08<00:00,  3.90it/s]\n",
      "100%|██████████| 500/500 [02:05<00:00,  3.98it/s]\n",
      "100%|██████████| 500/500 [02:06<00:00,  3.96it/s]\n",
      "100%|██████████| 500/500 [02:06<00:00,  3.96it/s]\n",
      "100%|██████████| 500/500 [02:05<00:00,  3.93it/s]\n",
      "100%|██████████| 500/500 [02:06<00:00,  3.97it/s]\n",
      "100%|██████████| 500/500 [02:05<00:00,  3.99it/s]\n",
      "100%|██████████| 500/500 [02:06<00:00,  3.98it/s]\n",
      "100%|██████████| 500/500 [02:05<00:00,  3.97it/s]\n",
      "100%|██████████| 500/500 [02:05<00:00,  3.99it/s]\n",
      "100%|██████████| 500/500 [02:04<00:00,  4.00it/s]\n",
      "100%|██████████| 500/500 [02:04<00:00,  4.08it/s]\n",
      "100%|██████████| 500/500 [02:06<00:00,  3.95it/s]\n",
      "100%|██████████| 500/500 [02:05<00:00,  3.88it/s]\n",
      "100%|██████████| 500/500 [02:04<00:00,  4.00it/s]\n",
      "100%|██████████| 500/500 [02:05<00:00,  3.99it/s]\n",
      "100%|██████████| 500/500 [02:03<00:00,  4.06it/s]\n",
      "100%|██████████| 500/500 [02:06<00:00,  3.96it/s]\n"
     ]
    }
   ],
   "source": [
    "num_iter=30\n",
    "success_list=[]\n",
    "reward_list=[]\n",
    "for i in range(num_iter):\n",
    "    # Let's run it!\n",
    "    num_episodes = 500\n",
    "    batch_size = 64\n",
    "    discount_factor = 0.8\n",
    "    learn_rate = 1e-3\n",
    "    memory = ReplayMemory(40000)\n",
    "    num_hidden = 30\n",
    "   # seed = 42  # This is not randomly chosen\n",
    "\n",
    "    # We will seed the algorithm (before initializing QNetwork!) for reproducability\n",
    "#    random.seed(seed)\n",
    " #   torch.manual_seed(seed)\n",
    "  #  env.seed(seed)\n",
    "\n",
    "\n",
    "# MC = MOUNTAINCAR\n",
    "\n",
    "# Create DQNs\n",
    "\n",
    "    eval_dqn = QNetwork(num_hidden)\n",
    "    target_dqn = QNetwork(num_hidden)\n",
    "\n",
    "\n",
    "##model = QNetwork(num_hidden)\n",
    "\n",
    "    episode_durations, success, reward_history = run_episodes(train, eval_dqn,target_dqn, memory, env, num_episodes, batch_size, discount_factor, learn_rate)\n",
    "    success_list.append(success)\n",
    "    reward_list.append(reward_history)\n",
    "    "
   ]
  },
  {
   "cell_type": "code",
   "execution_count": 72,
   "metadata": {
    "scrolled": true
   },
   "outputs": [],
   "source": [
    "R_L=np.asarray(reward_list)"
   ]
  },
  {
   "cell_type": "code",
   "execution_count": 79,
   "metadata": {},
   "outputs": [],
   "source": [
    "reward_mean=np.mean(R_L, axis=0)\n",
    "upper_bound = np.max(R_L, axis=0)\n",
    "lower_bound = np.min(R_L, axis=0)"
   ]
  },
  {
   "cell_type": "code",
   "execution_count": 82,
   "metadata": {},
   "outputs": [
    {
     "data": {
      "image/png": "[encoded data removed]",
      "text/plain": [
       "<Figure size 432x288 with 1 Axes>"
      ]
     },
     "metadata": {
      "needs_background": "light"
     },
     "output_type": "display_data"
    }
   ],
   "source": [
    "fig, ax = plt.subplots(1)\n",
    "ax.plot(list(np.arange(500)), reward_mean, lw=2, color = 'r', label='mean')\n",
    "ax.fill_between(list(np.arange(500)), upper_bound, lower_bound, facecolor='blue', alpha=0.5)\n",
    "ax.legend()\n",
    "ax.set_xlabel('Num episode')\n",
    "ax.set_ylabel('Reward')\n",
    "ax.grid()\n",
    "\n"
   ]
  },
  {
   "cell_type": "code",
   "execution_count": 76,
   "metadata": {},
   "outputs": [
    {
     "data": {
      "text/plain": [
       "Text(0.5, 1.0, 'Success rate')"
      ]
     },
     "execution_count": 76,
     "metadata": {},
     "output_type": "execute_result"
    },
    {
     "data": {
      "image/png": "[encoded data removed]",
      "text/plain": [
       "<Figure size 432x288 with 1 Axes>"
      ]
     },
     "metadata": {
      "needs_background": "light"
     },
     "output_type": "display_data"
    }
   ],
   "source": [
    "plt.figure()\n",
    "plt.plot(success_list)\n",
    "plt.title('Success rate')"
   ]
  },
  {
   "cell_type": "code",
   "execution_count": null,
   "metadata": {},
   "outputs": [],
   "source": []
  },
  {
   "cell_type": "code",
   "execution_count": null,
   "metadata": {},
   "outputs": [],
   "source": []
  }
 ],
 "metadata": {
  "kernelspec": {
   "display_name": "Python 3",
   "language": "python",
   "name": "python3"
  },
  "language_info": {
   "codemirror_mode": {
    "name": "ipython",
    "version": 3
   },
   "file_extension": ".py",
   "mimetype": "text/x-python",
   "name": "python",
   "nbconvert_exporter": "python",
   "pygments_lexer": "ipython3",
   "version": "3.6.6"
  }
 },
 "nbformat": 4,
 "nbformat_minor": 2
}
